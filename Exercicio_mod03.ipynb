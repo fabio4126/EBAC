{
  "cells": [
    {
      "cell_type": "code",
      "execution_count": 2,
      "metadata": {
        "id": "q34JTYbBGRKE"
      },
      "outputs": [],
      "source": [
        "import numpy as np"
      ]
    },
    {
      "cell_type": "markdown",
      "metadata": {
        "id": "2k8hBwMWGRKH"
      },
      "source": [
        "### 1) Alturas  \n",
        "i. No trecho de código abaixo, crie um ndarray chamado ```altura_em_centimetros``` transformando a lista ```lista_de_alturas``` em um ndarray do numpy com a função ```np.array()```  \n",
        "ii. Crie um outro objeto ```altura em metros```, com os valores de ```altura_em_centimetros``` convertidos para metros."
      ]
    },
    {
      "cell_type": "code",
      "execution_count": 4,
      "metadata": {
        "id": "PXIWgCmGGRKM"
      },
      "outputs": [],
      "source": [
        "lista_de_centimetros = list(range(170, 190, 5))\n",
        "alturas_em_centimetros = lista_de_centimetros"
      ]
    },
    {
      "cell_type": "code",
      "execution_count": 5,
      "metadata": {
        "colab": {
          "base_uri": "https://localhost:8080/"
        },
        "id": "gn76l8PGGRKO",
        "outputId": "81c929bf-d1b2-4553-abdf-ca1fb2e4dba1"
      },
      "outputs": [
        {
          "output_type": "execute_result",
          "data": {
            "text/plain": [
              "array([170, 175, 180, 185])"
            ]
          },
          "metadata": {},
          "execution_count": 5
        }
      ],
      "source": [
        "altura_em_centimetros = np.array(alturas_em_centimetros)\n",
        "altura_em_centimetros"
      ]
    },
    {
      "cell_type": "code",
      "execution_count": 6,
      "metadata": {
        "colab": {
          "base_uri": "https://localhost:8080/"
        },
        "id": "2TyYxe5SGRKQ",
        "outputId": "988b3b28-e3b5-43c3-9be8-e929702416f3"
      },
      "outputs": [
        {
          "output_type": "execute_result",
          "data": {
            "text/plain": [
              "array([1.7 , 1.75, 1.8 , 1.85])"
            ]
          },
          "metadata": {},
          "execution_count": 6
        }
      ],
      "source": [
        "altura_em_metros = altura_em_centimetros / 100\n",
        "altura_em_metros"
      ]
    },
    {
      "cell_type": "markdown",
      "metadata": {
        "id": "x8NzPpg3GRKR"
      },
      "source": [
        "### 2) IMC  \n",
        "i. Considere que pesos em Kg dessas pessoas, na mesma ortem, estão na lista pesos ```lista_pesos = [70, 75, 80, 85]```. Crie um **ndarray** chamado ```pesos``` com a função ```np.array()``` que contenha esses valores.  \n",
        "ii. Utilizando o objeto que contém as alturas em metros e esse objeto que contém os respectivos pesos em quilos, calcule o IMC desses indivíduos utilizando a aritmética de arrays e guarde os resultados em um objeto chamado ```imc```."
      ]
    },
    {
      "cell_type": "code",
      "execution_count": 3,
      "metadata": {
        "colab": {
          "base_uri": "https://localhost:8080/"
        },
        "id": "b2TKF74lGRKT",
        "outputId": "ec37f609-c422-4f96-e74a-70b84139de19"
      },
      "outputs": [
        {
          "output_type": "execute_result",
          "data": {
            "text/plain": [
              "array([70, 75, 80, 85])"
            ]
          },
          "metadata": {},
          "execution_count": 3
        }
      ],
      "source": [
        "lista_pesos = [70, 75, 80, 85]\n",
        "# seu código aqui\n",
        "pesos = np.array(lista_pesos)\n",
        "pesos"
      ]
    },
    {
      "cell_type": "code",
      "execution_count": 10,
      "metadata": {
        "colab": {
          "base_uri": "https://localhost:8080/"
        },
        "id": "-x7XzP3QGRKV",
        "outputId": "6e3f7864-cc09-4994-d2e8-e74fb64477f0"
      },
      "outputs": [
        {
          "output_type": "stream",
          "name": "stdout",
          "text": [
            "[24.22145329 24.48979592 24.69135802 24.83564646]\n"
          ]
        }
      ],
      "source": [
        "# calcule o IMC dessas pessoas\n",
        "imc = pesos / altura_em_metros**2\n",
        "print(imc)"
      ]
    },
    {
      "cell_type": "markdown",
      "metadata": {
        "id": "ZupxL9_jGRKX"
      },
      "source": [
        "### 3) Endividamento\n",
        "\n",
        "Cálculos de novas variáveis como endividamento total e comprometimento de renda são essenciais para a construção de modelos financeiros em ciência de dados. Áreas não financeiras terão cálculos semelhantes também. Vamos praticar:\n",
        "\n",
        "Considere que o seguinte ndarray contém os dados de 4 pessoas, total a ser pago a empréstimos mensalmente e renda familiar:\n",
        "\n",
        "| custo fixo | dívida financeira | renda familiar |\n",
        "|:----:|:----:|:---|\n",
        "| 3000  | 1000 | 6000 |\n",
        "| 2500  | 2500 | 5500 |\n",
        "| 1000  | 3000 | 7000 |\n",
        "| 10000 | 5000 | 16000 |\n",
        "\n",
        "i. Transforme a lista de listas ```dados_financeiros``` no ndarray ```nd_financeiros```.\n",
        "> ``` dados_financeiros[[3000, 2500, 1000, 10000],[1000, 2500, 3000, 5000],[6000, 5500, 7000, 16000]] ```\n",
        "\n",
        "ii. Utilize o método ```.transpose ``` e certifique-se de que esse ndarray tenha uma linha por indivíduo e uma coluna por informação. Utilizando a indexação do numpy, imprima no output a segunda linha do array, depois a segunda coluna.\n",
        "\n",
        "iii. Pratique aritmética com nearrays e calcule o endividamento total como:\n",
        "$$endividamento\\hspace{.2cm}total = \\frac{custo \\hspace{.2cm}fixo + dívida\\hspace{.2cm}financeira}{renda\\hspace{.2cm}familiar}$$\n",
        "Guarde os resultados em uma variável chamada ```endividamento_total``` e verifique os resultados imprimindo o conteúdo dessa variável no output.\n",
        "\n",
        "iv. Considere que há um erro de digitação que precisa ser corrigido: 3o indivíduo na verdade não possui renda familiar de R\\\\$7.000,00, mas sim R\\\\$ 10.000,00. Corrija esse valor e refaça os cálculos."
      ]
    },
    {
      "cell_type": "code",
      "execution_count": 11,
      "metadata": {
        "colab": {
          "base_uri": "https://localhost:8080/"
        },
        "id": "rQkkzag9GRKZ",
        "outputId": "7341c407-4891-444f-ae80-4108bf08837f"
      },
      "outputs": [
        {
          "output_type": "execute_result",
          "data": {
            "text/plain": [
              "array([[ 3000,  2500,  1000, 10000],\n",
              "       [ 1000,  2500,  3000,  5000],\n",
              "       [ 6000,  5500,  7000, 16000]])"
            ]
          },
          "metadata": {},
          "execution_count": 11
        }
      ],
      "source": [
        "# lista dados_financeiros\n",
        "dados_financeiros = [[3000, 2500, 1000, 10000],[1000, 2500, 3000, 5000],[6000, 5500, 7000, 16000]]\n",
        "\n",
        "#i) transforme essa lista em um ndarray\n",
        "nd_financeiros = np.array(dados_financeiros)\n",
        "nd_financeiros"
      ]
    },
    {
      "cell_type": "code",
      "execution_count": 12,
      "metadata": {
        "id": "pA1jPMmAGRKc"
      },
      "outputs": [],
      "source": [
        "# ii) \n",
        "nd_financeiros = nd_financeiros.transpose()"
      ]
    },
    {
      "cell_type": "code",
      "execution_count": 13,
      "metadata": {
        "colab": {
          "base_uri": "https://localhost:8080/"
        },
        "id": "VTUsssMAGRKd",
        "outputId": "8671205a-990b-4988-e876-2b55d6eb53c1"
      },
      "outputs": [
        {
          "output_type": "execute_result",
          "data": {
            "text/plain": [
              "array([1000, 2500, 3000, 5000])"
            ]
          },
          "metadata": {},
          "execution_count": 13
        }
      ],
      "source": [
        "nd_financeiros[:,1]"
      ]
    },
    {
      "cell_type": "code",
      "execution_count": 14,
      "metadata": {
        "colab": {
          "base_uri": "https://localhost:8080/"
        },
        "id": "SbvkqxrgGRKd",
        "outputId": "4b2db0d1-a277-4fd6-9378-f6c835f797cc"
      },
      "outputs": [
        {
          "output_type": "execute_result",
          "data": {
            "text/plain": [
              "array([2500, 2500, 5500])"
            ]
          },
          "metadata": {},
          "execution_count": 14
        }
      ],
      "source": [
        "nd_financeiros[1,:]"
      ]
    },
    {
      "cell_type": "code",
      "execution_count": 15,
      "metadata": {
        "colab": {
          "base_uri": "https://localhost:8080/"
        },
        "id": "pSvxqHYyGRKe",
        "outputId": "04ae03b8-8671-4c9f-f630-c06a2521aef4"
      },
      "outputs": [
        {
          "output_type": "execute_result",
          "data": {
            "text/plain": [
              "array([0.66666667, 0.90909091, 0.57142857, 0.9375    ])"
            ]
          },
          "metadata": {},
          "execution_count": 15
        }
      ],
      "source": [
        "# iii) Calcule o endividamento total\n",
        "endividamento_total = (nd_financeiros[:,0] + nd_financeiros[:,1]) / nd_financeiros[:,2]\n",
        "endividamento_total"
      ]
    },
    {
      "cell_type": "code",
      "execution_count": 16,
      "metadata": {
        "colab": {
          "base_uri": "https://localhost:8080/"
        },
        "id": "FAYAmWcYGRKf",
        "outputId": "b449bd2a-149b-431e-ecfd-9064168a5c5c"
      },
      "outputs": [
        {
          "output_type": "execute_result",
          "data": {
            "text/plain": [
              "array([[ 3000,  1000,  6000],\n",
              "       [ 2500,  2500,  5500],\n",
              "       [ 1000,  3000, 10000],\n",
              "       [10000,  5000, 16000]])"
            ]
          },
          "metadata": {},
          "execution_count": 16
        }
      ],
      "source": [
        "# iv) corrigindo um valor específico\n",
        "nd_financeiros[2,2] = 10000\n",
        "nd_financeiros"
      ]
    },
    {
      "cell_type": "code",
      "execution_count": null,
      "metadata": {
        "id": "EJKEkR1iGRKf",
        "outputId": "acbd4a1e-7ea8-4afd-ed13-16fe76480796"
      },
      "outputs": [
        {
          "data": {
            "text/plain": [
              "array([0.66666667, 0.90909091, 0.4       , 0.9375    ])"
            ]
          },
          "execution_count": 142,
          "metadata": {},
          "output_type": "execute_result"
        }
      ],
      "source": [
        "endividamento_total = (nd_financeiros[:,0] + nd_financeiros[:,1]) / nd_financeiros[:,2]\n",
        "endividamento_total"
      ]
    },
    {
      "cell_type": "markdown",
      "metadata": {
        "id": "pHTlmoUOGRKg"
      },
      "source": [
        "### 4) É muito comum precisarmos identificar valores especiais e darmos tratamento a eles quer seja alterando-os quer seja descartando-os. \n",
        "\n",
        "O trecho de código abaixo gera um ndarray com números pseudo aleatórios. Considere que para efeitos do estudo que virá, devemos desconsiderar valores iguais a zero. Sendo assim:\n",
        "\n",
        "i) crie um objeto ```bool_zero``` que traga uma sequencia de booleanos do mesmo tamanho que o objeto poi, e que vale ```True``` quando o valor de ```poi``` é zero, e ```False``` caso contrário.\n",
        "\n",
        "ii) Conte quantos valores zero existem. Lembre-se de que no final das contas, ```True``` vale 1 para o Python, e ```False``` vale zero, então uma boa dica seria usar a função ```sum()```.\n",
        "\n",
        "iii) Utilize a indexação booleana que você aprendeu para criar uma variável ```poi_nao_zero``` que aponta para os elementos de ```poi``` diferentes de zero. Dica: você vai pode inverter os elementos do objeto que criou em *ii)* ou escrever a comparação adequada."
      ]
    },
    {
      "cell_type": "code",
      "execution_count": 18,
      "metadata": {
        "colab": {
          "base_uri": "https://localhost:8080/"
        },
        "id": "pmCf-mSHGRKh",
        "outputId": "d1cd6d57-98a0-4c98-c797-6b530396617d"
      },
      "outputs": [
        {
          "output_type": "execute_result",
          "data": {
            "text/plain": [
              "array([3, 3, 6, 2, 4, 5, 4, 4, 2, 0, 3, 3, 2, 8, 2, 3, 3, 3, 0, 4, 4, 2,\n",
              "       6, 6, 0, 3, 4, 3, 5, 2, 1, 3, 2, 2, 3, 2, 4, 4, 5, 7, 3, 5, 3, 3,\n",
              "       2, 2, 3, 6, 2, 2, 4, 3, 5, 2, 5, 3, 0, 2, 1, 1, 4, 4, 4, 6, 2, 4,\n",
              "       1, 2, 5, 5, 3, 4, 1, 4, 1, 1, 7, 1, 2, 1, 3, 7, 0, 4, 4, 0, 6, 1,\n",
              "       3, 4, 2, 5, 4, 5, 5, 3, 4, 6, 8, 2])"
            ]
          },
          "metadata": {},
          "execution_count": 18
        }
      ],
      "source": [
        "# objeto poi - obs: o comando np.random.seed(1234) garante que o mesmo resultado será gerado sempre\n",
        "np.random.seed(1234)\n",
        "poi = np.random.poisson(3, 100)\n",
        "poi"
      ]
    },
    {
      "cell_type": "code",
      "execution_count": 19,
      "metadata": {
        "colab": {
          "base_uri": "https://localhost:8080/"
        },
        "id": "DpBN6MlEGRKh",
        "outputId": "c1d84619-0b40-473a-86b2-d1e55a99f669"
      },
      "outputs": [
        {
          "output_type": "execute_result",
          "data": {
            "text/plain": [
              "array([False, False, False, False, False, False, False, False, False,\n",
              "        True, False, False, False, False, False, False, False, False,\n",
              "        True, False, False, False, False, False,  True, False, False,\n",
              "       False, False, False, False, False, False, False, False, False,\n",
              "       False, False, False, False, False, False, False, False, False,\n",
              "       False, False, False, False, False, False, False, False, False,\n",
              "       False, False,  True, False, False, False, False, False, False,\n",
              "       False, False, False, False, False, False, False, False, False,\n",
              "       False, False, False, False, False, False, False, False, False,\n",
              "       False,  True, False, False,  True, False, False, False, False,\n",
              "       False, False, False, False, False, False, False, False, False,\n",
              "       False])"
            ]
          },
          "metadata": {},
          "execution_count": 19
        }
      ],
      "source": [
        "# i) crie o objeto bool_zero através do operador ==\n",
        "bool_zero = poi == 0\n",
        "bool_zero"
      ]
    },
    {
      "cell_type": "code",
      "execution_count": 20,
      "metadata": {
        "colab": {
          "base_uri": "https://localhost:8080/"
        },
        "id": "LNGDtVIzGRKh",
        "outputId": "352af33f-5ef4-491f-a20b-a8a146c0bec5"
      },
      "outputs": [
        {
          "output_type": "execute_result",
          "data": {
            "text/plain": [
              "6"
            ]
          },
          "metadata": {},
          "execution_count": 20
        }
      ],
      "source": [
        "# ii) Conte a quantidade de zeros (ou some os elementos de bool_zero)\n",
        "sum(bool_zero)"
      ]
    },
    {
      "cell_type": "code",
      "execution_count": 21,
      "metadata": {
        "colab": {
          "base_uri": "https://localhost:8080/"
        },
        "id": "2lptq16-GRKi",
        "outputId": "eedc3370-b2d4-48c1-ef42-01b236803d32"
      },
      "outputs": [
        {
          "output_type": "execute_result",
          "data": {
            "text/plain": [
              "array([3, 3, 6, 2, 4, 5, 4, 4, 2, 3, 3, 2, 8, 2, 3, 3, 3, 4, 4, 2, 6, 6,\n",
              "       3, 4, 3, 5, 2, 1, 3, 2, 2, 3, 2, 4, 4, 5, 7, 3, 5, 3, 3, 2, 2, 3,\n",
              "       6, 2, 2, 4, 3, 5, 2, 5, 3, 2, 1, 1, 4, 4, 4, 6, 2, 4, 1, 2, 5, 5,\n",
              "       3, 4, 1, 4, 1, 1, 7, 1, 2, 1, 3, 7, 4, 4, 6, 1, 3, 4, 2, 5, 4, 5,\n",
              "       5, 3, 4, 6, 8, 2])"
            ]
          },
          "metadata": {},
          "execution_count": 21
        }
      ],
      "source": [
        "# iii) utilize a indexação booleana para criar uma seleção de não-zeros\n",
        "# dica: inverta o objeto bool_zero\n",
        "poi_nao_zero = poi[~bool_zero]\n",
        "poi_nao_zero"
      ]
    }
  ],
  "metadata": {
    "kernelspec": {
      "display_name": "Python 3",
      "language": "python",
      "name": "python3"
    },
    "language_info": {
      "codemirror_mode": {
        "name": "ipython",
        "version": 3
      },
      "file_extension": ".py",
      "mimetype": "text/x-python",
      "name": "python",
      "nbconvert_exporter": "python",
      "pygments_lexer": "ipython3",
      "version": "3.8.8"
    },
    "colab": {
      "name": "Exercicio_mod03.ipynb",
      "provenance": []
    }
  },
  "nbformat": 4,
  "nbformat_minor": 0
}