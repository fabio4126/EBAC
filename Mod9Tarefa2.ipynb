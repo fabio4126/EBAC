{
 "cells": [
  {
   "cell_type": "markdown",
   "metadata": {},
   "source": [
    "# Livro para consulta:\n",
    "- https://jakevdp.github.io/PythonDataScienceHandbook/03.08-aggregation-and-grouping.html\n",
    "- https://jakevdp.github.io/PythonDataScienceHandbook/03.09-pivot-tables.html\n",
    "    "
   ]
  },
  {
   "cell_type": "markdown",
   "metadata": {},
   "source": [
    "# 1. Importando bibliotecas <a name=\"import\"></a>\n",
    "\n",
    "<div style=\"text-align: right\"\n",
    "     \n",
    "[Voltar ao índice](#Contents)"
   ]
  },
  {
   "cell_type": "code",
   "execution_count": null,
   "metadata": {
    "ExecuteTime": {
     "end_time": "2021-06-06T21:12:37.298706Z",
     "start_time": "2021-06-06T21:12:36.656481Z"
    }
   },
   "outputs": [],
   "source": [
    "import numpy as np\n",
    "import pandas as pd\n",
    "import seaborn as sns\n",
    "import matplotlib.pyplot as plt\n",
    "\n",
    "%matplotlib inline"
   ]
  },
  {
   "cell_type": "markdown",
   "metadata": {},
   "source": [
    "# 2. Carregando o dataframe SINASC <a name=\"read\"></a>\n",
    "<div style=\"text-align: right\"\n",
    "     \n",
    "[Voltar ao índice](#Contents)"
   ]
  },
  {
   "cell_type": "code",
   "execution_count": null,
   "metadata": {
    "ExecuteTime": {
     "end_time": "2021-06-06T21:12:37.762376Z",
     "start_time": "2021-06-06T21:12:37.728383Z"
    }
   },
   "outputs": [],
   "source": [
    "sinasc = pd.read_csv('sinasc.csv')\n"
   ]
  },
  {
   "cell_type": "code",
   "execution_count": null,
   "metadata": {},
   "outputs": [],
   "source": [
    "sinasc.head()"
   ]
  },
  {
   "cell_type": "code",
   "execution_count": null,
   "metadata": {},
   "outputs": [],
   "source": [
    "sinasc.info()"
   ]
  },
  {
   "cell_type": "markdown",
   "metadata": {},
   "source": [
    "# Tarefa 2"
   ]
  },
  {
   "cell_type": "markdown",
   "metadata": {},
   "source": [
    "### 1. Crie 2 faixas de Latitude do município (munResLat) sendo uma acima e outra abaixo de -10.5 e aplique o groupby usando essas faixas como chave e realize operações de soma, media, minimo, maximo, mediana, desvio padrao, variancia pra pelo menos 2 variáveis numéricas ainda não utilizadas"
   ]
  },
  {
   "cell_type": "code",
   "execution_count": null,
   "metadata": {},
   "outputs": [],
   "source": [
    "sinasc['Faixa_Lat'] = None"
   ]
  },
  {
   "cell_type": "code",
   "execution_count": null,
   "metadata": {},
   "outputs": [],
   "source": [
    "sinasc.loc[sinasc['munResLat']>(-10.5),'Faixa_Lat']='Acima'\n",
    "sinasc.loc[sinasc['munResLat']<(-10.5),'Faixa_Lat']='Abaixo'"
   ]
  },
  {
   "cell_type": "code",
   "execution_count": null,
   "metadata": {},
   "outputs": [],
   "source": [
    "sinasc.groupby('Faixa_Lat')['QTDFILMORT'].agg(['sum','mean','min',max,'median','std','var'])"
   ]
  },
  {
   "cell_type": "code",
   "execution_count": null,
   "metadata": {},
   "outputs": [],
   "source": [
    "sinasc.groupby('Faixa_Lat')['CONSULTAS'].agg(['sum','mean','min',max,'median','std','var'])"
   ]
  },
  {
   "cell_type": "markdown",
   "metadata": {},
   "source": [
    "### 2. Crie 2 faixas da área dos municípios (munResArea) sendo uma acima e outra abaixo de 3000 e aplique o groupby usando essas faixas como chave e realize operações de soma, media, minimo, maximo, mediana, desvio padrao, variancia pra pelo menos 2 variáveis numéricas ainda não utilizadas\n"
   ]
  },
  {
   "cell_type": "code",
   "execution_count": null,
   "metadata": {},
   "outputs": [],
   "source": [
    "sinasc['Faixa_Area'] = None\n",
    "\n",
    "sinasc.loc[sinasc['munResArea']>(3000),'Faixa_Area']='Acima'\n",
    "\n",
    "sinasc.loc[sinasc['munResArea']<(3000),'Faixa_Area']='Abaixo'"
   ]
  },
  {
   "cell_type": "code",
   "execution_count": null,
   "metadata": {},
   "outputs": [],
   "source": [
    "sinasc.groupby('Faixa_Area')['IDADEPAI'].agg(['sum','mean','min',max,'median','std','var'])"
   ]
  },
  {
   "cell_type": "code",
   "execution_count": null,
   "metadata": {},
   "outputs": [],
   "source": [
    "sinasc.groupby('Faixa_Area')['PESO'].agg(['sum','mean','min',max,'median','std','var'])"
   ]
  },
  {
   "cell_type": "markdown",
   "metadata": {},
   "source": [
    "### 3. Determine faixas na variável munResAlt e aplique o groupby usando essas faixas como chave e realize operações de soma, media, minimo, maximo, mediana, desvio padrao, variancia pra pelo menos 2 variáveis numéricas ainda não utilizadas"
   ]
  },
  {
   "cell_type": "code",
   "execution_count": null,
   "metadata": {},
   "outputs": [],
   "source": [
    "sinasc['Faixa_Alt']=None"
   ]
  },
  {
   "cell_type": "code",
   "execution_count": null,
   "metadata": {},
   "outputs": [],
   "source": [
    "sinasc.loc[sinasc['munResAlt']<=(100),'Faixa_Alt']='Até 100'\n",
    "\n",
    "sinasc.loc[(sinasc['munResAlt']>100)&(sinasc['munResAlt']<=200),'Faixa_Alt']='Entre 100 a 200'\n",
    "sinasc.loc[(sinasc['munResAlt']>200)&(sinasc['munResAlt']<=300),'Faixa_Alt']='Entre 200 a 300'\n",
    "sinasc.loc[(sinasc['munResAlt']>300),'Faixa_Alt']='Maior que 300'"
   ]
  },
  {
   "cell_type": "code",
   "execution_count": null,
   "metadata": {},
   "outputs": [],
   "source": [
    "sinasc.groupby('Faixa_Alt')['QTDFILVIVO'].agg(['sum','mean','min',max,'median','std','var'])"
   ]
  },
  {
   "cell_type": "code",
   "execution_count": null,
   "metadata": {},
   "outputs": [],
   "source": [
    "sinasc.groupby('Faixa_Alt')['QTDFILMORT'].agg(['sum','mean','min',max,'median','std','var'])"
   ]
  },
  {
   "cell_type": "markdown",
   "metadata": {},
   "source": [
    "### 4. Plote no mesmo grafico ao longo do tempo a idade media das mulheres de cada regiao imediatas de rondonia\n",
    "https://pt.wikipedia.org/wiki/Lista_de_regi%C3%B5es_geogr%C3%A1ficas_intermedi%C3%A1rias_e_imediatas_de_Rond%C3%B4nia"
   ]
  },
  {
   "cell_type": "code",
   "execution_count": null,
   "metadata": {},
   "outputs": [],
   "source": [
    "sinasc['Reg_Imediata'] = None\n",
    "\n",
    "imediatas={'Candeias do Jamari':'Porto Velho','Guajará-Mirim':'Porto Velho','Itapuã do Oeste':'Porto Velho',\n",
    "           'Nova Mamoré':'Porto Velho','Porto Velho':'Porto Velho',\n",
    "          'Alto Paraíso':'Ariquemes','Ariquemes':'Ariquemes','Buritis':'Ariquemes'\n",
    "        ,'Cacaulândia':'Ariquemes','Campo Novo de Rondônia':'Ariquemes','Cujubim':'Ariquemes'\n",
    "            ,'Monte Negro':'Ariquemes','Rio Crespo':'Ariquemes',\n",
    "           'Governador Jorge Teixeira':'Jaru','Jaru':'Jaru'\n",
    "            ,\"Machadinho D'Oeste\":'Jaru','Theobroma':'Jaru','Vale do Anari':'Jaru',\n",
    "           \"Alvorada D'Oeste\":'Ji Parana','Costa Marques':'Ji Parana','Ji-Paraná':'Ji Parana'\n",
    "            ,'Mirante da Serra':'Ji Parana','Nova União':'Ji Parana','Ouro Preto do Oeste':'Ji Parana'\n",
    "            ,'Presidente Médici':'Ji Parana','São Francisco do Guaporé':'Ji Parana'\n",
    "           ,'São Miguel do Guaporé':'Ji Parana','Seringueiras':'Ji Parana','Teixeirópolis':'Ji Parana',\n",
    "           'Urupá':'Ji Parana','Vale do Paraíso':'Ji Parana',\n",
    "           \"Alta Floresta d'Oeste\":'Cacoal','Alto Alegre dos Parecis':'Cacoal','Cacoal':'Cacoal'\n",
    "            ,'Castanheiras':'Cacoal',\"Espigão D'Oeste\":'Cacoal','Ministro Andreazza':'Cacoal'\n",
    "            ,\"Nova Brasilândia D'Oeste\":'Cacoal','Novo Horizonte do Oeste':'Cacoal',\n",
    "            'Parecis':'Cacoal','Pimenta Bueno':'Cacoal','Primavera de Rondônia':'Cacoal'\n",
    "            ,'Rolim de Moura':'Cacoal',\"Santa Luzia D'Oeste\":'Cacoal',\"São Felipe D'Oeste\":'Cacoal'\n",
    "          }"
   ]
  },
  {
   "cell_type": "code",
   "execution_count": null,
   "metadata": {},
   "outputs": [],
   "source": [
    "df2 = sinasc.set_index('munResNome')"
   ]
  },
  {
   "cell_type": "code",
   "execution_count": null,
   "metadata": {},
   "outputs": [],
   "source": [
    "df3 = df2.groupby(imediatas)['IDADEMAE'].mean()"
   ]
  },
  {
   "cell_type": "code",
   "execution_count": null,
   "metadata": {
    "scrolled": true
   },
   "outputs": [],
   "source": [
    "df3.plot(figsize=[18, 6])\n",
    "plt.ylabel('Media de Idade Mãe');"
   ]
  },
  {
   "cell_type": "markdown",
   "metadata": {},
   "source": [
    "### 5. Utilize a tabela do link abaixo e crie faixas utilizando o mapping e gere agrupamentos utilizando essas faixas como chave\n"
   ]
  },
  {
   "cell_type": "markdown",
   "metadata": {},
   "source": [
    "### 5.1 IDH\n",
    "A - https://pt.wikipedia.org/wiki/Lista_de_munic%C3%ADpios_de_Rond%C3%B4nia_por_IDH-M\n"
   ]
  },
  {
   "cell_type": "code",
   "execution_count": null,
   "metadata": {},
   "outputs": [],
   "source": [
    "import requests\n",
    "from bs4 import BeautifulSoup"
   ]
  },
  {
   "cell_type": "code",
   "execution_count": null,
   "metadata": {},
   "outputs": [],
   "source": [
    "url='https://pt.wikipedia.org/wiki/Lista_de_munic%C3%ADpios_de_Rond%C3%B4nia_por_IDH-M'\n",
    "table_class=\"wikitable sortable jquery-tablesorter\"\n",
    "resposta=requests.get(url)\n",
    "print(resposta.status_code)"
   ]
  },
  {
   "cell_type": "code",
   "execution_count": null,
   "metadata": {},
   "outputs": [],
   "source": [
    "soup = BeautifulSoup(resposta.text, 'html.parser')\n",
    "tabela=soup.find('table',{'class':\"wikitable\"})\n",
    "df = pd.read_html(str(tabela))\n",
    "df = pd.DataFrame(df[0])\n"
   ]
  },
  {
   "cell_type": "code",
   "execution_count": null,
   "metadata": {},
   "outputs": [],
   "source": [
    "df.head()"
   ]
  },
  {
   "cell_type": "code",
   "execution_count": null,
   "metadata": {},
   "outputs": [],
   "source": [
    "df.drop(index=57,inplace=True)\n",
    "df.drop(index=56,inplace=True)\n",
    "df.drop(index=0,inplace=True)\n",
    "df.reset_index(drop=True,inplace=True)\n",
    "df.columns = df.columns.droplevel(2)\n",
    "df.columns = df.columns.droplevel(0)\n",
    "df['Tipo_IDH']=None"
   ]
  },
  {
   "cell_type": "code",
   "execution_count": null,
   "metadata": {},
   "outputs": [],
   "source": [
    "df.loc[(df['Posição']=='IDH-M alto'),'Posição']=0\n",
    "df.loc[(df['Posição']=='IDH-M médio'),'Posição']=0\n",
    "df.loc[(df['Posição']=='IDH-M baixo'),'Posição']=0"
   ]
  },
  {
   "cell_type": "code",
   "execution_count": null,
   "metadata": {},
   "outputs": [],
   "source": [
    "df.Posição = df.Posição.astype(int)"
   ]
  },
  {
   "cell_type": "code",
   "execution_count": null,
   "metadata": {},
   "outputs": [],
   "source": [
    "df.loc[(df['Posição']>=1)&(df['Posição']<=7),'Tipo_IDH']='Alto'\n",
    "df.loc[(df['Posição']>7)&(df['Posição']<=43),'Tipo_IDH']='Medio'\n",
    "df.loc[(df['Posição']>=44)&(df['Posição']<=52),'Tipo_IDH']='Baixo'"
   ]
  },
  {
   "cell_type": "code",
   "execution_count": null,
   "metadata": {},
   "outputs": [],
   "source": [
    "df.dropna(inplace=True)"
   ]
  },
  {
   "cell_type": "code",
   "execution_count": null,
   "metadata": {},
   "outputs": [],
   "source": [
    "df.groupby('Tipo_IDH')['Município'].count()"
   ]
  },
  {
   "cell_type": "markdown",
   "metadata": {},
   "source": [
    "### 5.2 IFDM \n",
    "B - https://pt.wikipedia.org/wiki/Lista_de_munic%C3%ADpios_de_Rond%C3%B4nia_por_IFDM\n"
   ]
  },
  {
   "cell_type": "code",
   "execution_count": null,
   "metadata": {},
   "outputs": [],
   "source": [
    "url=' https://pt.wikipedia.org/wiki/Lista_de_munic%C3%ADpios_de_Rond%C3%B4nia_por_IFDM'\n",
    "table_class=\"wikitable sortable jquery-tablesorter\"\n",
    "resposta=requests.get(url)\n",
    "print(resposta.status_code)"
   ]
  },
  {
   "cell_type": "code",
   "execution_count": null,
   "metadata": {},
   "outputs": [],
   "source": [
    "soup = BeautifulSoup(resposta.text, 'html.parser')\n",
    "tabela=soup.find('table',{'class':\"wikitable\"})\n",
    "df = pd.read_html(str(tabela))\n",
    "df = pd.DataFrame(df[0])\n"
   ]
  },
  {
   "cell_type": "code",
   "execution_count": null,
   "metadata": {},
   "outputs": [],
   "source": [
    "df.head(50)"
   ]
  },
  {
   "cell_type": "code",
   "execution_count": null,
   "metadata": {},
   "outputs": [],
   "source": [
    "df.drop(index=56,inplace=True)\n",
    "df.drop(index=55,inplace=True)\n",
    "df.drop(index=1,inplace=True)\n",
    "df.drop(index=0,inplace=True)\n",
    "df.reset_index(drop=True,inplace=True)\n",
    "df.columns = df.columns.droplevel(1)\n",
    "df['Tipo_Desenvolvimento']=None"
   ]
  },
  {
   "cell_type": "code",
   "execution_count": null,
   "metadata": {},
   "outputs": [],
   "source": [
    "df.loc[(df['Posição']=='Desenvolvimento regular'),'Posição']=0\n",
    "df.loc[(df['Posição']=='Desenvolvimento moderado'),'Posição']=0"
   ]
  },
  {
   "cell_type": "code",
   "execution_count": null,
   "metadata": {},
   "outputs": [],
   "source": [
    "n=1\n",
    "for item in df['Posição']:\n",
    "    i = str(n)+'º'\n",
    "    df['Posição'] = df['Posição'].replace(i,n)\n",
    "    n = n+1"
   ]
  },
  {
   "cell_type": "code",
   "execution_count": null,
   "metadata": {},
   "outputs": [],
   "source": [
    "df.Posição = df.Posição.astype(int)"
   ]
  },
  {
   "cell_type": "code",
   "execution_count": null,
   "metadata": {},
   "outputs": [],
   "source": [
    "df.loc[(df['Posição']>=1)&(df['Posição']<=26),'Tipo_Desenvolvimento']='Moderado'\n",
    "df.loc[(df['Posição']>26),'Tipo_Desenvolvimento']='Regular'\n"
   ]
  },
  {
   "cell_type": "code",
   "execution_count": null,
   "metadata": {},
   "outputs": [],
   "source": [
    "df.dropna(inplace=True)"
   ]
  },
  {
   "cell_type": "code",
   "execution_count": null,
   "metadata": {},
   "outputs": [],
   "source": [
    "df.groupby('Tipo_Desenvolvimento')['Município'].count()"
   ]
  },
  {
   "cell_type": "markdown",
   "metadata": {},
   "source": [
    "### 5.3 PIB\n",
    "C - https://pt.wikipedia.org/wiki/Lista_de_munic%C3%ADpios_de_Rond%C3%B4nia_por_PIB\n"
   ]
  },
  {
   "cell_type": "markdown",
   "metadata": {},
   "source": [
    "### Analise as respostas encontradas, tire algum insight delas, conte pra gente algo encontrado nos dados."
   ]
  },
  {
   "cell_type": "markdown",
   "metadata": {},
   "source": [
    "Exemplo:\n",
    "- Ah, descobri que a idade mediana das mulheres que deram a luz no ano de 2019 dos municipios com o PIB mais alto é a maior dentre todas."
   ]
  },
  {
   "cell_type": "markdown",
   "metadata": {},
   "source": [
    " - Metade dos municipios do estado possuem um IFDM moderado.\n",
    " - As 5 cidades mais populosas possuem um IDH alto\n",
    " - A média de consultas nas regiões de alta e baixa latitude são parecidas o que é bem interessante visto que algumas dessas regiões são de acesso dificil.\n",
    " - A média de idade das mulheres nas cidades mais populosas é bem próxima."
   ]
  }
 ],
 "metadata": {
  "kernelspec": {
   "display_name": "Python 3",
   "language": "python",
   "name": "python3"
  },
  "language_info": {
   "codemirror_mode": {
    "name": "ipython",
    "version": 3
   },
   "file_extension": ".py",
   "mimetype": "text/x-python",
   "name": "python",
   "nbconvert_exporter": "python",
   "pygments_lexer": "ipython3",
   "version": "3.8.8"
  },
  "varInspector": {
   "cols": {
    "lenName": 16,
    "lenType": 16,
    "lenVar": 40
   },
   "kernels_config": {
    "python": {
     "delete_cmd_postfix": "",
     "delete_cmd_prefix": "del ",
     "library": "var_list.py",
     "varRefreshCmd": "print(var_dic_list())"
    },
    "r": {
     "delete_cmd_postfix": ") ",
     "delete_cmd_prefix": "rm(",
     "library": "var_list.r",
     "varRefreshCmd": "cat(var_dic_list()) "
    }
   },
   "types_to_exclude": [
    "module",
    "function",
    "builtin_function_or_method",
    "instance",
    "_Feature"
   ],
   "window_display": false
  }
 },
 "nbformat": 4,
 "nbformat_minor": 4
}
