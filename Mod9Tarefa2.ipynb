{
 "cells": [
  {
   "cell_type": "markdown",
   "metadata": {},
   "source": [
    "# Livro para consulta:\n",
    "- https://jakevdp.github.io/PythonDataScienceHandbook/03.08-aggregation-and-grouping.html\n",
    "- https://jakevdp.github.io/PythonDataScienceHandbook/03.09-pivot-tables.html\n",
    "    "
   ]
  },
  {
   "cell_type": "markdown",
   "metadata": {},
   "source": [
    "# 1. Importando bibliotecas <a name=\"import\"></a>\n",
    "\n",
    "<div style=\"text-align: right\"\n",
    "     \n",
    "[Voltar ao índice](#Contents)"
   ]
  },
  {
   "cell_type": "code",
   "execution_count": 1,
   "metadata": {
    "ExecuteTime": {
     "end_time": "2021-06-06T21:12:37.298706Z",
     "start_time": "2021-06-06T21:12:36.656481Z"
    }
   },
   "outputs": [],
   "source": [
    "import numpy as np\n",
    "import pandas as pd\n",
    "import seaborn as sns\n",
    "import matplotlib.pyplot as plt\n",
    "\n",
    "%matplotlib inline"
   ]
  },
  {
   "cell_type": "markdown",
   "metadata": {},
   "source": [
    "# 2. Carregando o dataframe SINASC <a name=\"read\"></a>\n",
    "<div style=\"text-align: right\"\n",
    "     \n",
    "[Voltar ao índice](#Contents)"
   ]
  },
  {
   "cell_type": "code",
   "execution_count": 2,
   "metadata": {
    "ExecuteTime": {
     "end_time": "2021-06-06T21:12:37.762376Z",
     "start_time": "2021-06-06T21:12:37.728383Z"
    }
   },
   "outputs": [],
   "source": [
    "sinasc = pd.read_csv('sinasc.csv')\n"
   ]
  },
  {
   "cell_type": "code",
   "execution_count": 3,
   "metadata": {
    "collapsed": true
   },
   "outputs": [
    {
     "data": {
      "text/html": [
       "<div>\n",
       "<style scoped>\n",
       "    .dataframe tbody tr th:only-of-type {\n",
       "        vertical-align: middle;\n",
       "    }\n",
       "\n",
       "    .dataframe tbody tr th {\n",
       "        vertical-align: top;\n",
       "    }\n",
       "\n",
       "    .dataframe thead th {\n",
       "        text-align: right;\n",
       "    }\n",
       "</style>\n",
       "<table border=\"1\" class=\"dataframe\">\n",
       "  <thead>\n",
       "    <tr style=\"text-align: right;\">\n",
       "      <th></th>\n",
       "      <th>ORIGEM</th>\n",
       "      <th>CODESTAB</th>\n",
       "      <th>CODMUNNASC</th>\n",
       "      <th>LOCNASC</th>\n",
       "      <th>IDADEMAE</th>\n",
       "      <th>ESTCIVMAE</th>\n",
       "      <th>ESCMAE</th>\n",
       "      <th>CODOCUPMAE</th>\n",
       "      <th>QTDFILVIVO</th>\n",
       "      <th>QTDFILMORT</th>\n",
       "      <th>...</th>\n",
       "      <th>KOTELCHUCK</th>\n",
       "      <th>CONTADOR</th>\n",
       "      <th>munResStatus</th>\n",
       "      <th>munResTipo</th>\n",
       "      <th>munResNome</th>\n",
       "      <th>munResUf</th>\n",
       "      <th>munResLat</th>\n",
       "      <th>munResLon</th>\n",
       "      <th>munResAlt</th>\n",
       "      <th>munResArea</th>\n",
       "    </tr>\n",
       "  </thead>\n",
       "  <tbody>\n",
       "    <tr>\n",
       "      <th>0</th>\n",
       "      <td>1</td>\n",
       "      <td>2679477.0</td>\n",
       "      <td>110001</td>\n",
       "      <td>1</td>\n",
       "      <td>19</td>\n",
       "      <td>5.0</td>\n",
       "      <td>8 a 11 anos</td>\n",
       "      <td>NaN</td>\n",
       "      <td>0.0</td>\n",
       "      <td>0.0</td>\n",
       "      <td>...</td>\n",
       "      <td>5</td>\n",
       "      <td>1</td>\n",
       "      <td>ATIVO</td>\n",
       "      <td>MUNIC</td>\n",
       "      <td>Alta Floresta D'Oeste</td>\n",
       "      <td>Rondônia</td>\n",
       "      <td>-11.93554</td>\n",
       "      <td>-61.99982</td>\n",
       "      <td>338.0</td>\n",
       "      <td>7067.025</td>\n",
       "    </tr>\n",
       "    <tr>\n",
       "      <th>1</th>\n",
       "      <td>1</td>\n",
       "      <td>2679477.0</td>\n",
       "      <td>110001</td>\n",
       "      <td>1</td>\n",
       "      <td>29</td>\n",
       "      <td>2.0</td>\n",
       "      <td>8 a 11 anos</td>\n",
       "      <td>999992.0</td>\n",
       "      <td>1.0</td>\n",
       "      <td>0.0</td>\n",
       "      <td>...</td>\n",
       "      <td>5</td>\n",
       "      <td>2</td>\n",
       "      <td>ATIVO</td>\n",
       "      <td>MUNIC</td>\n",
       "      <td>Alta Floresta D'Oeste</td>\n",
       "      <td>Rondônia</td>\n",
       "      <td>-11.93554</td>\n",
       "      <td>-61.99982</td>\n",
       "      <td>338.0</td>\n",
       "      <td>7067.025</td>\n",
       "    </tr>\n",
       "    <tr>\n",
       "      <th>2</th>\n",
       "      <td>1</td>\n",
       "      <td>2679477.0</td>\n",
       "      <td>110001</td>\n",
       "      <td>1</td>\n",
       "      <td>37</td>\n",
       "      <td>9.0</td>\n",
       "      <td>8 a 11 anos</td>\n",
       "      <td>513205.0</td>\n",
       "      <td>2.0</td>\n",
       "      <td>0.0</td>\n",
       "      <td>...</td>\n",
       "      <td>5</td>\n",
       "      <td>3</td>\n",
       "      <td>ATIVO</td>\n",
       "      <td>MUNIC</td>\n",
       "      <td>Alta Floresta D'Oeste</td>\n",
       "      <td>Rondônia</td>\n",
       "      <td>-11.93554</td>\n",
       "      <td>-61.99982</td>\n",
       "      <td>338.0</td>\n",
       "      <td>7067.025</td>\n",
       "    </tr>\n",
       "    <tr>\n",
       "      <th>3</th>\n",
       "      <td>1</td>\n",
       "      <td>2516500.0</td>\n",
       "      <td>110001</td>\n",
       "      <td>1</td>\n",
       "      <td>30</td>\n",
       "      <td>5.0</td>\n",
       "      <td>12 anos ou mais</td>\n",
       "      <td>231205.0</td>\n",
       "      <td>0.0</td>\n",
       "      <td>0.0</td>\n",
       "      <td>...</td>\n",
       "      <td>4</td>\n",
       "      <td>4</td>\n",
       "      <td>ATIVO</td>\n",
       "      <td>MUNIC</td>\n",
       "      <td>Alto Alegre dos Parecis</td>\n",
       "      <td>Rondônia</td>\n",
       "      <td>-12.13178</td>\n",
       "      <td>-61.85308</td>\n",
       "      <td>397.0</td>\n",
       "      <td>3958.273</td>\n",
       "    </tr>\n",
       "    <tr>\n",
       "      <th>4</th>\n",
       "      <td>1</td>\n",
       "      <td>2516500.0</td>\n",
       "      <td>110001</td>\n",
       "      <td>1</td>\n",
       "      <td>30</td>\n",
       "      <td>2.0</td>\n",
       "      <td>8 a 11 anos</td>\n",
       "      <td>999992.0</td>\n",
       "      <td>1.0</td>\n",
       "      <td>0.0</td>\n",
       "      <td>...</td>\n",
       "      <td>5</td>\n",
       "      <td>5</td>\n",
       "      <td>ATIVO</td>\n",
       "      <td>MUNIC</td>\n",
       "      <td>Alta Floresta D'Oeste</td>\n",
       "      <td>Rondônia</td>\n",
       "      <td>-11.93554</td>\n",
       "      <td>-61.99982</td>\n",
       "      <td>338.0</td>\n",
       "      <td>7067.025</td>\n",
       "    </tr>\n",
       "  </tbody>\n",
       "</table>\n",
       "<p>5 rows × 69 columns</p>\n",
       "</div>"
      ],
      "text/plain": [
       "   ORIGEM   CODESTAB  CODMUNNASC  LOCNASC  IDADEMAE  ESTCIVMAE  \\\n",
       "0       1  2679477.0      110001        1        19        5.0   \n",
       "1       1  2679477.0      110001        1        29        2.0   \n",
       "2       1  2679477.0      110001        1        37        9.0   \n",
       "3       1  2516500.0      110001        1        30        5.0   \n",
       "4       1  2516500.0      110001        1        30        2.0   \n",
       "\n",
       "            ESCMAE  CODOCUPMAE  QTDFILVIVO  QTDFILMORT  ...  KOTELCHUCK  \\\n",
       "0      8 a 11 anos         NaN         0.0         0.0  ...           5   \n",
       "1      8 a 11 anos    999992.0         1.0         0.0  ...           5   \n",
       "2      8 a 11 anos    513205.0         2.0         0.0  ...           5   \n",
       "3  12 anos ou mais    231205.0         0.0         0.0  ...           4   \n",
       "4      8 a 11 anos    999992.0         1.0         0.0  ...           5   \n",
       "\n",
       "  CONTADOR munResStatus munResTipo               munResNome  munResUf  \\\n",
       "0        1        ATIVO      MUNIC    Alta Floresta D'Oeste  Rondônia   \n",
       "1        2        ATIVO      MUNIC    Alta Floresta D'Oeste  Rondônia   \n",
       "2        3        ATIVO      MUNIC    Alta Floresta D'Oeste  Rondônia   \n",
       "3        4        ATIVO      MUNIC  Alto Alegre dos Parecis  Rondônia   \n",
       "4        5        ATIVO      MUNIC    Alta Floresta D'Oeste  Rondônia   \n",
       "\n",
       "   munResLat munResLon  munResAlt  munResArea  \n",
       "0  -11.93554 -61.99982      338.0    7067.025  \n",
       "1  -11.93554 -61.99982      338.0    7067.025  \n",
       "2  -11.93554 -61.99982      338.0    7067.025  \n",
       "3  -12.13178 -61.85308      397.0    3958.273  \n",
       "4  -11.93554 -61.99982      338.0    7067.025  \n",
       "\n",
       "[5 rows x 69 columns]"
      ]
     },
     "execution_count": 3,
     "metadata": {},
     "output_type": "execute_result"
    }
   ],
   "source": [
    "sinasc.head()"
   ]
  },
  {
   "cell_type": "code",
   "execution_count": null,
   "metadata": {},
   "outputs": [],
   "source": [
    "sinasc.info()"
   ]
  },
  {
   "cell_type": "markdown",
   "metadata": {},
   "source": [
    "# Tarefa 2"
   ]
  },
  {
   "cell_type": "markdown",
   "metadata": {},
   "source": [
    "### 1. Crie 2 faixas de Latitude do município (munResLat) sendo uma acima e outra abaixo de -10.5 e aplique o groupby usando essas faixas como chave e realize operações de soma, media, minimo, maximo, mediana, desvio padrao, variancia pra pelo menos 2 variáveis numéricas ainda não utilizadas"
   ]
  },
  {
   "cell_type": "code",
   "execution_count": 4,
   "metadata": {},
   "outputs": [],
   "source": [
    "sinasc['Faixa_Lat'] = None"
   ]
  },
  {
   "cell_type": "code",
   "execution_count": 5,
   "metadata": {},
   "outputs": [],
   "source": [
    "sinasc.loc[sinasc['munResLat']>(-10.5),'Faixa_Lat']='Acima'\n",
    "sinasc.loc[sinasc['munResLat']<(-10.5),'Faixa_Lat']='Abaixo'"
   ]
  },
  {
   "cell_type": "code",
   "execution_count": 6,
   "metadata": {
    "collapsed": true
   },
   "outputs": [
    {
     "data": {
      "text/html": [
       "<div>\n",
       "<style scoped>\n",
       "    .dataframe tbody tr th:only-of-type {\n",
       "        vertical-align: middle;\n",
       "    }\n",
       "\n",
       "    .dataframe tbody tr th {\n",
       "        vertical-align: top;\n",
       "    }\n",
       "\n",
       "    .dataframe thead th {\n",
       "        text-align: right;\n",
       "    }\n",
       "</style>\n",
       "<table border=\"1\" class=\"dataframe\">\n",
       "  <thead>\n",
       "    <tr style=\"text-align: right;\">\n",
       "      <th></th>\n",
       "      <th>sum</th>\n",
       "      <th>mean</th>\n",
       "      <th>min</th>\n",
       "      <th>max</th>\n",
       "      <th>median</th>\n",
       "      <th>std</th>\n",
       "      <th>var</th>\n",
       "    </tr>\n",
       "    <tr>\n",
       "      <th>Faixa_Lat</th>\n",
       "      <th></th>\n",
       "      <th></th>\n",
       "      <th></th>\n",
       "      <th></th>\n",
       "      <th></th>\n",
       "      <th></th>\n",
       "      <th></th>\n",
       "    </tr>\n",
       "  </thead>\n",
       "  <tbody>\n",
       "    <tr>\n",
       "      <th>Abaixo</th>\n",
       "      <td>3105.0</td>\n",
       "      <td>0.242521</td>\n",
       "      <td>0.0</td>\n",
       "      <td>28.0</td>\n",
       "      <td>0.0</td>\n",
       "      <td>0.599430</td>\n",
       "      <td>0.359317</td>\n",
       "    </tr>\n",
       "    <tr>\n",
       "      <th>Acima</th>\n",
       "      <td>3538.0</td>\n",
       "      <td>0.291770</td>\n",
       "      <td>0.0</td>\n",
       "      <td>9.0</td>\n",
       "      <td>0.0</td>\n",
       "      <td>0.627856</td>\n",
       "      <td>0.394204</td>\n",
       "    </tr>\n",
       "  </tbody>\n",
       "</table>\n",
       "</div>"
      ],
      "text/plain": [
       "              sum      mean  min   max  median       std       var\n",
       "Faixa_Lat                                                         \n",
       "Abaixo     3105.0  0.242521  0.0  28.0     0.0  0.599430  0.359317\n",
       "Acima      3538.0  0.291770  0.0   9.0     0.0  0.627856  0.394204"
      ]
     },
     "execution_count": 6,
     "metadata": {},
     "output_type": "execute_result"
    }
   ],
   "source": [
    "sinasc.groupby('Faixa_Lat')['QTDFILMORT'].agg(['sum','mean','min',max,'median','std','var'])"
   ]
  },
  {
   "cell_type": "code",
   "execution_count": 7,
   "metadata": {
    "collapsed": true
   },
   "outputs": [
    {
     "data": {
      "text/html": [
       "<div>\n",
       "<style scoped>\n",
       "    .dataframe tbody tr th:only-of-type {\n",
       "        vertical-align: middle;\n",
       "    }\n",
       "\n",
       "    .dataframe tbody tr th {\n",
       "        vertical-align: top;\n",
       "    }\n",
       "\n",
       "    .dataframe thead th {\n",
       "        text-align: right;\n",
       "    }\n",
       "</style>\n",
       "<table border=\"1\" class=\"dataframe\">\n",
       "  <thead>\n",
       "    <tr style=\"text-align: right;\">\n",
       "      <th></th>\n",
       "      <th>sum</th>\n",
       "      <th>mean</th>\n",
       "      <th>min</th>\n",
       "      <th>max</th>\n",
       "      <th>median</th>\n",
       "      <th>std</th>\n",
       "      <th>var</th>\n",
       "    </tr>\n",
       "    <tr>\n",
       "      <th>Faixa_Lat</th>\n",
       "      <th></th>\n",
       "      <th></th>\n",
       "      <th></th>\n",
       "      <th></th>\n",
       "      <th></th>\n",
       "      <th></th>\n",
       "      <th></th>\n",
       "    </tr>\n",
       "  </thead>\n",
       "  <tbody>\n",
       "    <tr>\n",
       "      <th>Abaixo</th>\n",
       "      <td>48000</td>\n",
       "      <td>3.694297</td>\n",
       "      <td>1</td>\n",
       "      <td>9</td>\n",
       "      <td>4.0</td>\n",
       "      <td>0.643372</td>\n",
       "      <td>0.413928</td>\n",
       "    </tr>\n",
       "    <tr>\n",
       "      <th>Acima</th>\n",
       "      <td>48662</td>\n",
       "      <td>3.467436</td>\n",
       "      <td>1</td>\n",
       "      <td>9</td>\n",
       "      <td>4.0</td>\n",
       "      <td>0.888240</td>\n",
       "      <td>0.788970</td>\n",
       "    </tr>\n",
       "  </tbody>\n",
       "</table>\n",
       "</div>"
      ],
      "text/plain": [
       "             sum      mean  min  max  median       std       var\n",
       "Faixa_Lat                                                       \n",
       "Abaixo     48000  3.694297    1    9     4.0  0.643372  0.413928\n",
       "Acima      48662  3.467436    1    9     4.0  0.888240  0.788970"
      ]
     },
     "execution_count": 7,
     "metadata": {},
     "output_type": "execute_result"
    }
   ],
   "source": [
    "sinasc.groupby('Faixa_Lat')['CONSULTAS'].agg(['sum','mean','min',max,'median','std','var'])"
   ]
  },
  {
   "cell_type": "markdown",
   "metadata": {},
   "source": [
    "### 2. Crie 2 faixas da área dos municípios (munResArea) sendo uma acima e outra abaixo de 3000 e aplique o groupby usando essas faixas como chave e realize operações de soma, media, minimo, maximo, mediana, desvio padrao, variancia pra pelo menos 2 variáveis numéricas ainda não utilizadas\n"
   ]
  },
  {
   "cell_type": "code",
   "execution_count": 8,
   "metadata": {},
   "outputs": [],
   "source": [
    "sinasc['Faixa_Area'] = None\n",
    "\n",
    "sinasc.loc[sinasc['munResArea']>(3000),'Faixa_Area']='Acima'\n",
    "\n",
    "sinasc.loc[sinasc['munResArea']<(3000),'Faixa_Area']='Abaixo'"
   ]
  },
  {
   "cell_type": "code",
   "execution_count": 9,
   "metadata": {
    "collapsed": true
   },
   "outputs": [
    {
     "data": {
      "text/html": [
       "<div>\n",
       "<style scoped>\n",
       "    .dataframe tbody tr th:only-of-type {\n",
       "        vertical-align: middle;\n",
       "    }\n",
       "\n",
       "    .dataframe tbody tr th {\n",
       "        vertical-align: top;\n",
       "    }\n",
       "\n",
       "    .dataframe thead th {\n",
       "        text-align: right;\n",
       "    }\n",
       "</style>\n",
       "<table border=\"1\" class=\"dataframe\">\n",
       "  <thead>\n",
       "    <tr style=\"text-align: right;\">\n",
       "      <th></th>\n",
       "      <th>sum</th>\n",
       "      <th>mean</th>\n",
       "      <th>min</th>\n",
       "      <th>max</th>\n",
       "      <th>median</th>\n",
       "      <th>std</th>\n",
       "      <th>var</th>\n",
       "    </tr>\n",
       "    <tr>\n",
       "      <th>Faixa_Area</th>\n",
       "      <th></th>\n",
       "      <th></th>\n",
       "      <th></th>\n",
       "      <th></th>\n",
       "      <th></th>\n",
       "      <th></th>\n",
       "      <th></th>\n",
       "    </tr>\n",
       "  </thead>\n",
       "  <tbody>\n",
       "    <tr>\n",
       "      <th>Abaixo</th>\n",
       "      <td>78074.0</td>\n",
       "      <td>31.092792</td>\n",
       "      <td>16.0</td>\n",
       "      <td>69.0</td>\n",
       "      <td>30.0</td>\n",
       "      <td>7.675474</td>\n",
       "      <td>58.912900</td>\n",
       "    </tr>\n",
       "    <tr>\n",
       "      <th>Acima</th>\n",
       "      <td>158424.0</td>\n",
       "      <td>31.094014</td>\n",
       "      <td>15.0</td>\n",
       "      <td>86.0</td>\n",
       "      <td>30.0</td>\n",
       "      <td>7.818364</td>\n",
       "      <td>61.126809</td>\n",
       "    </tr>\n",
       "  </tbody>\n",
       "</table>\n",
       "</div>"
      ],
      "text/plain": [
       "                 sum       mean   min   max  median       std        var\n",
       "Faixa_Area                                                              \n",
       "Abaixo       78074.0  31.092792  16.0  69.0    30.0  7.675474  58.912900\n",
       "Acima       158424.0  31.094014  15.0  86.0    30.0  7.818364  61.126809"
      ]
     },
     "execution_count": 9,
     "metadata": {},
     "output_type": "execute_result"
    }
   ],
   "source": [
    "sinasc.groupby('Faixa_Area')['IDADEPAI'].agg(['sum','mean','min',max,'median','std','var'])"
   ]
  },
  {
   "cell_type": "code",
   "execution_count": 10,
   "metadata": {
    "collapsed": true
   },
   "outputs": [
    {
     "data": {
      "text/html": [
       "<div>\n",
       "<style scoped>\n",
       "    .dataframe tbody tr th:only-of-type {\n",
       "        vertical-align: middle;\n",
       "    }\n",
       "\n",
       "    .dataframe tbody tr th {\n",
       "        vertical-align: top;\n",
       "    }\n",
       "\n",
       "    .dataframe thead th {\n",
       "        text-align: right;\n",
       "    }\n",
       "</style>\n",
       "<table border=\"1\" class=\"dataframe\">\n",
       "  <thead>\n",
       "    <tr style=\"text-align: right;\">\n",
       "      <th></th>\n",
       "      <th>sum</th>\n",
       "      <th>mean</th>\n",
       "      <th>min</th>\n",
       "      <th>max</th>\n",
       "      <th>median</th>\n",
       "      <th>std</th>\n",
       "      <th>var</th>\n",
       "    </tr>\n",
       "    <tr>\n",
       "      <th>Faixa_Area</th>\n",
       "      <th></th>\n",
       "      <th></th>\n",
       "      <th></th>\n",
       "      <th></th>\n",
       "      <th></th>\n",
       "      <th></th>\n",
       "      <th></th>\n",
       "    </tr>\n",
       "  </thead>\n",
       "  <tbody>\n",
       "    <tr>\n",
       "      <th>Abaixo</th>\n",
       "      <td>16796616</td>\n",
       "      <td>3218.359073</td>\n",
       "      <td>258</td>\n",
       "      <td>5720</td>\n",
       "      <td>3245.0</td>\n",
       "      <td>531.583103</td>\n",
       "      <td>282580.595074</td>\n",
       "    </tr>\n",
       "    <tr>\n",
       "      <th>Acima</th>\n",
       "      <td>70857126</td>\n",
       "      <td>3249.134538</td>\n",
       "      <td>292</td>\n",
       "      <td>5985</td>\n",
       "      <td>3280.0</td>\n",
       "      <td>547.716582</td>\n",
       "      <td>299993.453720</td>\n",
       "    </tr>\n",
       "  </tbody>\n",
       "</table>\n",
       "</div>"
      ],
      "text/plain": [
       "                 sum         mean  min   max  median         std  \\\n",
       "Faixa_Area                                                         \n",
       "Abaixo      16796616  3218.359073  258  5720  3245.0  531.583103   \n",
       "Acima       70857126  3249.134538  292  5985  3280.0  547.716582   \n",
       "\n",
       "                      var  \n",
       "Faixa_Area                 \n",
       "Abaixo      282580.595074  \n",
       "Acima       299993.453720  "
      ]
     },
     "execution_count": 10,
     "metadata": {},
     "output_type": "execute_result"
    }
   ],
   "source": [
    "sinasc.groupby('Faixa_Area')['PESO'].agg(['sum','mean','min',max,'median','std','var'])"
   ]
  },
  {
   "cell_type": "markdown",
   "metadata": {},
   "source": [
    "### 3. Determine faixas na variável munResAlt e aplique o groupby usando essas faixas como chave e realize operações de soma, media, minimo, maximo, mediana, desvio padrao, variancia pra pelo menos 2 variáveis numéricas ainda não utilizadas"
   ]
  },
  {
   "cell_type": "code",
   "execution_count": 11,
   "metadata": {},
   "outputs": [],
   "source": [
    "sinasc['Faixa_Alt']=None"
   ]
  },
  {
   "cell_type": "code",
   "execution_count": 12,
   "metadata": {},
   "outputs": [],
   "source": [
    "sinasc.loc[sinasc['munResAlt']<=(100),'Faixa_Alt']='Até 100'\n",
    "\n",
    "sinasc.loc[(sinasc['munResAlt']>100)&(sinasc['munResAlt']<=200),'Faixa_Alt']='Entre 100 a 200'\n",
    "sinasc.loc[(sinasc['munResAlt']>200)&(sinasc['munResAlt']<=300),'Faixa_Alt']='Entre 200 a 300'\n",
    "sinasc.loc[(sinasc['munResAlt']>300),'Faixa_Alt']='Maior que 300'"
   ]
  },
  {
   "cell_type": "code",
   "execution_count": 13,
   "metadata": {
    "collapsed": true
   },
   "outputs": [
    {
     "data": {
      "text/html": [
       "<div>\n",
       "<style scoped>\n",
       "    .dataframe tbody tr th:only-of-type {\n",
       "        vertical-align: middle;\n",
       "    }\n",
       "\n",
       "    .dataframe tbody tr th {\n",
       "        vertical-align: top;\n",
       "    }\n",
       "\n",
       "    .dataframe thead th {\n",
       "        text-align: right;\n",
       "    }\n",
       "</style>\n",
       "<table border=\"1\" class=\"dataframe\">\n",
       "  <thead>\n",
       "    <tr style=\"text-align: right;\">\n",
       "      <th></th>\n",
       "      <th>sum</th>\n",
       "      <th>mean</th>\n",
       "      <th>min</th>\n",
       "      <th>max</th>\n",
       "      <th>median</th>\n",
       "      <th>std</th>\n",
       "      <th>var</th>\n",
       "    </tr>\n",
       "    <tr>\n",
       "      <th>Faixa_Alt</th>\n",
       "      <th></th>\n",
       "      <th></th>\n",
       "      <th></th>\n",
       "      <th></th>\n",
       "      <th></th>\n",
       "      <th></th>\n",
       "      <th></th>\n",
       "    </tr>\n",
       "  </thead>\n",
       "  <tbody>\n",
       "    <tr>\n",
       "      <th>Até 100</th>\n",
       "      <td>9117.0</td>\n",
       "      <td>1.180806</td>\n",
       "      <td>0.0</td>\n",
       "      <td>12.0</td>\n",
       "      <td>1.0</td>\n",
       "      <td>1.239860</td>\n",
       "      <td>1.537253</td>\n",
       "    </tr>\n",
       "    <tr>\n",
       "      <th>Entre 100 a 200</th>\n",
       "      <td>11889.0</td>\n",
       "      <td>1.023414</td>\n",
       "      <td>0.0</td>\n",
       "      <td>14.0</td>\n",
       "      <td>1.0</td>\n",
       "      <td>1.160265</td>\n",
       "      <td>1.346215</td>\n",
       "    </tr>\n",
       "    <tr>\n",
       "      <th>Entre 200 a 300</th>\n",
       "      <td>3545.0</td>\n",
       "      <td>0.972832</td>\n",
       "      <td>0.0</td>\n",
       "      <td>30.0</td>\n",
       "      <td>1.0</td>\n",
       "      <td>1.101780</td>\n",
       "      <td>1.213920</td>\n",
       "    </tr>\n",
       "    <tr>\n",
       "      <th>Maior que 300</th>\n",
       "      <td>2275.0</td>\n",
       "      <td>0.920307</td>\n",
       "      <td>0.0</td>\n",
       "      <td>10.0</td>\n",
       "      <td>1.0</td>\n",
       "      <td>1.057876</td>\n",
       "      <td>1.119102</td>\n",
       "    </tr>\n",
       "  </tbody>\n",
       "</table>\n",
       "</div>"
      ],
      "text/plain": [
       "                     sum      mean  min   max  median       std       var\n",
       "Faixa_Alt                                                                \n",
       "Até 100           9117.0  1.180806  0.0  12.0     1.0  1.239860  1.537253\n",
       "Entre 100 a 200  11889.0  1.023414  0.0  14.0     1.0  1.160265  1.346215\n",
       "Entre 200 a 300   3545.0  0.972832  0.0  30.0     1.0  1.101780  1.213920\n",
       "Maior que 300     2275.0  0.920307  0.0  10.0     1.0  1.057876  1.119102"
      ]
     },
     "execution_count": 13,
     "metadata": {},
     "output_type": "execute_result"
    }
   ],
   "source": [
    "sinasc.groupby('Faixa_Alt')['QTDFILVIVO'].agg(['sum','mean','min',max,'median','std','var'])"
   ]
  },
  {
   "cell_type": "code",
   "execution_count": 14,
   "metadata": {
    "collapsed": true
   },
   "outputs": [
    {
     "data": {
      "text/html": [
       "<div>\n",
       "<style scoped>\n",
       "    .dataframe tbody tr th:only-of-type {\n",
       "        vertical-align: middle;\n",
       "    }\n",
       "\n",
       "    .dataframe tbody tr th {\n",
       "        vertical-align: top;\n",
       "    }\n",
       "\n",
       "    .dataframe thead th {\n",
       "        text-align: right;\n",
       "    }\n",
       "</style>\n",
       "<table border=\"1\" class=\"dataframe\">\n",
       "  <thead>\n",
       "    <tr style=\"text-align: right;\">\n",
       "      <th></th>\n",
       "      <th>sum</th>\n",
       "      <th>mean</th>\n",
       "      <th>min</th>\n",
       "      <th>max</th>\n",
       "      <th>median</th>\n",
       "      <th>std</th>\n",
       "      <th>var</th>\n",
       "    </tr>\n",
       "    <tr>\n",
       "      <th>Faixa_Alt</th>\n",
       "      <th></th>\n",
       "      <th></th>\n",
       "      <th></th>\n",
       "      <th></th>\n",
       "      <th></th>\n",
       "      <th></th>\n",
       "      <th></th>\n",
       "    </tr>\n",
       "  </thead>\n",
       "  <tbody>\n",
       "    <tr>\n",
       "      <th>Até 100</th>\n",
       "      <td>2309.0</td>\n",
       "      <td>0.309103</td>\n",
       "      <td>0.0</td>\n",
       "      <td>9.0</td>\n",
       "      <td>0.0</td>\n",
       "      <td>0.641043</td>\n",
       "      <td>0.410936</td>\n",
       "    </tr>\n",
       "    <tr>\n",
       "      <th>Entre 100 a 200</th>\n",
       "      <td>2860.0</td>\n",
       "      <td>0.251406</td>\n",
       "      <td>0.0</td>\n",
       "      <td>9.0</td>\n",
       "      <td>0.0</td>\n",
       "      <td>0.576993</td>\n",
       "      <td>0.332921</td>\n",
       "    </tr>\n",
       "    <tr>\n",
       "      <th>Entre 200 a 300</th>\n",
       "      <td>890.0</td>\n",
       "      <td>0.246196</td>\n",
       "      <td>0.0</td>\n",
       "      <td>4.0</td>\n",
       "      <td>0.0</td>\n",
       "      <td>0.549912</td>\n",
       "      <td>0.302403</td>\n",
       "    </tr>\n",
       "    <tr>\n",
       "      <th>Maior que 300</th>\n",
       "      <td>584.0</td>\n",
       "      <td>0.236629</td>\n",
       "      <td>0.0</td>\n",
       "      <td>28.0</td>\n",
       "      <td>0.0</td>\n",
       "      <td>0.760232</td>\n",
       "      <td>0.577952</td>\n",
       "    </tr>\n",
       "  </tbody>\n",
       "</table>\n",
       "</div>"
      ],
      "text/plain": [
       "                    sum      mean  min   max  median       std       var\n",
       "Faixa_Alt                                                               \n",
       "Até 100          2309.0  0.309103  0.0   9.0     0.0  0.641043  0.410936\n",
       "Entre 100 a 200  2860.0  0.251406  0.0   9.0     0.0  0.576993  0.332921\n",
       "Entre 200 a 300   890.0  0.246196  0.0   4.0     0.0  0.549912  0.302403\n",
       "Maior que 300     584.0  0.236629  0.0  28.0     0.0  0.760232  0.577952"
      ]
     },
     "execution_count": 14,
     "metadata": {},
     "output_type": "execute_result"
    }
   ],
   "source": [
    "sinasc.groupby('Faixa_Alt')['QTDFILMORT'].agg(['sum','mean','min',max,'median','std','var'])"
   ]
  },
  {
   "cell_type": "markdown",
   "metadata": {},
   "source": [
    "### 4. Plote no mesmo grafico ao longo do tempo a idade media das mulheres de cada regiao imediatas de rondonia\n",
    "https://pt.wikipedia.org/wiki/Lista_de_regi%C3%B5es_geogr%C3%A1ficas_intermedi%C3%A1rias_e_imediatas_de_Rond%C3%B4nia"
   ]
  },
  {
   "cell_type": "code",
   "execution_count": 15,
   "metadata": {},
   "outputs": [],
   "source": [
    "sinasc['Reg_Imediata'] = None\n",
    "\n",
    "imediatas={'Candeias do Jamari':'Porto Velho','Guajará-Mirim':'Porto Velho','Itapuã do Oeste':'Porto Velho',\n",
    "           'Nova Mamoré':'Porto Velho','Porto Velho':'Porto Velho',\n",
    "          'Alto Paraíso':'Ariquemes','Ariquemes':'Ariquemes','Buritis':'Ariquemes'\n",
    "        ,'Cacaulândia':'Ariquemes','Campo Novo de Rondônia':'Ariquemes','Cujubim':'Ariquemes'\n",
    "            ,'Monte Negro':'Ariquemes','Rio Crespo':'Ariquemes',\n",
    "           'Governador Jorge Teixeira':'Jaru','Jaru':'Jaru'\n",
    "            ,\"Machadinho D'Oeste\":'Jaru','Theobroma':'Jaru','Vale do Anari':'Jaru',\n",
    "           \"Alvorada D'Oeste\":'Ji Parana','Costa Marques':'Ji Parana','Ji-Paraná':'Ji Parana'\n",
    "            ,'Mirante da Serra':'Ji Parana','Nova União':'Ji Parana','Ouro Preto do Oeste':'Ji Parana'\n",
    "            ,'Presidente Médici':'Ji Parana','São Francisco do Guaporé':'Ji Parana'\n",
    "           ,'São Miguel do Guaporé':'Ji Parana','Seringueiras':'Ji Parana','Teixeirópolis':'Ji Parana',\n",
    "           'Urupá':'Ji Parana','Vale do Paraíso':'Ji Parana',\n",
    "           \"Alta Floresta d'Oeste\":'Cacoal','Alto Alegre dos Parecis':'Cacoal','Cacoal':'Cacoal'\n",
    "            ,'Castanheiras':'Cacoal',\"Espigão D'Oeste\":'Cacoal','Ministro Andreazza':'Cacoal'\n",
    "            ,\"Nova Brasilândia D'Oeste\":'Cacoal','Novo Horizonte do Oeste':'Cacoal',\n",
    "            'Parecis':'Cacoal','Pimenta Bueno':'Cacoal','Primavera de Rondônia':'Cacoal'\n",
    "            ,'Rolim de Moura':'Cacoal',\"Santa Luzia D'Oeste\":'Cacoal',\"São Felipe D'Oeste\":'Cacoal'\n",
    "          }"
   ]
  },
  {
   "cell_type": "code",
   "execution_count": 16,
   "metadata": {},
   "outputs": [],
   "source": [
    "df2 = sinasc.set_index('munResNome')"
   ]
  },
  {
   "cell_type": "code",
   "execution_count": 17,
   "metadata": {},
   "outputs": [],
   "source": [
    "df3 = df2.groupby(imediatas)['IDADEMAE'].mean()"
   ]
  },
  {
   "cell_type": "code",
   "execution_count": 18,
   "metadata": {
    "collapsed": true
   },
   "outputs": [
    {
     "data": {
      "image/png": "[encoded data removed]",
      "text/plain": [
       "<Figure size 1296x432 with 1 Axes>"
      ]
     },
     "metadata": {
      "needs_background": "light"
     },
     "output_type": "display_data"
    }
   ],
   "source": [
    "df3.plot(figsize=[18, 6])\n",
    "plt.ylabel('Media de Idade Mãe');"
   ]
  },
  {
   "cell_type": "markdown",
   "metadata": {},
   "source": [
    "### 5. Utilize a tabela do link abaixo e crie faixas utilizando o mapping e gere agrupamentos utilizando essas faixas como chave\n"
   ]
  },
  {
   "cell_type": "markdown",
   "metadata": {},
   "source": [
    "### 5.1 IDH\n",
    "A - https://pt.wikipedia.org/wiki/Lista_de_munic%C3%ADpios_de_Rond%C3%B4nia_por_IDH-M\n"
   ]
  },
  {
   "cell_type": "code",
   "execution_count": 19,
   "metadata": {},
   "outputs": [],
   "source": [
    "import requests\n",
    "from bs4 import BeautifulSoup"
   ]
  },
  {
   "cell_type": "code",
   "execution_count": 20,
   "metadata": {},
   "outputs": [
    {
     "name": "stdout",
     "output_type": "stream",
     "text": [
      "200\n"
     ]
    }
   ],
   "source": [
    "url='https://pt.wikipedia.org/wiki/Lista_de_munic%C3%ADpios_de_Rond%C3%B4nia_por_IDH-M'\n",
    "table_class=\"wikitable sortable jquery-tablesorter\"\n",
    "resposta=requests.get(url)\n",
    "print(resposta.status_code)"
   ]
  },
  {
   "cell_type": "code",
   "execution_count": 21,
   "metadata": {},
   "outputs": [],
   "source": [
    "soup = BeautifulSoup(resposta.text, 'html.parser')\n",
    "tabela=soup.find('table',{'class':\"wikitable\"})\n",
    "df = pd.read_html(str(tabela))\n",
    "df = pd.DataFrame(df[0])\n"
   ]
  },
  {
   "cell_type": "code",
   "execution_count": 22,
   "metadata": {},
   "outputs": [
    {
     "data": {
      "text/html": [
       "<div>\n",
       "<style scoped>\n",
       "    .dataframe tbody tr th:only-of-type {\n",
       "        vertical-align: middle;\n",
       "    }\n",
       "\n",
       "    .dataframe tbody tr th {\n",
       "        vertical-align: top;\n",
       "    }\n",
       "\n",
       "    .dataframe thead tr th {\n",
       "        text-align: left;\n",
       "    }\n",
       "</style>\n",
       "<table border=\"1\" class=\"dataframe\">\n",
       "  <thead>\n",
       "    <tr>\n",
       "      <th></th>\n",
       "      <th>Posição</th>\n",
       "      <th>Município</th>\n",
       "      <th colspan=\"4\" halign=\"left\">Dados de 2010</th>\n",
       "    </tr>\n",
       "    <tr>\n",
       "      <th></th>\n",
       "      <th>Posição</th>\n",
       "      <th>Município</th>\n",
       "      <th>IDH municipal</th>\n",
       "      <th>IDH renda</th>\n",
       "      <th>IDH longevidade</th>\n",
       "      <th>IDH educação</th>\n",
       "    </tr>\n",
       "    <tr>\n",
       "      <th></th>\n",
       "      <th>IDH-M muito alto</th>\n",
       "      <th>IDH-M muito alto</th>\n",
       "      <th>IDH-M muito alto</th>\n",
       "      <th>IDH-M muito alto</th>\n",
       "      <th>IDH-M muito alto</th>\n",
       "      <th>IDH-M muito alto</th>\n",
       "    </tr>\n",
       "  </thead>\n",
       "  <tbody>\n",
       "    <tr>\n",
       "      <th>0</th>\n",
       "      <td>nenhum município</td>\n",
       "      <td>nenhum município</td>\n",
       "      <td>nenhum município</td>\n",
       "      <td>nenhum município</td>\n",
       "      <td>nenhum município</td>\n",
       "      <td>nenhum município</td>\n",
       "    </tr>\n",
       "    <tr>\n",
       "      <th>1</th>\n",
       "      <td>IDH-M alto</td>\n",
       "      <td>IDH-M alto</td>\n",
       "      <td>IDH-M alto</td>\n",
       "      <td>IDH-M alto</td>\n",
       "      <td>IDH-M alto</td>\n",
       "      <td>IDH-M alto</td>\n",
       "    </tr>\n",
       "    <tr>\n",
       "      <th>2</th>\n",
       "      <td>1</td>\n",
       "      <td>Porto Velho</td>\n",
       "      <td>0.736</td>\n",
       "      <td>0.764</td>\n",
       "      <td>0.819</td>\n",
       "      <td>0.638</td>\n",
       "    </tr>\n",
       "    <tr>\n",
       "      <th>3</th>\n",
       "      <td>2</td>\n",
       "      <td>Vilhena</td>\n",
       "      <td>0.731</td>\n",
       "      <td>0.734</td>\n",
       "      <td>0.808</td>\n",
       "      <td>0.659</td>\n",
       "    </tr>\n",
       "    <tr>\n",
       "      <th>4</th>\n",
       "      <td>3</td>\n",
       "      <td>Cacoal</td>\n",
       "      <td>0.718</td>\n",
       "      <td>0.727</td>\n",
       "      <td>0.821</td>\n",
       "      <td>0.620</td>\n",
       "    </tr>\n",
       "  </tbody>\n",
       "</table>\n",
       "</div>"
      ],
      "text/plain": [
       "            Posição         Município     Dados de 2010                    \\\n",
       "            Posição         Município     IDH municipal         IDH renda   \n",
       "   IDH-M muito alto  IDH-M muito alto  IDH-M muito alto  IDH-M muito alto   \n",
       "0  nenhum município  nenhum município  nenhum município  nenhum município   \n",
       "1        IDH-M alto        IDH-M alto        IDH-M alto        IDH-M alto   \n",
       "2                 1       Porto Velho             0.736             0.764   \n",
       "3                 2           Vilhena             0.731             0.734   \n",
       "4                 3            Cacoal             0.718             0.727   \n",
       "\n",
       "                                       \n",
       "    IDH longevidade      IDH educação  \n",
       "   IDH-M muito alto  IDH-M muito alto  \n",
       "0  nenhum município  nenhum município  \n",
       "1        IDH-M alto        IDH-M alto  \n",
       "2             0.819             0.638  \n",
       "3             0.808             0.659  \n",
       "4             0.821             0.620  "
      ]
     },
     "execution_count": 22,
     "metadata": {},
     "output_type": "execute_result"
    }
   ],
   "source": [
    "df.head()"
   ]
  },
  {
   "cell_type": "code",
   "execution_count": 23,
   "metadata": {},
   "outputs": [],
   "source": [
    "df.drop(index=57,inplace=True)\n",
    "df.drop(index=56,inplace=True)\n",
    "df.drop(index=0,inplace=True)\n",
    "df.reset_index(drop=True,inplace=True)\n",
    "df.columns = df.columns.droplevel(2)\n",
    "df.columns = df.columns.droplevel(0)\n",
    "df['Tipo_IDH']=None"
   ]
  },
  {
   "cell_type": "code",
   "execution_count": 24,
   "metadata": {},
   "outputs": [],
   "source": [
    "df.loc[(df['Posição']=='IDH-M alto'),'Posição']=0\n",
    "df.loc[(df['Posição']=='IDH-M médio'),'Posição']=0\n",
    "df.loc[(df['Posição']=='IDH-M baixo'),'Posição']=0"
   ]
  },
  {
   "cell_type": "code",
   "execution_count": 25,
   "metadata": {},
   "outputs": [],
   "source": [
    "df.Posição = df.Posição.astype(int)"
   ]
  },
  {
   "cell_type": "code",
   "execution_count": 26,
   "metadata": {},
   "outputs": [],
   "source": [
    "df.loc[(df['Posição']>=1)&(df['Posição']<=7),'Tipo_IDH']='Alto'\n",
    "df.loc[(df['Posição']>7)&(df['Posição']<=43),'Tipo_IDH']='Medio'\n",
    "df.loc[(df['Posição']>=44)&(df['Posição']<=52),'Tipo_IDH']='Baixo'"
   ]
  },
  {
   "cell_type": "code",
   "execution_count": 27,
   "metadata": {},
   "outputs": [],
   "source": [
    "df.dropna(inplace=True)"
   ]
  },
  {
   "cell_type": "code",
   "execution_count": 28,
   "metadata": {},
   "outputs": [
    {
     "data": {
      "text/plain": [
       "Tipo_IDH\n",
       "Alto      7\n",
       "Baixo     9\n",
       "Medio    36\n",
       "Name: Município, dtype: int64"
      ]
     },
     "execution_count": 28,
     "metadata": {},
     "output_type": "execute_result"
    }
   ],
   "source": [
    "df.groupby('Tipo_IDH')['Município'].count()"
   ]
  },
  {
   "cell_type": "markdown",
   "metadata": {},
   "source": [
    "### 5.2 IFDM \n",
    "B - https://pt.wikipedia.org/wiki/Lista_de_munic%C3%ADpios_de_Rond%C3%B4nia_por_IFDM\n"
   ]
  },
  {
   "cell_type": "code",
   "execution_count": 29,
   "metadata": {},
   "outputs": [
    {
     "name": "stdout",
     "output_type": "stream",
     "text": [
      "200\n"
     ]
    }
   ],
   "source": [
    "url=' https://pt.wikipedia.org/wiki/Lista_de_munic%C3%ADpios_de_Rond%C3%B4nia_por_IFDM'\n",
    "table_class=\"wikitable sortable jquery-tablesorter\"\n",
    "resposta=requests.get(url)\n",
    "print(resposta.status_code)"
   ]
  },
  {
   "cell_type": "code",
   "execution_count": 30,
   "metadata": {},
   "outputs": [],
   "source": [
    "soup = BeautifulSoup(resposta.text, 'html.parser')\n",
    "tabela=soup.find('table',{'class':\"wikitable\"})\n",
    "df = pd.read_html(str(tabela))\n",
    "df = pd.DataFrame(df[0])\n"
   ]
  },
  {
   "cell_type": "code",
   "execution_count": 31,
   "metadata": {},
   "outputs": [
    {
     "data": {
      "text/html": [
       "<div>\n",
       "<style scoped>\n",
       "    .dataframe tbody tr th:only-of-type {\n",
       "        vertical-align: middle;\n",
       "    }\n",
       "\n",
       "    .dataframe tbody tr th {\n",
       "        vertical-align: top;\n",
       "    }\n",
       "\n",
       "    .dataframe thead tr th {\n",
       "        text-align: left;\n",
       "    }\n",
       "</style>\n",
       "<table border=\"1\" class=\"dataframe\">\n",
       "  <thead>\n",
       "    <tr>\n",
       "      <th></th>\n",
       "      <th>Posição</th>\n",
       "      <th>Município</th>\n",
       "      <th>IFDM Consolidado (2013)</th>\n",
       "    </tr>\n",
       "    <tr>\n",
       "      <th></th>\n",
       "      <th>Desenvolvimento alto</th>\n",
       "      <th>Desenvolvimento alto</th>\n",
       "      <th>Desenvolvimento alto</th>\n",
       "    </tr>\n",
       "  </thead>\n",
       "  <tbody>\n",
       "    <tr>\n",
       "      <th>0</th>\n",
       "      <td>nenhum município</td>\n",
       "      <td>nenhum município</td>\n",
       "      <td>nenhum município</td>\n",
       "    </tr>\n",
       "    <tr>\n",
       "      <th>1</th>\n",
       "      <td>Desenvolvimento moderado</td>\n",
       "      <td>Desenvolvimento moderado</td>\n",
       "      <td>Desenvolvimento moderado</td>\n",
       "    </tr>\n",
       "    <tr>\n",
       "      <th>2</th>\n",
       "      <td>1º</td>\n",
       "      <td>Ariquemes</td>\n",
       "      <td>0.7746</td>\n",
       "    </tr>\n",
       "    <tr>\n",
       "      <th>3</th>\n",
       "      <td>2º</td>\n",
       "      <td>Vilhena</td>\n",
       "      <td>0.7465</td>\n",
       "    </tr>\n",
       "    <tr>\n",
       "      <th>4</th>\n",
       "      <td>3º</td>\n",
       "      <td>Pimenta Bueno</td>\n",
       "      <td>0.7383</td>\n",
       "    </tr>\n",
       "    <tr>\n",
       "      <th>5</th>\n",
       "      <td>4º</td>\n",
       "      <td>Porto Velho</td>\n",
       "      <td>0.7257</td>\n",
       "    </tr>\n",
       "    <tr>\n",
       "      <th>6</th>\n",
       "      <td>5º</td>\n",
       "      <td>Ji-Paraná</td>\n",
       "      <td>0.7117</td>\n",
       "    </tr>\n",
       "    <tr>\n",
       "      <th>7</th>\n",
       "      <td>6º</td>\n",
       "      <td>Cacoal</td>\n",
       "      <td>0.7111</td>\n",
       "    </tr>\n",
       "    <tr>\n",
       "      <th>8</th>\n",
       "      <td>7º</td>\n",
       "      <td>Santa Luzia d'Oeste</td>\n",
       "      <td>0.6850</td>\n",
       "    </tr>\n",
       "    <tr>\n",
       "      <th>9</th>\n",
       "      <td>8º</td>\n",
       "      <td>Rolim de Moura</td>\n",
       "      <td>0.6785</td>\n",
       "    </tr>\n",
       "    <tr>\n",
       "      <th>10</th>\n",
       "      <td>9º</td>\n",
       "      <td>Chupinguaia</td>\n",
       "      <td>0.6766</td>\n",
       "    </tr>\n",
       "    <tr>\n",
       "      <th>11</th>\n",
       "      <td>10º</td>\n",
       "      <td>São Miguel do Guaporé</td>\n",
       "      <td>0.6699</td>\n",
       "    </tr>\n",
       "    <tr>\n",
       "      <th>12</th>\n",
       "      <td>11º</td>\n",
       "      <td>Pimenteiras do Oeste</td>\n",
       "      <td>0.6501</td>\n",
       "    </tr>\n",
       "    <tr>\n",
       "      <th>13</th>\n",
       "      <td>12º</td>\n",
       "      <td>Teixeirópolis</td>\n",
       "      <td>0.6500</td>\n",
       "    </tr>\n",
       "    <tr>\n",
       "      <th>14</th>\n",
       "      <td>13º</td>\n",
       "      <td>Colorado do Oeste</td>\n",
       "      <td>0.6473</td>\n",
       "    </tr>\n",
       "    <tr>\n",
       "      <th>15</th>\n",
       "      <td>14º</td>\n",
       "      <td>Jaru</td>\n",
       "      <td>0.6450</td>\n",
       "    </tr>\n",
       "    <tr>\n",
       "      <th>16</th>\n",
       "      <td>15º</td>\n",
       "      <td>Rio Crespo</td>\n",
       "      <td>0.6430</td>\n",
       "    </tr>\n",
       "    <tr>\n",
       "      <th>17</th>\n",
       "      <td>16º</td>\n",
       "      <td>Primavera de Rondônia</td>\n",
       "      <td>0.6384</td>\n",
       "    </tr>\n",
       "    <tr>\n",
       "      <th>18</th>\n",
       "      <td>17º</td>\n",
       "      <td>Alta Floresta d'Oeste</td>\n",
       "      <td>0.6337</td>\n",
       "    </tr>\n",
       "    <tr>\n",
       "      <th>19</th>\n",
       "      <td>18º</td>\n",
       "      <td>Ouro Preto do Oeste</td>\n",
       "      <td>0.6261</td>\n",
       "    </tr>\n",
       "    <tr>\n",
       "      <th>20</th>\n",
       "      <td>19º</td>\n",
       "      <td>São Francisco do Guaporé</td>\n",
       "      <td>0.6214</td>\n",
       "    </tr>\n",
       "    <tr>\n",
       "      <th>21</th>\n",
       "      <td>20º</td>\n",
       "      <td>Candeias do Jamari</td>\n",
       "      <td>0.6199</td>\n",
       "    </tr>\n",
       "    <tr>\n",
       "      <th>22</th>\n",
       "      <td>20º</td>\n",
       "      <td>Buritis</td>\n",
       "      <td>0.6199</td>\n",
       "    </tr>\n",
       "    <tr>\n",
       "      <th>23</th>\n",
       "      <td>22º</td>\n",
       "      <td>São Felipe d'Oeste</td>\n",
       "      <td>0.6153</td>\n",
       "    </tr>\n",
       "    <tr>\n",
       "      <th>24</th>\n",
       "      <td>23º</td>\n",
       "      <td>Presidente Médici</td>\n",
       "      <td>0.6140</td>\n",
       "    </tr>\n",
       "    <tr>\n",
       "      <th>25</th>\n",
       "      <td>24º</td>\n",
       "      <td>Cerejeiras</td>\n",
       "      <td>0.6137</td>\n",
       "    </tr>\n",
       "    <tr>\n",
       "      <th>26</th>\n",
       "      <td>25º</td>\n",
       "      <td>Monte Negro</td>\n",
       "      <td>0.6016</td>\n",
       "    </tr>\n",
       "    <tr>\n",
       "      <th>27</th>\n",
       "      <td>26º</td>\n",
       "      <td>Urupá</td>\n",
       "      <td>0.6006</td>\n",
       "    </tr>\n",
       "    <tr>\n",
       "      <th>28</th>\n",
       "      <td>Desenvolvimento regular</td>\n",
       "      <td>Desenvolvimento regular</td>\n",
       "      <td>Desenvolvimento regular</td>\n",
       "    </tr>\n",
       "    <tr>\n",
       "      <th>29</th>\n",
       "      <td>27º</td>\n",
       "      <td>Espigão d'Oeste</td>\n",
       "      <td>0.5973</td>\n",
       "    </tr>\n",
       "    <tr>\n",
       "      <th>30</th>\n",
       "      <td>28º</td>\n",
       "      <td>Seringueiras</td>\n",
       "      <td>0.5922</td>\n",
       "    </tr>\n",
       "    <tr>\n",
       "      <th>31</th>\n",
       "      <td>29º</td>\n",
       "      <td>Alvorada d'Oeste</td>\n",
       "      <td>0.5919</td>\n",
       "    </tr>\n",
       "    <tr>\n",
       "      <th>32</th>\n",
       "      <td>30º</td>\n",
       "      <td>Itapuã do Oeste</td>\n",
       "      <td>0.5903</td>\n",
       "    </tr>\n",
       "    <tr>\n",
       "      <th>33</th>\n",
       "      <td>31º</td>\n",
       "      <td>Cabixi</td>\n",
       "      <td>0.5887</td>\n",
       "    </tr>\n",
       "    <tr>\n",
       "      <th>34</th>\n",
       "      <td>32º</td>\n",
       "      <td>Novo Horizonte do Oeste</td>\n",
       "      <td>0.5858</td>\n",
       "    </tr>\n",
       "    <tr>\n",
       "      <th>35</th>\n",
       "      <td>33º</td>\n",
       "      <td>Nova Brasilândia d'Oeste</td>\n",
       "      <td>0.5857</td>\n",
       "    </tr>\n",
       "    <tr>\n",
       "      <th>36</th>\n",
       "      <td>34º</td>\n",
       "      <td>Vale do Paraíso</td>\n",
       "      <td>0.5818</td>\n",
       "    </tr>\n",
       "    <tr>\n",
       "      <th>37</th>\n",
       "      <td>35º</td>\n",
       "      <td>Corumbiara</td>\n",
       "      <td>0.5759</td>\n",
       "    </tr>\n",
       "    <tr>\n",
       "      <th>38</th>\n",
       "      <td>36º</td>\n",
       "      <td>Alto Paraíso</td>\n",
       "      <td>0.5735</td>\n",
       "    </tr>\n",
       "    <tr>\n",
       "      <th>39</th>\n",
       "      <td>37º</td>\n",
       "      <td>Cacaulândia</td>\n",
       "      <td>0.5721</td>\n",
       "    </tr>\n",
       "    <tr>\n",
       "      <th>40</th>\n",
       "      <td>38º</td>\n",
       "      <td>Vale do Anari</td>\n",
       "      <td>0.5710</td>\n",
       "    </tr>\n",
       "    <tr>\n",
       "      <th>41</th>\n",
       "      <td>39º</td>\n",
       "      <td>Ministro Andreazza</td>\n",
       "      <td>0.5657</td>\n",
       "    </tr>\n",
       "    <tr>\n",
       "      <th>42</th>\n",
       "      <td>40º</td>\n",
       "      <td>Costa Marques</td>\n",
       "      <td>0.5626</td>\n",
       "    </tr>\n",
       "    <tr>\n",
       "      <th>43</th>\n",
       "      <td>41º</td>\n",
       "      <td>Nova União</td>\n",
       "      <td>0.5571</td>\n",
       "    </tr>\n",
       "    <tr>\n",
       "      <th>44</th>\n",
       "      <td>42º</td>\n",
       "      <td>Guajará-Mirim</td>\n",
       "      <td>0.5541</td>\n",
       "    </tr>\n",
       "    <tr>\n",
       "      <th>45</th>\n",
       "      <td>43º</td>\n",
       "      <td>Mirante da Serra</td>\n",
       "      <td>0.5519</td>\n",
       "    </tr>\n",
       "    <tr>\n",
       "      <th>46</th>\n",
       "      <td>44º</td>\n",
       "      <td>Parecis</td>\n",
       "      <td>0.5502</td>\n",
       "    </tr>\n",
       "    <tr>\n",
       "      <th>47</th>\n",
       "      <td>45º</td>\n",
       "      <td>Castanheiras</td>\n",
       "      <td>0.5430</td>\n",
       "    </tr>\n",
       "    <tr>\n",
       "      <th>48</th>\n",
       "      <td>46º</td>\n",
       "      <td>Theobroma</td>\n",
       "      <td>0.5405</td>\n",
       "    </tr>\n",
       "    <tr>\n",
       "      <th>49</th>\n",
       "      <td>47º</td>\n",
       "      <td>Machadinho d'Oeste</td>\n",
       "      <td>0.5322</td>\n",
       "    </tr>\n",
       "  </tbody>\n",
       "</table>\n",
       "</div>"
      ],
      "text/plain": [
       "                     Posição                 Município  \\\n",
       "        Desenvolvimento alto      Desenvolvimento alto   \n",
       "0           nenhum município          nenhum município   \n",
       "1   Desenvolvimento moderado  Desenvolvimento moderado   \n",
       "2                         1º                 Ariquemes   \n",
       "3                         2º                   Vilhena   \n",
       "4                         3º             Pimenta Bueno   \n",
       "5                         4º               Porto Velho   \n",
       "6                         5º                 Ji-Paraná   \n",
       "7                         6º                    Cacoal   \n",
       "8                         7º       Santa Luzia d'Oeste   \n",
       "9                         8º            Rolim de Moura   \n",
       "10                        9º               Chupinguaia   \n",
       "11                       10º     São Miguel do Guaporé   \n",
       "12                       11º      Pimenteiras do Oeste   \n",
       "13                       12º             Teixeirópolis   \n",
       "14                       13º         Colorado do Oeste   \n",
       "15                       14º                      Jaru   \n",
       "16                       15º                Rio Crespo   \n",
       "17                       16º     Primavera de Rondônia   \n",
       "18                       17º     Alta Floresta d'Oeste   \n",
       "19                       18º       Ouro Preto do Oeste   \n",
       "20                       19º  São Francisco do Guaporé   \n",
       "21                       20º        Candeias do Jamari   \n",
       "22                       20º                   Buritis   \n",
       "23                       22º        São Felipe d'Oeste   \n",
       "24                       23º         Presidente Médici   \n",
       "25                       24º                Cerejeiras   \n",
       "26                       25º               Monte Negro   \n",
       "27                       26º                     Urupá   \n",
       "28   Desenvolvimento regular   Desenvolvimento regular   \n",
       "29                       27º           Espigão d'Oeste   \n",
       "30                       28º              Seringueiras   \n",
       "31                       29º          Alvorada d'Oeste   \n",
       "32                       30º           Itapuã do Oeste   \n",
       "33                       31º                    Cabixi   \n",
       "34                       32º   Novo Horizonte do Oeste   \n",
       "35                       33º  Nova Brasilândia d'Oeste   \n",
       "36                       34º           Vale do Paraíso   \n",
       "37                       35º                Corumbiara   \n",
       "38                       36º              Alto Paraíso   \n",
       "39                       37º               Cacaulândia   \n",
       "40                       38º             Vale do Anari   \n",
       "41                       39º        Ministro Andreazza   \n",
       "42                       40º             Costa Marques   \n",
       "43                       41º                Nova União   \n",
       "44                       42º             Guajará-Mirim   \n",
       "45                       43º          Mirante da Serra   \n",
       "46                       44º                   Parecis   \n",
       "47                       45º              Castanheiras   \n",
       "48                       46º                 Theobroma   \n",
       "49                       47º        Machadinho d'Oeste   \n",
       "\n",
       "     IFDM Consolidado (2013)  \n",
       "        Desenvolvimento alto  \n",
       "0           nenhum município  \n",
       "1   Desenvolvimento moderado  \n",
       "2                     0.7746  \n",
       "3                     0.7465  \n",
       "4                     0.7383  \n",
       "5                     0.7257  \n",
       "6                     0.7117  \n",
       "7                     0.7111  \n",
       "8                     0.6850  \n",
       "9                     0.6785  \n",
       "10                    0.6766  \n",
       "11                    0.6699  \n",
       "12                    0.6501  \n",
       "13                    0.6500  \n",
       "14                    0.6473  \n",
       "15                    0.6450  \n",
       "16                    0.6430  \n",
       "17                    0.6384  \n",
       "18                    0.6337  \n",
       "19                    0.6261  \n",
       "20                    0.6214  \n",
       "21                    0.6199  \n",
       "22                    0.6199  \n",
       "23                    0.6153  \n",
       "24                    0.6140  \n",
       "25                    0.6137  \n",
       "26                    0.6016  \n",
       "27                    0.6006  \n",
       "28   Desenvolvimento regular  \n",
       "29                    0.5973  \n",
       "30                    0.5922  \n",
       "31                    0.5919  \n",
       "32                    0.5903  \n",
       "33                    0.5887  \n",
       "34                    0.5858  \n",
       "35                    0.5857  \n",
       "36                    0.5818  \n",
       "37                    0.5759  \n",
       "38                    0.5735  \n",
       "39                    0.5721  \n",
       "40                    0.5710  \n",
       "41                    0.5657  \n",
       "42                    0.5626  \n",
       "43                    0.5571  \n",
       "44                    0.5541  \n",
       "45                    0.5519  \n",
       "46                    0.5502  \n",
       "47                    0.5430  \n",
       "48                    0.5405  \n",
       "49                    0.5322  "
      ]
     },
     "execution_count": 31,
     "metadata": {},
     "output_type": "execute_result"
    }
   ],
   "source": [
    "df.head(50)"
   ]
  },
  {
   "cell_type": "code",
   "execution_count": 32,
   "metadata": {},
   "outputs": [],
   "source": [
    "df.drop(index=56,inplace=True)\n",
    "df.drop(index=55,inplace=True)\n",
    "df.drop(index=1,inplace=True)\n",
    "df.drop(index=0,inplace=True)\n",
    "df.reset_index(drop=True,inplace=True)\n",
    "df.columns = df.columns.droplevel(1)\n",
    "df['Tipo_Desenvolvimento']=None"
   ]
  },
  {
   "cell_type": "code",
   "execution_count": 33,
   "metadata": {},
   "outputs": [],
   "source": [
    "df.loc[(df['Posição']=='Desenvolvimento regular'),'Posição']=0\n",
    "df.loc[(df['Posição']=='Desenvolvimento moderado'),'Posição']=0"
   ]
  },
  {
   "cell_type": "code",
   "execution_count": 34,
   "metadata": {},
   "outputs": [],
   "source": [
    "n=1\n",
    "for item in df['Posição']:\n",
    "    i = str(n)+'º'\n",
    "    df['Posição'] = df['Posição'].replace(i,n)\n",
    "    n = n+1"
   ]
  },
  {
   "cell_type": "code",
   "execution_count": 35,
   "metadata": {},
   "outputs": [],
   "source": [
    "df.Posição = df.Posição.astype(int)"
   ]
  },
  {
   "cell_type": "code",
   "execution_count": 36,
   "metadata": {},
   "outputs": [],
   "source": [
    "df.loc[(df['Posição']>=1)&(df['Posição']<=26),'Tipo_Desenvolvimento']='Moderado'\n",
    "df.loc[(df['Posição']>26),'Tipo_Desenvolvimento']='Regular'\n"
   ]
  },
  {
   "cell_type": "code",
   "execution_count": 37,
   "metadata": {},
   "outputs": [],
   "source": [
    "df.dropna(inplace=True)"
   ]
  },
  {
   "cell_type": "code",
   "execution_count": 38,
   "metadata": {},
   "outputs": [
    {
     "data": {
      "text/plain": [
       "Tipo_Desenvolvimento\n",
       "Moderado    26\n",
       "Regular     26\n",
       "Name: Município, dtype: int64"
      ]
     },
     "execution_count": 38,
     "metadata": {},
     "output_type": "execute_result"
    }
   ],
   "source": [
    "df.groupby('Tipo_Desenvolvimento')['Município'].count()"
   ]
  },
  {
   "cell_type": "markdown",
   "metadata": {},
   "source": [
    "### 5.3 PIB\n",
    "C - https://pt.wikipedia.org/wiki/Lista_de_munic%C3%ADpios_de_Rond%C3%B4nia_por_PIB\n"
   ]
  },
  {
   "cell_type": "markdown",
   "metadata": {},
   "source": [
    "### Analise as respostas encontradas, tire algum insight delas, conte pra gente algo encontrado nos dados."
   ]
  },
  {
   "cell_type": "markdown",
   "metadata": {},
   "source": [
    "Exemplo:\n",
    "- Ah, descobri que a idade mediana das mulheres que deram a luz no ano de 2019 dos municipios com o PIB mais alto é a maior dentre todas."
   ]
  },
  {
   "cell_type": "markdown",
   "metadata": {},
   "source": [
    " - Metade dos municipios do estado possuem um IFDM moderado.\n",
    " - As 5 cidades mais populosas possuem um IDH alto\n",
    " - A média de consultas nas regiões de alta e baixa latitude são parecidas o que é bem interessante visto que algumas dessas regiões são de acesso dificil.\n",
    " - A média de idade das mulheres nas cidades mais populosas é bem próxima."
   ]
  }
 ],
 "metadata": {
  "kernelspec": {
   "display_name": "Python 3",
   "language": "python",
   "name": "python3"
  },
  "language_info": {
   "codemirror_mode": {
    "name": "ipython",
    "version": 3
   },
   "file_extension": ".py",
   "mimetype": "text/x-python",
   "name": "python",
   "nbconvert_exporter": "python",
   "pygments_lexer": "ipython3",
   "version": "3.8.8"
  },
  "varInspector": {
   "cols": {
    "lenName": 16,
    "lenType": 16,
    "lenVar": 40
   },
   "kernels_config": {
    "python": {
     "delete_cmd_postfix": "",
     "delete_cmd_prefix": "del ",
     "library": "var_list.py",
     "varRefreshCmd": "print(var_dic_list())"
    },
    "r": {
     "delete_cmd_postfix": ") ",
     "delete_cmd_prefix": "rm(",
     "library": "var_list.r",
     "varRefreshCmd": "cat(var_dic_list()) "
    }
   },
   "types_to_exclude": [
    "module",
    "function",
    "builtin_function_or_method",
    "instance",
    "_Feature"
   ],
   "window_display": false
  }
 },
 "nbformat": 4,
 "nbformat_minor": 4
}
