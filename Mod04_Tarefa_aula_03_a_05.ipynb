{
  "cells": [
    {
      "cell_type": "markdown",
      "metadata": {
        "id": "rGTlBJSp8630"
      },
      "source": [
        "# Tarefa 02\n",
        "\n",
        "- Leia os enunciados com atenção\n",
        "- Saiba que pode haver mais de uma resposta correta\n",
        "- Insira novas células de código sempre que achar necessário\n",
        "- Em caso de dúvidas, procure os tutores\n",
        "- Divirta-se :)\n",
        "\n",
        "## Exercício 1: Vestibular\n",
        "\n",
        "Considere que a os dados gerados na célula abaixo contêm o número de acertos de 100 alunos em um vestibular para um curso de exatas, divididas pelos respectivos assuntos. Considere que cada assunto possui um número de questões conforme a tabela abaixo:\n",
        "\n",
        "| assunto | número de questões |\n",
        "|:---:|:---:|\n",
        "| Matemática | 24 |\n",
        "| Português | 18 |\n",
        "| Geografia | 8 |\n",
        "| Inglês | 8 |\n",
        "| História | 8 |\n",
        "| Física | 12 |\n",
        "| Química | 12 |\n",
        "\n",
        "Usando os comandos de operações com DataFrames que você aprendeu na Aula 03, calcule:\n",
        "\n",
        "1. (operações com escalar) Calcule o percentual de acerto dos alunos por assunto.  \n",
        "2. (operações entre *DataFrames) Calcule o total de acertos de cada aluno.  \n",
        "3. Calcule o porcentual geral de cada aluno.  \n",
        "4. Suponha que a nota de corte para a segunda fase seja 45. Quantos alunos tiveram nota maior que 45?  "
      ]
    },
    {
      "cell_type": "code",
      "execution_count": 1,
      "metadata": {
        "id": "t6syjV4r8636"
      },
      "outputs": [],
      "source": [
        "import pandas as pd\n",
        "import numpy as np\n",
        "\n",
        "np.random.seed(42)\n",
        "df_mat = pd.DataFrame(np.random.randint(24, size=(100, 1)), columns=['Qt_acertos'])\n",
        "\n",
        "df_por = pd.DataFrame(np.random.randint(18, size=(100, 1)), columns=['Qt_acertos'])\n",
        "\n",
        "df_geo = pd.DataFrame(np.random.randint(8, size=(100, 1)), columns=['Qt_acertos'])\n",
        "\n",
        "df_ing = pd.DataFrame(np.random.randint(8, size=(100, 1)), columns=['Qt_acertos'])\n",
        "\n",
        "df_his = pd.DataFrame(np.random.randint(8, size=(100, 1)), columns=['Qt_acertos'])\n",
        "\n",
        "df_fis = pd.DataFrame(np.random.randint(12, size=(100, 1)), columns=['Qt_acertos'])\n",
        "\n",
        "df_qui = pd.DataFrame(np.random.randint(12, size=(100, 1)), columns=['Qt_acertos'])"
      ]
    },
    {
      "cell_type": "code",
      "execution_count": null,
      "metadata": {
        "id": "d6sOOSDe8639"
      },
      "outputs": [],
      "source": [
        "# 1) (operações com escalar) Calcule o percentual de acerto dos alunos por assunto. \n",
        "def percentual(frame:pd.DataFrame, questoes:int):\n",
        "  perc = round((frame['Qt_acertos']/questoes)*100,1)\n",
        "  return perc\n",
        "\n",
        "print(percentual(df_mat,24))\n",
        "print(percentual(df_qui,12))\n",
        "print(percentual(df_fis,12))\n",
        "print(percentual(df_por,18))\n",
        "print(percentual(df_geo,8))\n",
        "print(percentual(df_his,8))\n",
        "print(percentual(df_ing,8))\n"
      ]
    },
    {
      "cell_type": "code",
      "execution_count": null,
      "metadata": {
        "id": "x-lTa82a863_"
      },
      "outputs": [],
      "source": [
        "# 2) (operações entre *DataFrames) Calcule o total de acertos de cada aluno. \n",
        "#df_mat.drop('Porcentagem',axis=1, inplace=True)\n",
        "display(df_mat+df_fis+df_his+df_geo+df_ing+df_por)"
      ]
    },
    {
      "cell_type": "code",
      "execution_count": null,
      "metadata": {
        "id": "XG84n_xE864A"
      },
      "outputs": [],
      "source": [
        "# 3) Calcule o porcentual geral de cada aluno. \n",
        "total = (df_mat+df_fis+df_his+df_geo+df_ing+df_por)\n",
        "tudo,_ = total.shape\n",
        "percentual_total = total/tudo\n",
        "round(percentual_total*100,2)"
      ]
    },
    {
      "cell_type": "code",
      "execution_count": 30,
      "metadata": {
        "id": "5tzMFDdx864A",
        "colab": {
          "base_uri": "https://localhost:8080/"
        },
        "outputId": "542cc71a-fbe1-4da9-d2ab-a4c74bce12a7"
      },
      "outputs": [
        {
          "output_type": "execute_result",
          "data": {
            "text/plain": [
              "Qt_acertos    16\n",
              "dtype: int64"
            ]
          },
          "metadata": {},
          "execution_count": 30
        }
      ],
      "source": [
        "# 4) Suponha que a nota de corte para a segunda fase seja 45. Quantos alunos tiveram nota maior que 45? \n",
        "(total >= 45).sum()\n"
      ]
    },
    {
      "cell_type": "markdown",
      "metadata": {
        "id": "ExMnWqIU864C"
      },
      "source": [
        "## 2) Vestibular II\n",
        "\n",
        "Ainda sobre o mesmo banco de dados:\n",
        "\n",
        "1. Neste vestibular, quem 'zera' em matemática, física ou química está desqualificado. Monte um novo *DataFrame* com os alunos desqualificados por este critério.\n",
        "2. Quantos são esses alunos?\n",
        "3. Qual a média desses alunos em história e geografia?\n",
        "4. Monte um *DataFrame* com os alunos que passaram para a segunda fase. Repare que estes alunos não podem ter sido desqualificados."
      ]
    },
    {
      "cell_type": "code",
      "source": [
        "# Neste vestibular, quem 'zera' em matemática, física ou química está desqualificado. \n",
        "#Monte um novo DataFrame com os alunos desqualificados por este critério.\n",
        "df_fis_desq= df_fis.loc[df_fis['Qt_acertos']<1]\n",
        "df_qui_desq = df_qui.loc[df_qui['Qt_acertos']<1]\n",
        "df_mat_desq = df_mat.loc[df_mat['Qt_acertos']<1]"
      ],
      "metadata": {
        "id": "3EwMt_AMyn2N"
      },
      "execution_count": 31,
      "outputs": []
    },
    {
      "cell_type": "code",
      "source": [
        "df_fis_desq['num_aluno'] = df_fis_desq.index\n",
        "df_fis_desq.reset_index(drop=True, inplace=True)\n",
        "df_qui_desq['num_aluno'] = df_qui_desq.index\n",
        "df_qui_desq.reset_index(drop=True, inplace=True)\n",
        "df_mat_desq['num_aluno'] = df_mat_desq.index\n",
        "df_mat_desq.reset_index(drop=True, inplace=True)"
      ],
      "metadata": {
        "id": "XQfGsM3I8DGq"
      },
      "execution_count": null,
      "outputs": []
    },
    {
      "cell_type": "code",
      "source": [
        "desqualificados = pd.DataFrame()\n",
        "desqualificados.insert(0,'Fisica',df_fis_desq['num_aluno'])\n",
        "desqualificados.insert(1,'Quimica',df_qui_desq['num_aluno'])\n",
        "desqualificados.insert(2,'Matematica',df_mat_desq['num_aluno'])"
      ],
      "metadata": {
        "id": "3mxbpLgCRszQ"
      },
      "execution_count": 33,
      "outputs": []
    },
    {
      "cell_type": "code",
      "source": [
        "desqualificados"
      ],
      "metadata": {
        "id": "5LNXon0Ha7Po"
      },
      "execution_count": null,
      "outputs": []
    },
    {
      "cell_type": "code",
      "source": [
        " # Quantos são esses alunos?\n",
        "desqualificados.count().sum()"
      ],
      "metadata": {
        "colab": {
          "base_uri": "https://localhost:8080/"
        },
        "id": "EkfUsc9ncHe0",
        "outputId": "4484b14c-624c-48e8-c549-5554e023ec98"
      },
      "execution_count": 35,
      "outputs": [
        {
          "output_type": "execute_result",
          "data": {
            "text/plain": [
              "24"
            ]
          },
          "metadata": {},
          "execution_count": 35
        }
      ]
    },
    {
      "cell_type": "code",
      "source": [
        "#Qual a média desses alunos em história e geografia?\n",
        "df_geo\n",
        "df_his\n",
        "df_fis_desq= df_fis.loc[df_fis['Qt_acertos']<1]\n",
        "df_qui_desq = df_qui.loc[df_qui['Qt_acertos']<1]\n",
        "df_mat_desq = df_mat.loc[df_mat['Qt_acertos']<1]"
      ],
      "metadata": {
        "id": "Qk4rBnrM9bKe"
      },
      "execution_count": 36,
      "outputs": []
    },
    {
      "cell_type": "code",
      "source": [
        "df_geo['Qt_acertos'].mean()"
      ],
      "metadata": {
        "colab": {
          "base_uri": "https://localhost:8080/"
        },
        "id": "Es3rEzgOApXk",
        "outputId": "c62fac3e-4c3b-4b74-e0a8-e451cd8daeda"
      },
      "execution_count": 37,
      "outputs": [
        {
          "output_type": "execute_result",
          "data": {
            "text/plain": [
              "3.36"
            ]
          },
          "metadata": {},
          "execution_count": 37
        }
      ]
    },
    {
      "cell_type": "markdown",
      "metadata": {
        "id": "zxvBeFjH864E"
      },
      "source": [
        "## 3) Vacinações no Acre\n",
        "Vamos trabalhar agora com a base de vacinações no Acre. Para facilitar a sua vida, copiamos o link do arquivo na célula abaixo.\n",
        "\n",
        "1. Quantas vacinas estão registradas nessa base?  \n",
        "2. Quantos pacientes foram vacinados? (considere um paciente para cada valor único de ```paciente_id```)  \n",
        "3. Quantos pacientes únicos tomaram a primeira dose? OBS: Há um caractere especial neste campo. Receba os valores do campo com o método ```.unique()```.   \n",
        "4. Quantos pacientes com menos de 18 anos foram vacinados?  \n",
        "5. Quantos estabelecimentos aplicaram vacina no Acre?"
      ]
    },
    {
      "cell_type": "code",
      "execution_count": null,
      "metadata": {
        "id": "lzv4ozSh864F"
      },
      "outputs": [],
      "source": [
        "import pandas as pd\n",
        "import numpy as np\n",
        "from google.colab import drive\n",
        "drive.mount('/content/drive')\n",
        "arquivo = '/content/drive/MyDrive/Colab Notebooks/Covid-Acre.csv'"
      ]
    },
    {
      "cell_type": "code",
      "execution_count": null,
      "metadata": {
        "id": "ydlJVBd7864F"
      },
      "outputs": [],
      "source": [
        "# 1) Sua solução aqui\n",
        "df_acre = pd.read_csv(arquivo, sep=';')\n"
      ]
    },
    {
      "cell_type": "code",
      "execution_count": null,
      "metadata": {
        "id": "-5KBx_z6864G"
      },
      "outputs": [],
      "source": [
        "df_acre.head(20)"
      ]
    },
    {
      "cell_type": "markdown",
      "source": [
        "##==============================================================="
      ],
      "metadata": {
        "id": "xHOXBl0NxYPk"
      }
    },
    {
      "cell_type": "code",
      "execution_count": null,
      "metadata": {
        "id": "U8ZdA9iJ864H"
      },
      "outputs": [],
      "source": [
        "# 1)Quantas vacinas estão registradas nessa base?  \n",
        "df_acre['vacina_codigo'].value_counts()"
      ]
    },
    {
      "cell_type": "markdown",
      "source": [
        "##===================================================================="
      ],
      "metadata": {
        "id": "gZNR13xlxdi-"
      }
    },
    {
      "cell_type": "code",
      "execution_count": 12,
      "metadata": {
        "id": "XI6smuJF864H",
        "colab": {
          "base_uri": "https://localhost:8080/"
        },
        "outputId": "4df30f70-f396-4dd0-e62c-25f87472078a"
      },
      "outputs": [
        {
          "output_type": "execute_result",
          "data": {
            "text/plain": [
              "318543"
            ]
          },
          "metadata": {},
          "execution_count": 12
        }
      ],
      "source": [
        "# 2) Quantos pacientes foram vacinados? (considere um paciente para cada valor único de paciente_id) \n",
        "pacientes = df_acre['paciente_id'].drop_duplicates()\n",
        "pacientes.count()"
      ]
    },
    {
      "cell_type": "code",
      "source": [
        "# 3) Quantos pacientes únicos tomaram a primeira dose? OBS: Há um caractere especial neste campo. \n",
        "      #Receba os valores do campo com o método .unique(). \n",
        "uma_dose = df_acre['vacina_descricao_dose'].unique()"
      ],
      "metadata": {
        "id": "VU517-WN-yOB"
      },
      "execution_count": 13,
      "outputs": []
    },
    {
      "cell_type": "code",
      "execution_count": 14,
      "metadata": {
        "id": "fId5ul8r864I",
        "colab": {
          "base_uri": "https://localhost:8080/"
        },
        "outputId": "0c28b774-04ea-4007-ff6c-2ab9411e54e2"
      },
      "outputs": [
        {
          "output_type": "execute_result",
          "data": {
            "text/plain": [
              "189707"
            ]
          },
          "metadata": {},
          "execution_count": 14
        }
      ],
      "source": [
        "primeira = df_acre['vacina_descricao_dose'] == uma_dose[1]\n",
        "df_acre['vacina_descricao_dose'][primeira==False].count()"
      ]
    },
    {
      "cell_type": "code",
      "execution_count": 23,
      "metadata": {
        "id": "K8m9mYgz864J",
        "colab": {
          "base_uri": "https://localhost:8080/"
        },
        "outputId": "cd427c69-3241-4a4b-a822-00b33bc7cb44"
      },
      "outputs": [
        {
          "output_type": "execute_result",
          "data": {
            "text/plain": [
              "43774"
            ]
          },
          "metadata": {},
          "execution_count": 23
        }
      ],
      "source": [
        "# Quantos pacientes com menos de 18 anos foram vacinados?  \n",
        "df_acre['paciente_idade'].loc[df_acre['paciente_idade']<18].count()"
      ]
    },
    {
      "cell_type": "code",
      "execution_count": 16,
      "metadata": {
        "id": "oJjWnxdu864J",
        "colab": {
          "base_uri": "https://localhost:8080/"
        },
        "outputId": "c29e086a-182b-4c1f-b80d-0b13b229fe75"
      },
      "outputs": [
        {
          "output_type": "execute_result",
          "data": {
            "text/plain": [
              "131"
            ]
          },
          "metadata": {},
          "execution_count": 16
        }
      ],
      "source": [
        "# Quantos estabelecimentos aplicaram vacina no Acre?\n",
        "df_acre['estabelecimento_valor'].drop_duplicates().count()"
      ]
    },
    {
      "cell_type": "markdown",
      "metadata": {
        "id": "SiQvdV9r864K"
      },
      "source": [
        "## 4) Vacinação II\n",
        "Gere um *DataFrame* que contenha somente os estabelecimentos que aplicaram vcinas a menores de 18 anos. Nesse *DataFrame* devem conter somente os dados dos estabelecimentos, mais uma coluna sendo a quantidade de vacinas que o estabelecimento aplicou a menores de 18 anos.  \n",
        "  \n",
        "1. crie uma cópia do *DataFrame* original, contendo somente os registros de vacinas realizadas a menores de 18 anos.  \n",
        "2. crie uma lista das colunas desse *DataFrame* com o atributo de *DataFrame* **.columns()**  \n",
        "3. Nesse *DataFrame* faça uma contagem do campo ```vacina_categoria_nome```.\n",
        "3. a partir da lista de colunas, escolha somente aquelas que são referentes ao estabelecimento, faça uma lista com esses valores.  \n",
        "4. usando o método *.loc*, selecione somente essas variáveis  \n",
        "5. Aplique o método **.drop_duplicates** e crie uma lista com uma linha para cada estabelecimento, com os dados do estabelecimento  "
      ]
    },
    {
      "cell_type": "code",
      "execution_count": 39,
      "metadata": {
        "id": "9nDiJb7Y864L"
      },
      "outputs": [],
      "source": [
        "# 1) crie uma cópia do DataFrame original, contendo somente os registros de vacinas realizadas a menores de 18 anos. \n",
        "df_acre_18 = (df_acre.loc[df_acre['paciente_idade']<18])"
      ]
    },
    {
      "cell_type": "code",
      "source": [
        "df_acre_18.rename(columns={'estalecimento_noFantasia':'estabelecimento_noFantasia'},inplace=True)\n",
        "df_acre_18.head(1)"
      ],
      "metadata": {
        "colab": {
          "base_uri": "https://localhost:8080/",
          "height": 272
        },
        "id": "Z66RpUZloxlH",
        "outputId": "e0165a0e-b26b-4d55-a563-303574d0c3f2"
      },
      "execution_count": 44,
      "outputs": [
        {
          "output_type": "stream",
          "name": "stderr",
          "text": [
            "/usr/local/lib/python3.7/dist-packages/pandas/core/frame.py:5047: SettingWithCopyWarning: \n",
            "A value is trying to be set on a copy of a slice from a DataFrame\n",
            "\n",
            "See the caveats in the documentation: https://pandas.pydata.org/pandas-docs/stable/user_guide/indexing.html#returning-a-view-versus-a-copy\n",
            "  errors=errors,\n"
          ]
        },
        {
          "output_type": "execute_result",
          "data": {
            "text/html": [
              "\n",
              "  <div id=\"df-bd865a71-21c0-46c2-aa9a-b6f3b615cb16\">\n",
              "    <div class=\"colab-df-container\">\n",
              "      <div>\n",
              "<style scoped>\n",
              "    .dataframe tbody tr th:only-of-type {\n",
              "        vertical-align: middle;\n",
              "    }\n",
              "\n",
              "    .dataframe tbody tr th {\n",
              "        vertical-align: top;\n",
              "    }\n",
              "\n",
              "    .dataframe thead th {\n",
              "        text-align: right;\n",
              "    }\n",
              "</style>\n",
              "<table border=\"1\" class=\"dataframe\">\n",
              "  <thead>\n",
              "    <tr style=\"text-align: right;\">\n",
              "      <th></th>\n",
              "      <th>document_id</th>\n",
              "      <th>paciente_id</th>\n",
              "      <th>paciente_idade</th>\n",
              "      <th>paciente_dataNascimento</th>\n",
              "      <th>paciente_enumSexoBiologico</th>\n",
              "      <th>paciente_racaCor_codigo</th>\n",
              "      <th>paciente_racaCor_valor</th>\n",
              "      <th>paciente_endereco_coIbgeMunicipio</th>\n",
              "      <th>paciente_endereco_coPais</th>\n",
              "      <th>paciente_endereco_nmMunicipio</th>\n",
              "      <th>paciente_endereco_nmPais</th>\n",
              "      <th>paciente_endereco_uf</th>\n",
              "      <th>paciente_endereco_cep</th>\n",
              "      <th>paciente_nacionalidade_enumNacionalidade</th>\n",
              "      <th>estabelecimento_valor</th>\n",
              "      <th>estabelecimento_razaoSocial</th>\n",
              "      <th>estabelecimento_noFantasia</th>\n",
              "      <th>estabelecimento_municipio_codigo</th>\n",
              "      <th>estabelecimento_municipio_nome</th>\n",
              "      <th>estabelecimento_uf</th>\n",
              "      <th>vacina_grupoAtendimento_codigo</th>\n",
              "      <th>vacina_grupoAtendimento_nome</th>\n",
              "      <th>vacina_categoria_codigo</th>\n",
              "      <th>vacina_categoria_nome</th>\n",
              "      <th>vacina_lote</th>\n",
              "      <th>vacina_fabricante_nome</th>\n",
              "      <th>vacina_fabricante_referencia</th>\n",
              "      <th>vacina_dataAplicacao</th>\n",
              "      <th>vacina_descricao_dose</th>\n",
              "      <th>vacina_codigo</th>\n",
              "      <th>vacina_nome</th>\n",
              "      <th>sistema_origem</th>\n",
              "    </tr>\n",
              "  </thead>\n",
              "  <tbody>\n",
              "    <tr>\n",
              "      <th>15</th>\n",
              "      <td>7853b550-06c2-44db-a07b-386c41a3d687-i0b0</td>\n",
              "      <td>1188c10c3444c8753f488b1d7b3a5245e3549f83d95491...</td>\n",
              "      <td>17</td>\n",
              "      <td>2003-12-29</td>\n",
              "      <td>M</td>\n",
              "      <td>4</td>\n",
              "      <td>AMARELA</td>\n",
              "      <td>120050.0</td>\n",
              "      <td>10.0</td>\n",
              "      <td>SENA MADUREIRA</td>\n",
              "      <td>BRASIL</td>\n",
              "      <td>AC</td>\n",
              "      <td>69940</td>\n",
              "      <td>B</td>\n",
              "      <td>6992811</td>\n",
              "      <td>PREFEITURA MUNICIPAL DE SENA MADUREIRA</td>\n",
              "      <td>UNIDADE BASICA DE SAUDE MANOEL FERNANDES VIEIRA</td>\n",
              "      <td>120050</td>\n",
              "      <td>SENA MADUREIRA</td>\n",
              "      <td>AC</td>\n",
              "      <td>201</td>\n",
              "      <td>Pessoas de 18 a 64 anos</td>\n",
              "      <td>2.0</td>\n",
              "      <td>Faixa Etária</td>\n",
              "      <td>FA9096</td>\n",
              "      <td>PFIZER</td>\n",
              "      <td>Organization/00394544000851</td>\n",
              "      <td>2021-08-17</td>\n",
              "      <td>1ª Dose</td>\n",
              "      <td>87</td>\n",
              "      <td>COVID-19 PFIZER - COMIRNATY</td>\n",
              "      <td>Novo PNI</td>\n",
              "    </tr>\n",
              "  </tbody>\n",
              "</table>\n",
              "</div>\n",
              "      <button class=\"colab-df-convert\" onclick=\"convertToInteractive('df-bd865a71-21c0-46c2-aa9a-b6f3b615cb16')\"\n",
              "              title=\"Convert this dataframe to an interactive table.\"\n",
              "              style=\"display:none;\">\n",
              "        \n",
              "  <svg xmlns=\"http://www.w3.org/2000/svg\" height=\"24px\"viewBox=\"0 0 24 24\"\n",
              "       width=\"24px\">\n",
              "    <path d=\"M0 0h24v24H0V0z\" fill=\"none\"/>\n",
              "    <path d=\"M18.56 5.44l.94 2.06.94-2.06 2.06-.94-2.06-.94-.94-2.06-.94 2.06-2.06.94zm-11 1L8.5 8.5l.94-2.06 2.06-.94-2.06-.94L8.5 2.5l-.94 2.06-2.06.94zm10 10l.94 2.06.94-2.06 2.06-.94-2.06-.94-.94-2.06-.94 2.06-2.06.94z\"/><path d=\"M17.41 7.96l-1.37-1.37c-.4-.4-.92-.59-1.43-.59-.52 0-1.04.2-1.43.59L10.3 9.45l-7.72 7.72c-.78.78-.78 2.05 0 2.83L4 21.41c.39.39.9.59 1.41.59.51 0 1.02-.2 1.41-.59l7.78-7.78 2.81-2.81c.8-.78.8-2.07 0-2.86zM5.41 20L4 18.59l7.72-7.72 1.47 1.35L5.41 20z\"/>\n",
              "  </svg>\n",
              "      </button>\n",
              "      \n",
              "  <style>\n",
              "    .colab-df-container {\n",
              "      display:flex;\n",
              "      flex-wrap:wrap;\n",
              "      gap: 12px;\n",
              "    }\n",
              "\n",
              "    .colab-df-convert {\n",
              "      background-color: #E8F0FE;\n",
              "      border: none;\n",
              "      border-radius: 50%;\n",
              "      cursor: pointer;\n",
              "      display: none;\n",
              "      fill: #1967D2;\n",
              "      height: 32px;\n",
              "      padding: 0 0 0 0;\n",
              "      width: 32px;\n",
              "    }\n",
              "\n",
              "    .colab-df-convert:hover {\n",
              "      background-color: #E2EBFA;\n",
              "      box-shadow: 0px 1px 2px rgba(60, 64, 67, 0.3), 0px 1px 3px 1px rgba(60, 64, 67, 0.15);\n",
              "      fill: #174EA6;\n",
              "    }\n",
              "\n",
              "    [theme=dark] .colab-df-convert {\n",
              "      background-color: #3B4455;\n",
              "      fill: #D2E3FC;\n",
              "    }\n",
              "\n",
              "    [theme=dark] .colab-df-convert:hover {\n",
              "      background-color: #434B5C;\n",
              "      box-shadow: 0px 1px 3px 1px rgba(0, 0, 0, 0.15);\n",
              "      filter: drop-shadow(0px 1px 2px rgba(0, 0, 0, 0.3));\n",
              "      fill: #FFFFFF;\n",
              "    }\n",
              "  </style>\n",
              "\n",
              "      <script>\n",
              "        const buttonEl =\n",
              "          document.querySelector('#df-bd865a71-21c0-46c2-aa9a-b6f3b615cb16 button.colab-df-convert');\n",
              "        buttonEl.style.display =\n",
              "          google.colab.kernel.accessAllowed ? 'block' : 'none';\n",
              "\n",
              "        async function convertToInteractive(key) {\n",
              "          const element = document.querySelector('#df-bd865a71-21c0-46c2-aa9a-b6f3b615cb16');\n",
              "          const dataTable =\n",
              "            await google.colab.kernel.invokeFunction('convertToInteractive',\n",
              "                                                     [key], {});\n",
              "          if (!dataTable) return;\n",
              "\n",
              "          const docLinkHtml = 'Like what you see? Visit the ' +\n",
              "            '<a target=\"_blank\" href=https://colab.research.google.com/notebooks/data_table.ipynb>data table notebook</a>'\n",
              "            + ' to learn more about interactive tables.';\n",
              "          element.innerHTML = '';\n",
              "          dataTable['output_type'] = 'display_data';\n",
              "          await google.colab.output.renderOutput(dataTable, element);\n",
              "          const docLink = document.createElement('div');\n",
              "          docLink.innerHTML = docLinkHtml;\n",
              "          element.appendChild(docLink);\n",
              "        }\n",
              "      </script>\n",
              "    </div>\n",
              "  </div>\n",
              "  "
            ],
            "text/plain": [
              "                                  document_id  ... sistema_origem\n",
              "15  7853b550-06c2-44db-a07b-386c41a3d687-i0b0  ...       Novo PNI\n",
              "\n",
              "[1 rows x 32 columns]"
            ]
          },
          "metadata": {},
          "execution_count": 44
        }
      ]
    },
    {
      "cell_type": "code",
      "execution_count": null,
      "metadata": {
        "id": "qigAuLWU864M"
      },
      "outputs": [],
      "source": [
        "# 2) crie uma lista das colunas desse DataFrame com o atributo de DataFrame .columns()\n",
        "colunas = df_acre_18.columns\n",
        "colunas"
      ]
    },
    {
      "cell_type": "code",
      "execution_count": null,
      "metadata": {
        "id": "ILS7BT5x864M"
      },
      "outputs": [],
      "source": [
        "# 3)Nesse DataFrame faça uma contagem do campo vacina_categoria_nome.\n",
        "df_acre_18['vacina_categoria_nome'].count()"
      ]
    },
    {
      "cell_type": "code",
      "execution_count": 54,
      "metadata": {
        "id": "U7drvb14864N"
      },
      "outputs": [],
      "source": [
        "# 4)a partir da lista de colunas, escolha somente aquelas que são referentes ao estabelecimento, faça uma lista com esses valores. \n",
        "lista_estabelecimento = []\n",
        "for item in colunas:\n",
        "  if item.__contains__('estab'):\n",
        "    lista_estabelecimento.append(item)\n",
        "     "
      ]
    },
    {
      "cell_type": "code",
      "source": [
        "lista_estabelecimento"
      ],
      "metadata": {
        "id": "Cr732_TTCBqw"
      },
      "execution_count": null,
      "outputs": []
    },
    {
      "cell_type": "code",
      "execution_count": 72,
      "metadata": {
        "id": "JHQ5a72O864N",
        "colab": {
          "base_uri": "https://localhost:8080/",
          "height": 113
        },
        "outputId": "ed289321-6249-41ce-9f73-0f1a1554b819"
      },
      "outputs": [
        {
          "output_type": "execute_result",
          "data": {
            "text/html": [
              "\n",
              "  <div id=\"df-6f2b7bf5-17aa-4630-bba0-752edf4b21ae\">\n",
              "    <div class=\"colab-df-container\">\n",
              "      <div>\n",
              "<style scoped>\n",
              "    .dataframe tbody tr th:only-of-type {\n",
              "        vertical-align: middle;\n",
              "    }\n",
              "\n",
              "    .dataframe tbody tr th {\n",
              "        vertical-align: top;\n",
              "    }\n",
              "\n",
              "    .dataframe thead th {\n",
              "        text-align: right;\n",
              "    }\n",
              "</style>\n",
              "<table border=\"1\" class=\"dataframe\">\n",
              "  <thead>\n",
              "    <tr style=\"text-align: right;\">\n",
              "      <th></th>\n",
              "      <th>estabelecimento_valor</th>\n",
              "      <th>estabelecimento_razaoSocial</th>\n",
              "      <th>estabelecimento_noFantasia</th>\n",
              "      <th>estabelecimento_municipio_codigo</th>\n",
              "      <th>estabelecimento_municipio_nome</th>\n",
              "      <th>estabelecimento_uf</th>\n",
              "    </tr>\n",
              "  </thead>\n",
              "  <tbody>\n",
              "  </tbody>\n",
              "</table>\n",
              "</div>\n",
              "      <button class=\"colab-df-convert\" onclick=\"convertToInteractive('df-6f2b7bf5-17aa-4630-bba0-752edf4b21ae')\"\n",
              "              title=\"Convert this dataframe to an interactive table.\"\n",
              "              style=\"display:none;\">\n",
              "        \n",
              "  <svg xmlns=\"http://www.w3.org/2000/svg\" height=\"24px\"viewBox=\"0 0 24 24\"\n",
              "       width=\"24px\">\n",
              "    <path d=\"M0 0h24v24H0V0z\" fill=\"none\"/>\n",
              "    <path d=\"M18.56 5.44l.94 2.06.94-2.06 2.06-.94-2.06-.94-.94-2.06-.94 2.06-2.06.94zm-11 1L8.5 8.5l.94-2.06 2.06-.94-2.06-.94L8.5 2.5l-.94 2.06-2.06.94zm10 10l.94 2.06.94-2.06 2.06-.94-2.06-.94-.94-2.06-.94 2.06-2.06.94z\"/><path d=\"M17.41 7.96l-1.37-1.37c-.4-.4-.92-.59-1.43-.59-.52 0-1.04.2-1.43.59L10.3 9.45l-7.72 7.72c-.78.78-.78 2.05 0 2.83L4 21.41c.39.39.9.59 1.41.59.51 0 1.02-.2 1.41-.59l7.78-7.78 2.81-2.81c.8-.78.8-2.07 0-2.86zM5.41 20L4 18.59l7.72-7.72 1.47 1.35L5.41 20z\"/>\n",
              "  </svg>\n",
              "      </button>\n",
              "      \n",
              "  <style>\n",
              "    .colab-df-container {\n",
              "      display:flex;\n",
              "      flex-wrap:wrap;\n",
              "      gap: 12px;\n",
              "    }\n",
              "\n",
              "    .colab-df-convert {\n",
              "      background-color: #E8F0FE;\n",
              "      border: none;\n",
              "      border-radius: 50%;\n",
              "      cursor: pointer;\n",
              "      display: none;\n",
              "      fill: #1967D2;\n",
              "      height: 32px;\n",
              "      padding: 0 0 0 0;\n",
              "      width: 32px;\n",
              "    }\n",
              "\n",
              "    .colab-df-convert:hover {\n",
              "      background-color: #E2EBFA;\n",
              "      box-shadow: 0px 1px 2px rgba(60, 64, 67, 0.3), 0px 1px 3px 1px rgba(60, 64, 67, 0.15);\n",
              "      fill: #174EA6;\n",
              "    }\n",
              "\n",
              "    [theme=dark] .colab-df-convert {\n",
              "      background-color: #3B4455;\n",
              "      fill: #D2E3FC;\n",
              "    }\n",
              "\n",
              "    [theme=dark] .colab-df-convert:hover {\n",
              "      background-color: #434B5C;\n",
              "      box-shadow: 0px 1px 3px 1px rgba(0, 0, 0, 0.15);\n",
              "      filter: drop-shadow(0px 1px 2px rgba(0, 0, 0, 0.3));\n",
              "      fill: #FFFFFF;\n",
              "    }\n",
              "  </style>\n",
              "\n",
              "      <script>\n",
              "        const buttonEl =\n",
              "          document.querySelector('#df-6f2b7bf5-17aa-4630-bba0-752edf4b21ae button.colab-df-convert');\n",
              "        buttonEl.style.display =\n",
              "          google.colab.kernel.accessAllowed ? 'block' : 'none';\n",
              "\n",
              "        async function convertToInteractive(key) {\n",
              "          const element = document.querySelector('#df-6f2b7bf5-17aa-4630-bba0-752edf4b21ae');\n",
              "          const dataTable =\n",
              "            await google.colab.kernel.invokeFunction('convertToInteractive',\n",
              "                                                     [key], {});\n",
              "          if (!dataTable) return;\n",
              "\n",
              "          const docLinkHtml = 'Like what you see? Visit the ' +\n",
              "            '<a target=\"_blank\" href=https://colab.research.google.com/notebooks/data_table.ipynb>data table notebook</a>'\n",
              "            + ' to learn more about interactive tables.';\n",
              "          element.innerHTML = '';\n",
              "          dataTable['output_type'] = 'display_data';\n",
              "          await google.colab.output.renderOutput(dataTable, element);\n",
              "          const docLink = document.createElement('div');\n",
              "          docLink.innerHTML = docLinkHtml;\n",
              "          element.appendChild(docLink);\n",
              "        }\n",
              "      </script>\n",
              "    </div>\n",
              "  </div>\n",
              "  "
            ],
            "text/plain": [
              "Empty DataFrame\n",
              "Columns: [estabelecimento_valor, estabelecimento_razaoSocial, estabelecimento_noFantasia, estabelecimento_municipio_codigo, estabelecimento_municipio_nome, estabelecimento_uf]\n",
              "Index: []"
            ]
          },
          "metadata": {},
          "execution_count": 72
        }
      ],
      "source": [
        "# 5)usando o método .loc, selecione somente essas variáveis \n",
        "df_acre_18.loc[[],lista_estabelecimento]"
      ]
    },
    {
      "cell_type": "code",
      "source": [
        "# 6) Aplique o método .drop_duplicates e crie uma lista com uma linha para cada estabelecimento, com os dados do estabelecimento \n"
      ],
      "metadata": {
        "id": "yBnNZVfju6dl"
      },
      "execution_count": null,
      "outputs": []
    }
  ],
  "metadata": {
    "kernelspec": {
      "display_name": "Python 3",
      "language": "python",
      "name": "python3"
    },
    "language_info": {
      "codemirror_mode": {
        "name": "ipython",
        "version": 3
      },
      "file_extension": ".py",
      "mimetype": "text/x-python",
      "name": "python",
      "nbconvert_exporter": "python",
      "pygments_lexer": "ipython3",
      "version": "3.8.5"
    },
    "colab": {
      "name": "Mod04 - Tarefa aula 03 a 05.ipynb",
      "provenance": []
    }
  },
  "nbformat": 4,
  "nbformat_minor": 0
}