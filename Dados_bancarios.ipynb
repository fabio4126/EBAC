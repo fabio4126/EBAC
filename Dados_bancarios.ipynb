{
 "cells": [
  {
   "cell_type": "markdown",
   "metadata": {
    "id": "1J1MY3KFKCTd"
   },
   "source": [
    "# Módulo 07, Tarefa 01\n",
    "\n",
    "Vamos começar a mexer na nossa base de projeto? Já fizemos um exercício de montar a variável resposta, já pudemos perceber que essa atividade pode não ser trivial. Vamos agora trabalhar a base para que fique propícia ao *scikitlearn* para trabalharmos.\n",
    "\n",
    "Lembrando, a base se chama demo01.csv, e originalmente está publicada [aqui](https://www.kaggle.com/rikdifos/credit-card-approval-prediction)."
   ]
  },
  {
   "cell_type": "code",
   "execution_count": 1,
   "metadata": {
    "id": "sCIqnh7dLBWm"
   },
   "outputs": [],
   "source": [
    "import pandas as pd\n",
    "import numpy as np"
   ]
  },
  {
   "cell_type": "markdown",
   "metadata": {
    "id": "77eP5d_4KCTf"
   },
   "source": [
    "#### 1) Carregue a base e avalie:\n",
    "\n",
    "- As variáveis\n",
    "- Tipos de dados de cada variável\n",
    "- Quantidade de missings\n",
    "- Distribuição da variável resposta (mau)"
   ]
  },
  {
   "cell_type": "code",
   "execution_count": 2,
   "metadata": {
    "id": "6p_Y3ZF8KCTi"
   },
   "outputs": [],
   "source": [
    "df = pd.read_csv('application_record.csv')"
   ]
  },
  {
   "cell_type": "code",
   "execution_count": 3,
   "metadata": {
    "id": "2YhGYMMp0drF"
   },
   "outputs": [],
   "source": [
    "mau = pd.read_csv('credit_record.csv')"
   ]
  },
  {
   "cell_type": "code",
   "execution_count": null,
   "metadata": {
    "colab": {
     "base_uri": "https://localhost:8080/"
    },
    "id": "P1NYAbGiaiY7",
    "outputId": "8876d821-67c1-4984-93d6-357020c82184"
   },
   "outputs": [],
   "source": [
    "print(df.shape)\n",
    "print(mau.shape)"
   ]
  },
  {
   "cell_type": "code",
   "execution_count": 13,
   "metadata": {
    "colab": {
     "base_uri": "https://localhost:8080/",
     "height": 176
    },
    "id": "JAXJYFFKMAmT",
    "outputId": "d3b57834-433e-4fac-862f-9ef313b2eee9"
   },
   "outputs": [
    {
     "data": {
      "text/html": [
       "<div>\n",
       "<style scoped>\n",
       "    .dataframe tbody tr th:only-of-type {\n",
       "        vertical-align: middle;\n",
       "    }\n",
       "\n",
       "    .dataframe tbody tr th {\n",
       "        vertical-align: top;\n",
       "    }\n",
       "\n",
       "    .dataframe thead th {\n",
       "        text-align: right;\n",
       "    }\n",
       "</style>\n",
       "<table border=\"1\" class=\"dataframe\">\n",
       "  <thead>\n",
       "    <tr style=\"text-align: right;\">\n",
       "      <th></th>\n",
       "      <th>ID</th>\n",
       "      <th>CODE_GENDER</th>\n",
       "      <th>FLAG_OWN_CAR</th>\n",
       "      <th>FLAG_OWN_REALTY</th>\n",
       "      <th>CNT_CHILDREN</th>\n",
       "      <th>AMT_INCOME_TOTAL</th>\n",
       "      <th>NAME_INCOME_TYPE</th>\n",
       "      <th>NAME_EDUCATION_TYPE</th>\n",
       "      <th>NAME_FAMILY_STATUS</th>\n",
       "      <th>DAYS_BIRTH</th>\n",
       "      <th>DAYS_EMPLOYED</th>\n",
       "      <th>FLAG_MOBIL</th>\n",
       "      <th>FLAG_WORK_PHONE</th>\n",
       "      <th>FLAG_PHONE</th>\n",
       "      <th>FLAG_EMAIL</th>\n",
       "      <th>OCCUPATION_TYPE</th>\n",
       "      <th>CNT_FAM_MEMBERS</th>\n",
       "    </tr>\n",
       "  </thead>\n",
       "  <tbody>\n",
       "    <tr>\n",
       "      <th>2</th>\n",
       "      <td>5008806</td>\n",
       "      <td>0</td>\n",
       "      <td>1</td>\n",
       "      <td>1</td>\n",
       "      <td>0</td>\n",
       "      <td>112500.0</td>\n",
       "      <td>0</td>\n",
       "      <td>0</td>\n",
       "      <td>0</td>\n",
       "      <td>-21474</td>\n",
       "      <td>-1134</td>\n",
       "      <td>1</td>\n",
       "      <td>0</td>\n",
       "      <td>0</td>\n",
       "      <td>0</td>\n",
       "      <td>Security staff</td>\n",
       "      <td>2</td>\n",
       "    </tr>\n",
       "    <tr>\n",
       "      <th>3</th>\n",
       "      <td>5008808</td>\n",
       "      <td>1</td>\n",
       "      <td>0</td>\n",
       "      <td>1</td>\n",
       "      <td>0</td>\n",
       "      <td>270000.0</td>\n",
       "      <td>1</td>\n",
       "      <td>0</td>\n",
       "      <td>1</td>\n",
       "      <td>-19110</td>\n",
       "      <td>-3051</td>\n",
       "      <td>1</td>\n",
       "      <td>0</td>\n",
       "      <td>1</td>\n",
       "      <td>1</td>\n",
       "      <td>Sales staff</td>\n",
       "      <td>1</td>\n",
       "    </tr>\n",
       "  </tbody>\n",
       "</table>\n",
       "</div>"
      ],
      "text/plain": [
       "        ID  CODE_GENDER  FLAG_OWN_CAR  FLAG_OWN_REALTY  CNT_CHILDREN  \\\n",
       "2  5008806            0             1                1             0   \n",
       "3  5008808            1             0                1             0   \n",
       "\n",
       "   AMT_INCOME_TOTAL  NAME_INCOME_TYPE  NAME_EDUCATION_TYPE  \\\n",
       "2          112500.0                 0                    0   \n",
       "3          270000.0                 1                    0   \n",
       "\n",
       "   NAME_FAMILY_STATUS  DAYS_BIRTH  DAYS_EMPLOYED  FLAG_MOBIL  FLAG_WORK_PHONE  \\\n",
       "2                   0      -21474          -1134           1                0   \n",
       "3                   1      -19110          -3051           1                0   \n",
       "\n",
       "   FLAG_PHONE  FLAG_EMAIL OCCUPATION_TYPE  CNT_FAM_MEMBERS  \n",
       "2           0           0  Security staff                2  \n",
       "3           1           1     Sales staff                1  "
      ]
     },
     "execution_count": 13,
     "metadata": {},
     "output_type": "execute_result"
    }
   ],
   "source": [
    "df.head(2)"
   ]
  },
  {
   "cell_type": "markdown",
   "metadata": {
    "id": "7Jvz3XEOZLTI"
   },
   "source": [
    "**LIMPEZA**"
   ]
  },
  {
   "cell_type": "code",
   "execution_count": null,
   "metadata": {
    "colab": {
     "base_uri": "https://localhost:8080/"
    },
    "id": "IzWy_lrFZJ79",
    "outputId": "134cec50-f537-40f5-825e-b7e35787ecd4"
   },
   "outputs": [],
   "source": [
    "#================= MISSINGS==============\n",
    "print(mau.isna().sum())"
   ]
  },
  {
   "cell_type": "code",
   "execution_count": null,
   "metadata": {
    "colab": {
     "base_uri": "https://localhost:8080/",
     "height": 35
    },
    "id": "v201kYizbQMR",
    "outputId": "60af62d2-f8c1-4967-a93c-f96e3df270ff"
   },
   "outputs": [],
   "source": [
    "display(df.isna().sum())"
   ]
  },
  {
   "cell_type": "code",
   "execution_count": 4,
   "metadata": {},
   "outputs": [],
   "source": [
    "df.dropna(axis=0,inplace=True,how='any')"
   ]
  },
  {
   "cell_type": "code",
   "execution_count": 5,
   "metadata": {
    "id": "6lXWtRNlZhkH"
   },
   "outputs": [],
   "source": [
    "#============= COLUNAS DESNECESSÁRIAS E COM MISSINGS=====================\n",
    "\n",
    "df.drop(columns=['NAME_HOUSING_TYPE'],inplace=True)"
   ]
  },
  {
   "cell_type": "markdown",
   "metadata": {
    "id": "KqFTADqjZ4bh"
   },
   "source": [
    "**IDENTIFICANDO ID DUPLICADOS**"
   ]
  },
  {
   "cell_type": "code",
   "execution_count": 6,
   "metadata": {
    "colab": {
     "base_uri": "https://localhost:8080/"
    },
    "id": "-SHce1AYYlK1",
    "outputId": "4b8de768-306b-4a64-f928-8fc1d31635e5"
   },
   "outputs": [
    {
     "name": "stdout",
     "output_type": "stream",
     "text": [
      "23\n",
      "1002590\n"
     ]
    }
   ],
   "source": [
    "print(df.ID.duplicated().sum())\n",
    "print(mau.duplicated(subset=['ID']).sum())"
   ]
  },
  {
   "cell_type": "code",
   "execution_count": null,
   "metadata": {
    "id": "PTZGllgGaKUi"
   },
   "outputs": [],
   "source": [
    "#========== LIMPEZA DE IDs DUPLICADOS==================="
   ]
  },
  {
   "cell_type": "code",
   "execution_count": 7,
   "metadata": {
    "id": "yozKXBQ5YvdC"
   },
   "outputs": [],
   "source": [
    "df.drop_duplicates(subset='ID',inplace=True)\n",
    "mau.drop_duplicates(subset='ID',inplace=True)"
   ]
  },
  {
   "cell_type": "code",
   "execution_count": 8,
   "metadata": {
    "collapsed": true,
    "id": "SU21xNnqYq1m"
   },
   "outputs": [
    {
     "name": "stdout",
     "output_type": "stream",
     "text": [
      "<class 'pandas.core.frame.DataFrame'>\n",
      "Int64Index: 304331 entries, 2 to 438556\n",
      "Data columns (total 17 columns):\n",
      " #   Column               Non-Null Count   Dtype  \n",
      "---  ------               --------------   -----  \n",
      " 0   ID                   304331 non-null  int64  \n",
      " 1   CODE_GENDER          304331 non-null  object \n",
      " 2   FLAG_OWN_CAR         304331 non-null  object \n",
      " 3   FLAG_OWN_REALTY      304331 non-null  object \n",
      " 4   CNT_CHILDREN         304331 non-null  int64  \n",
      " 5   AMT_INCOME_TOTAL     304331 non-null  float64\n",
      " 6   NAME_INCOME_TYPE     304331 non-null  object \n",
      " 7   NAME_EDUCATION_TYPE  304331 non-null  object \n",
      " 8   NAME_FAMILY_STATUS   304331 non-null  object \n",
      " 9   DAYS_BIRTH           304331 non-null  int64  \n",
      " 10  DAYS_EMPLOYED        304331 non-null  int64  \n",
      " 11  FLAG_MOBIL           304331 non-null  int64  \n",
      " 12  FLAG_WORK_PHONE      304331 non-null  int64  \n",
      " 13  FLAG_PHONE           304331 non-null  int64  \n",
      " 14  FLAG_EMAIL           304331 non-null  int64  \n",
      " 15  OCCUPATION_TYPE      304331 non-null  object \n",
      " 16  CNT_FAM_MEMBERS      304331 non-null  float64\n",
      "dtypes: float64(2), int64(8), object(7)\n",
      "memory usage: 41.8+ MB\n"
     ]
    }
   ],
   "source": [
    "df.info()"
   ]
  },
  {
   "cell_type": "code",
   "execution_count": 9,
   "metadata": {
    "colab": {
     "base_uri": "https://localhost:8080/"
    },
    "collapsed": true,
    "id": "vF4aoOB8d_8m",
    "outputId": "230edd73-95f4-4d3b-f943-ebae52e773ea"
   },
   "outputs": [
    {
     "name": "stdout",
     "output_type": "stream",
     "text": [
      "<class 'pandas.core.frame.DataFrame'>\n",
      "Int64Index: 45985 entries, 0 to 1048545\n",
      "Data columns (total 3 columns):\n",
      " #   Column          Non-Null Count  Dtype \n",
      "---  ------          --------------  ----- \n",
      " 0   ID              45985 non-null  int64 \n",
      " 1   MONTHS_BALANCE  45985 non-null  int64 \n",
      " 2   STATUS          45985 non-null  object\n",
      "dtypes: int64(2), object(1)\n",
      "memory usage: 1.4+ MB\n"
     ]
    }
   ],
   "source": [
    "mau.info()"
   ]
  },
  {
   "cell_type": "markdown",
   "metadata": {
    "id": "WtzCe6x6d3NY"
   },
   "source": [
    "**CATEGORIZANDO VARIÁVEIS**"
   ]
  },
  {
   "cell_type": "code",
   "execution_count": 10,
   "metadata": {
    "id": "pTkZpbiiMcxk"
   },
   "outputs": [],
   "source": [
    "df.CODE_GENDER = df.CODE_GENDER.map({'M':0, 'F':1})\n",
    "df.FLAG_OWN_CAR = df.FLAG_OWN_CAR.map({'N':0, 'Y':1})\n",
    "df.FLAG_OWN_REALTY = df.FLAG_OWN_REALTY.map({'N':0, 'Y':1})"
   ]
  },
  {
   "cell_type": "code",
   "execution_count": 11,
   "metadata": {
    "id": "1MKioX5I5wiy"
   },
   "outputs": [],
   "source": [
    "civil = ['Married','Single / not married','Civil marriage','Separated','Widow']\n",
    "n=0\n",
    "for item in civil:\n",
    "  df.loc[df.NAME_FAMILY_STATUS == item,'NAME_FAMILY_STATUS']=n\n",
    "  n+=1\n",
    "\n",
    "study = ['Secondary / secondary special','Higher education','Incomplete higher','Lower secondary','Academic degree']\n",
    "n=0\n",
    "for item in study:\n",
    "  df.loc[df.NAME_EDUCATION_TYPE == item,'NAME_EDUCATION_TYPE']=n\n",
    "  n+=1\n",
    "\n",
    "work = ['Working','Commercial associate','Pensioner','State servant', 'Student']\n",
    "n=0\n",
    "for item in work:\n",
    "  df.loc[df.NAME_INCOME_TYPE == item,'NAME_INCOME_TYPE']=n\n",
    "  n+=1"
   ]
  },
  {
   "cell_type": "markdown",
   "metadata": {
    "id": "q6uaFm9SceES"
   },
   "source": [
    "**TIPOS DE DADOS**"
   ]
  },
  {
   "cell_type": "code",
   "execution_count": 12,
   "metadata": {
    "id": "2r322KiJc3DG"
   },
   "outputs": [],
   "source": [
    "#==================== CONVERSÃO DE COLUNAS=======================\n",
    "df['CNT_FAM_MEMBERS'] = df['CNT_FAM_MEMBERS'].astype(int)\n",
    "df['CODE_GENDER'] = df['CODE_GENDER'].astype(int)\n",
    "df['FLAG_OWN_CAR'] = df['FLAG_OWN_CAR'].astype(int)\n",
    "df['FLAG_OWN_REALTY'] = df['FLAG_OWN_REALTY'].astype(int)\n",
    "df['NAME_INCOME_TYPE'] = df['NAME_INCOME_TYPE'].astype(int)\n",
    "df['NAME_EDUCATION_TYPE'] = df['NAME_EDUCATION_TYPE'].astype(int)\n",
    "df['NAME_FAMILY_STATUS'] = df['NAME_FAMILY_STATUS'].astype(int)"
   ]
  },
  {
   "cell_type": "markdown",
   "metadata": {
    "id": "MsSdy6reevvO"
   },
   "source": [
    "**UNINDO AS TABELAS df E mau**"
   ]
  },
  {
   "cell_type": "code",
   "execution_count": 14,
   "metadata": {
    "id": "RlL6EssMe6JC"
   },
   "outputs": [],
   "source": [
    "df1 = df.merge(mau,on='ID',how='left')"
   ]
  },
  {
   "cell_type": "markdown",
   "metadata": {
    "id": "dXmWrCZjnV5X"
   },
   "source": [
    "**LIMPEZA DO NOVO DATAFRAME**"
   ]
  },
  {
   "cell_type": "code",
   "execution_count": 17,
   "metadata": {
    "id": "PCeWeM6Gm_VN"
   },
   "outputs": [
    {
     "data": {
      "text/plain": [
       "ID                     0\n",
       "CODE_GENDER            0\n",
       "FLAG_OWN_CAR           0\n",
       "FLAG_OWN_REALTY        0\n",
       "CNT_CHILDREN           0\n",
       "AMT_INCOME_TOTAL       0\n",
       "NAME_INCOME_TYPE       0\n",
       "NAME_EDUCATION_TYPE    0\n",
       "NAME_FAMILY_STATUS     0\n",
       "DAYS_BIRTH             0\n",
       "DAYS_EMPLOYED          0\n",
       "FLAG_MOBIL             0\n",
       "FLAG_WORK_PHONE        0\n",
       "FLAG_PHONE             0\n",
       "FLAG_EMAIL             0\n",
       "OCCUPATION_TYPE        0\n",
       "CNT_FAM_MEMBERS        0\n",
       "STATUS                 0\n",
       "dtype: int64"
      ]
     },
     "execution_count": 17,
     "metadata": {},
     "output_type": "execute_result"
    }
   ],
   "source": [
    "df1.isna().sum()"
   ]
  },
  {
   "cell_type": "code",
   "execution_count": 16,
   "metadata": {
    "id": "7AZx6ZIEnTnd"
   },
   "outputs": [],
   "source": [
    "df1.dropna(how='any',inplace=True)\n",
    "df1.drop(columns=['MONTHS_BALANCE'],inplace=True)"
   ]
  },
  {
   "cell_type": "markdown",
   "metadata": {
    "id": "FyBLZI7uof-i"
   },
   "source": [
    "**CONVERTENDO VALORES DA COLUNA STATUS**"
   ]
  },
  {
   "cell_type": "code",
   "execution_count": 18,
   "metadata": {
    "collapsed": true,
    "id": "5vr4gVodoS7b"
   },
   "outputs": [
    {
     "data": {
      "text/plain": [
       "C    12319\n",
       "X     6699\n",
       "0     5835\n",
       "1      203\n",
       "5       59\n",
       "2       12\n",
       "4        4\n",
       "3        3\n",
       "Name: STATUS, dtype: int64"
      ]
     },
     "execution_count": 18,
     "metadata": {},
     "output_type": "execute_result"
    }
   ],
   "source": [
    "df1.STATUS.value_counts()"
   ]
  },
  {
   "cell_type": "code",
   "execution_count": 19,
   "metadata": {
    "id": "s88U_0jAqW4L"
   },
   "outputs": [],
   "source": [
    "df1.loc[df1.STATUS == 'C','STATUS']=7\n",
    "df1.loc[df1.STATUS == 'X','STATUS']=6"
   ]
  },
  {
   "cell_type": "code",
   "execution_count": 21,
   "metadata": {
    "collapsed": true,
    "id": "v-X8wVHnqxsj"
   },
   "outputs": [
    {
     "name": "stdout",
     "output_type": "stream",
     "text": [
      "<class 'pandas.core.frame.DataFrame'>\n",
      "Int64Index: 25134 entries, 0 to 301702\n",
      "Data columns (total 18 columns):\n",
      " #   Column               Non-Null Count  Dtype  \n",
      "---  ------               --------------  -----  \n",
      " 0   ID                   25134 non-null  int64  \n",
      " 1   CODE_GENDER          25134 non-null  int32  \n",
      " 2   FLAG_OWN_CAR         25134 non-null  int32  \n",
      " 3   FLAG_OWN_REALTY      25134 non-null  int32  \n",
      " 4   CNT_CHILDREN         25134 non-null  int64  \n",
      " 5   AMT_INCOME_TOTAL     25134 non-null  float64\n",
      " 6   NAME_INCOME_TYPE     25134 non-null  int32  \n",
      " 7   NAME_EDUCATION_TYPE  25134 non-null  int32  \n",
      " 8   NAME_FAMILY_STATUS   25134 non-null  int32  \n",
      " 9   DAYS_BIRTH           25134 non-null  int64  \n",
      " 10  DAYS_EMPLOYED        25134 non-null  int64  \n",
      " 11  FLAG_MOBIL           25134 non-null  int64  \n",
      " 12  FLAG_WORK_PHONE      25134 non-null  int64  \n",
      " 13  FLAG_PHONE           25134 non-null  int64  \n",
      " 14  FLAG_EMAIL           25134 non-null  int64  \n",
      " 15  OCCUPATION_TYPE      25134 non-null  object \n",
      " 16  CNT_FAM_MEMBERS      25134 non-null  int32  \n",
      " 17  STATUS               25134 non-null  int32  \n",
      "dtypes: float64(1), int32(8), int64(8), object(1)\n",
      "memory usage: 2.9+ MB\n"
     ]
    }
   ],
   "source": [
    "df1.info()"
   ]
  },
  {
   "cell_type": "code",
   "execution_count": 20,
   "metadata": {
    "id": "OjpX63s-q2MK"
   },
   "outputs": [],
   "source": [
    "df1.STATUS = df1.STATUS.astype(int)"
   ]
  },
  {
   "cell_type": "markdown",
   "metadata": {
    "id": "cVdeexskKCTn"
   },
   "source": [
    "#### 4) Qual variável é mais poderosa?\n",
    "\n",
    "Considere as variáveis ```possui_email``` e ```posse_de_veiculo```. Faça uma tabela cruzada entre elas e responda qual delas te parece mais poderosa para prever a probabilidade de ```mau = 1```?"
   ]
  },
  {
   "cell_type": "code",
   "execution_count": 22,
   "metadata": {
    "id": "n90rPPUAzIds"
   },
   "outputs": [],
   "source": [
    "previsao = pd.crosstab(df1.FLAG_EMAIL, df1.FLAG_OWN_CAR)"
   ]
  },
  {
   "cell_type": "code",
   "execution_count": 23,
   "metadata": {
    "colab": {
     "base_uri": "https://localhost:8080/",
     "height": 144
    },
    "id": "rfks2xN6zrw4",
    "outputId": "0c47c939-6db6-4452-c4e0-bdfc09c86251"
   },
   "outputs": [
    {
     "data": {
      "text/html": [
       "<div>\n",
       "<style scoped>\n",
       "    .dataframe tbody tr th:only-of-type {\n",
       "        vertical-align: middle;\n",
       "    }\n",
       "\n",
       "    .dataframe tbody tr th {\n",
       "        vertical-align: top;\n",
       "    }\n",
       "\n",
       "    .dataframe thead th {\n",
       "        text-align: right;\n",
       "    }\n",
       "</style>\n",
       "<table border=\"1\" class=\"dataframe\">\n",
       "  <thead>\n",
       "    <tr style=\"text-align: right;\">\n",
       "      <th>FLAG_OWN_CAR</th>\n",
       "      <th>0</th>\n",
       "      <th>1</th>\n",
       "    </tr>\n",
       "    <tr>\n",
       "      <th>FLAG_EMAIL</th>\n",
       "      <th></th>\n",
       "      <th></th>\n",
       "    </tr>\n",
       "  </thead>\n",
       "  <tbody>\n",
       "    <tr>\n",
       "      <th>0</th>\n",
       "      <td>13148</td>\n",
       "      <td>9456</td>\n",
       "    </tr>\n",
       "    <tr>\n",
       "      <th>1</th>\n",
       "      <td>1470</td>\n",
       "      <td>1060</td>\n",
       "    </tr>\n",
       "  </tbody>\n",
       "</table>\n",
       "</div>"
      ],
      "text/plain": [
       "FLAG_OWN_CAR      0     1\n",
       "FLAG_EMAIL               \n",
       "0             13148  9456\n",
       "1              1470  1060"
      ]
     },
     "execution_count": 23,
     "metadata": {},
     "output_type": "execute_result"
    }
   ],
   "source": [
    "previsao"
   ]
  },
  {
   "cell_type": "code",
   "execution_count": 24,
   "metadata": {
    "id": "fl68P5cv0JKP"
   },
   "outputs": [],
   "source": [
    "perc = previsao.div(previsao.sum(axis=1),axis=0)"
   ]
  },
  {
   "cell_type": "code",
   "execution_count": 25,
   "metadata": {
    "colab": {
     "base_uri": "https://localhost:8080/",
     "height": 144
    },
    "id": "QBihjvE60X9S",
    "outputId": "71a797d2-7495-47a6-e124-9ac5599e3081"
   },
   "outputs": [
    {
     "data": {
      "text/html": [
       "<div>\n",
       "<style scoped>\n",
       "    .dataframe tbody tr th:only-of-type {\n",
       "        vertical-align: middle;\n",
       "    }\n",
       "\n",
       "    .dataframe tbody tr th {\n",
       "        vertical-align: top;\n",
       "    }\n",
       "\n",
       "    .dataframe thead th {\n",
       "        text-align: right;\n",
       "    }\n",
       "</style>\n",
       "<table border=\"1\" class=\"dataframe\">\n",
       "  <thead>\n",
       "    <tr style=\"text-align: right;\">\n",
       "      <th>FLAG_OWN_CAR</th>\n",
       "      <th>0</th>\n",
       "      <th>1</th>\n",
       "    </tr>\n",
       "    <tr>\n",
       "      <th>FLAG_EMAIL</th>\n",
       "      <th></th>\n",
       "      <th></th>\n",
       "    </tr>\n",
       "  </thead>\n",
       "  <tbody>\n",
       "    <tr>\n",
       "      <th>0</th>\n",
       "      <td>0.581667</td>\n",
       "      <td>0.418333</td>\n",
       "    </tr>\n",
       "    <tr>\n",
       "      <th>1</th>\n",
       "      <td>0.581028</td>\n",
       "      <td>0.418972</td>\n",
       "    </tr>\n",
       "  </tbody>\n",
       "</table>\n",
       "</div>"
      ],
      "text/plain": [
       "FLAG_OWN_CAR         0         1\n",
       "FLAG_EMAIL                      \n",
       "0             0.581667  0.418333\n",
       "1             0.581028  0.418972"
      ]
     },
     "execution_count": 25,
     "metadata": {},
     "output_type": "execute_result"
    }
   ],
   "source": [
    "perc"
   ]
  },
  {
   "cell_type": "markdown",
   "metadata": {
    "id": "HV-uYVsYKCTq"
   },
   "source": [
    "#### 5) Salve a base, pois ela será utilizada no final deste módulo."
   ]
  },
  {
   "cell_type": "code",
   "execution_count": 28,
   "metadata": {
    "id": "uI1UB7s7KCTr"
   },
   "outputs": [],
   "source": [
    "df1.to_csv('dados_limpos.csv')"
   ]
  }
 ],
 "metadata": {
  "colab": {
   "name": "Mod07 - Tarefa 01.ipynb",
   "provenance": []
  },
  "kernelspec": {
   "display_name": "Python 3",
   "language": "python",
   "name": "python3"
  },
  "language_info": {
   "codemirror_mode": {
    "name": "ipython",
    "version": 3
   },
   "file_extension": ".py",
   "mimetype": "text/x-python",
   "name": "python",
   "nbconvert_exporter": "python",
   "pygments_lexer": "ipython3",
   "version": "3.8.8"
  }
 },
 "nbformat": 4,
 "nbformat_minor": 1
}
