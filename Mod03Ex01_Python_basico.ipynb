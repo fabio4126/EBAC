{
  "cells": [
    {
      "cell_type": "markdown",
      "metadata": {
        "id": "7JirSZv47bDT"
      },
      "source": [
        "# Tarefa 01\n",
        "\n",
        "- Leia os enunciados com atenção\n",
        "- Saiba que pode haver mais de uma resposta correta\n",
        "- Insira novas células de código sempre que achar necessário\n",
        "- Em caso de dúvidas, procure os tutores\n",
        "- Divirta-se :)"
      ]
    },
    {
      "cell_type": "markdown",
      "metadata": {
        "id": "QoPQk0jn7bDW"
      },
      "source": [
        "### 01 - Teste de gravidez\n",
        "Escreva uma célula com controle de fluxos que tem como premissa a existência das seguintes variáveis:\n",
        "\n",
        "- ```sexo``` como ```str``` indicando os valores '**M**' para masculino e '**F**' para feminino  \n",
        "- ```beta_hcg``` que indica a quantidade do beta-HCG no sangue em mUI/mL.\n",
        "\n",
        "A sua tarefa é escrever um código que imprima como resultado \"indivíduo do sexo masculino\" quando sexo = 'M', caso sexo = 'F', se o valor de beta-HCG for maior que 5, retorne \"Positivo\" indicando que a paciente está grávida, e retorne \"Negativo\" caso contrário.\n",
        "\n",
        "Não mexa nos valores da variável ```sexo``` nem em ```beta_hcg```, e escreva um código que funcione para quaisquer valores possíveis de ambos: ```sexo``` = '**M**' ou '**F**' e ```beta_hcg``` assumindo valores inteiros positivos."
      ]
    },
    {
      "cell_type": "code",
      "execution_count": null,
      "metadata": {
        "id": "UZaIwy6t7bDX",
        "outputId": "c6b65db9-0b24-4261-b328-d1cb4d1b3385"
      },
      "outputs": [
        {
          "name": "stdout",
          "output_type": "stream",
          "text": [
            "Positivo\n",
            "individuo do sexo masculino\n"
          ]
        }
      ],
      "source": [
        "sexo = 'M'\n",
        "beta_hcg = 0\n",
        "\n",
        "# seu código vem abaixo desta linha\n",
        "if beta_hcg <= 5:\n",
        "    print('Negativo')\n",
        "else:\n",
        "    print('Positivo')\n",
        "    if sexo == 'M' or sexo =='m':\n",
        "        print(f'individuo do sexo masculino')\n",
        "    elif sexo == 'F' or sexo =='f':\n",
        "        print(f'individuo do sexo feminino')\n",
        "    else:\n",
        "        print('Dados incorretos')"
      ]
    },
    {
      "cell_type": "markdown",
      "metadata": {
        "id": "8vAloqPs7bDZ"
      },
      "source": [
        "### 02 - Renomeando variáveis\n",
        "\n",
        "Vamos ver adiante que uma forma de renomear variáveis de um conjunto de dados é através de dicionários - o dicionário deve conter como chave o nome original, associando a cada chave um único valor (tipo *str*) que contenha o nome novo.\n",
        "\n",
        "A sua tarefa é escrever um dicionário que possa ser utilizado para traduzir as variáveis ```name``` (nome), ```age``` (idade) e ```income``` (renda). Ou seja, esse dicionário deve relacionar as chaves *name, age* e *income* às suas respectivas traduções."
      ]
    },
    {
      "cell_type": "code",
      "execution_count": null,
      "metadata": {
        "id": "KZbkFkVo7bDb",
        "outputId": "77297c76-de60-49fa-d658-d0038b975cfb"
      },
      "outputs": [
        {
          "data": {
            "text/plain": [
              "{'': ''}"
            ]
          },
          "execution_count": 52,
          "metadata": {},
          "output_type": "execute_result"
        }
      ],
      "source": [
        "dic_renomeacao = {'': ''}\n",
        "dic_renomeacao"
      ]
    },
    {
      "cell_type": "markdown",
      "metadata": {
        "id": "Tjo84-VX7bDc"
      },
      "source": [
        "### 03 - É divisível?\n",
        "A sua tarefa é escrever um código que indique se um número ```N``` é divisível por um número P. Escreva um programa que faça essa verificação para quaisquer combinações de ```N``` e ```M``` e devolva uma mensagem indicativa no output."
      ]
    },
    {
      "cell_type": "code",
      "execution_count": null,
      "metadata": {
        "id": "JPZcnggi7bDd",
        "outputId": "975cc008-6fea-4d20-854e-6d073b9d0625"
      },
      "outputs": [
        {
          "name": "stdout",
          "output_type": "stream",
          "text": [
            " O numero 9 é divisivel por 3\n"
          ]
        }
      ],
      "source": [
        "N = 9\n",
        "M = 3\n",
        "\n",
        "#Seu código\n",
        "if M == 0:\n",
        "    print('Não é possivel divisão por Zero')\n",
        "else:\n",
        "    if N%M == 0:\n",
        "        print(f' O numero {N} é divisivel por {M}')\n",
        "    else:\n",
        "        print(f' O numero {N} não é divisivel por {M}')"
      ]
    },
    {
      "cell_type": "markdown",
      "metadata": {
        "id": "KsdWyS9I7bDd"
      },
      "source": [
        "### 04 - Números primos\n",
        "> Um número **N** é primo se e somente se é divisível por 1, -1, por **N** e por -**N**.  \n",
        "\n",
        "Escreva um script que verifica se ```N``` é um número primo, verificando se ```N``` é divisível por todos os números de ```1``` a ```N-1```. Você vai precisar usar alguma ferramenta de *loop* que você aprendeu para isto. No final, devolva uma mensagem no output indicando se o número é primo ou não."
      ]
    },
    {
      "cell_type": "code",
      "execution_count": null,
      "metadata": {
        "id": "xoN2o9BI7bDe",
        "outputId": "228c29b2-6e20-4d66-8b66-8122861ed610"
      },
      "outputs": [
        {
          "name": "stdout",
          "output_type": "stream",
          "text": [
            "6\n",
            "50 não é um numero primo\n"
          ]
        }
      ],
      "source": [
        "N = 50\n",
        "n=1\n",
        "\n",
        "# seu código abaixo\n",
        "prova = 0\n",
        "while n < N+1:\n",
        "    if N%n==0:\n",
        "        prova += 1\n",
        "    n += 1\n",
        "if prova > 2:\n",
        "    print(f'{N} não é um numero primo')\n",
        "else:\n",
        "    print (f'{N} é um numero primo')"
      ]
    },
    {
      "cell_type": "markdown",
      "metadata": {
        "id": "A6S-R-qK7bDf"
      },
      "source": [
        "### 05 - Desafio\n",
        "O algorítmo do exercício anterior não é o mais eficiente. O que você pode fazer para deixá-lo mais eficiente? Ou seja, executar menos comparações, portanto consumir menos tempo.\n",
        "1. Será que precisamos correr o loop até o final sempre?\n",
        "2. Será que precisamos mesmo verificar **todos** os números?\n",
        "3. Será que precisamos ir até N-1?\n",
        "\n",
        "Essas perguntas levam ao tipo de pensamento voltado a deixar um algoritmo mais eficiente. Veja se você consegue melhorar o seu."
      ]
    },
    {
      "cell_type": "code",
      "execution_count": 1,
      "metadata": {
        "colab": {
          "base_uri": "https://localhost:8080/"
        },
        "id": "4FdjPSLO7bDg",
        "outputId": "07d36278-ea42-46be-a03c-00d3acde00bd"
      },
      "outputs": [
        {
          "output_type": "stream",
          "name": "stdout",
          "text": [
            "98 não é um numero primo\n"
          ]
        }
      ],
      "source": [
        "N = 98\n",
        "\n",
        "# seu código abaixo\n",
        "\n",
        "if N%2==0 or N%3==0 or N%5==0 or N%7==0:\n",
        "  if N!=2 and N!=3 and N!=5 and N!=7: \n",
        "    print(f'{N} não é um numero primo')\n",
        "  else:\n",
        "    print (f'{N} é um numero primo')\n",
        "else:\n",
        "  print (f'{N} é um numero primo')"
      ]
    },
    {
      "cell_type": "markdown",
      "metadata": {
        "id": "8RGlQguM7bDh"
      },
      "source": [
        "### 06 - Peso ideal 1\n",
        "O IMC (índice de massa corpórea) é um indicador de saúde mais bem aceito que o peso. Ele é calculado como:\n",
        "\n",
        "$$ IMC = \\dfrac{peso}{altura^2}$$\n",
        "\n",
        "Segundo a OMS, valores *normais* são entre 18.5 e 24.9.\n",
        "\n",
        "Sua tarefa é encontrar o ponto médio dessa faixa."
      ]
    },
    {
      "cell_type": "code",
      "execution_count": null,
      "metadata": {
        "id": "Qa5GQMmc7bDi",
        "outputId": "b29615da-3ca4-49ac-949b-1b32c5dfb505"
      },
      "outputs": [
        {
          "data": {
            "text/plain": [
              "21.7"
            ]
          },
          "execution_count": 33,
          "metadata": {},
          "output_type": "execute_result"
        }
      ],
      "source": [
        "imc_ideal = (18.5+24.9)/2\n",
        "imc_ideal"
      ]
    },
    {
      "cell_type": "markdown",
      "metadata": {
        "id": "FRyEn47h7bDj"
      },
      "source": [
        "### 07 - Peso ideal 2\n",
        "Recebendo um valor de altura, encontre o peso '*ideal*' dessa pessoa, que fornece o IMC encontrado acima"
      ]
    },
    {
      "cell_type": "code",
      "execution_count": null,
      "metadata": {
        "id": "CtQY7rFE7bDj",
        "outputId": "ff587d93-d3f4-4817-d3b3-30b291a2c92b"
      },
      "outputs": [
        {
          "data": {
            "text/plain": [
              "62.712999999999994"
            ]
          },
          "execution_count": 47,
          "metadata": {},
          "output_type": "execute_result"
        }
      ],
      "source": [
        "altura = 1.70\n",
        "\n",
        "# Seu código\n",
        "peso_ideal = (altura**2)*imc_ideal\n",
        "peso_ideal"
      ]
    },
    {
      "cell_type": "markdown",
      "metadata": {
        "id": "APpCrK1I7bDk"
      },
      "source": [
        "### 08 - Peso ideal 3\n",
        "Dada uma lista contendo as alturas de pacientes, crie uma nova lista que contenha o peso '*ideal*' (que fornece o IMC calculado em **Peso ideal 1**) desses pacientes."
      ]
    },
    {
      "cell_type": "code",
      "execution_count": null,
      "metadata": {
        "id": "zB5eYh7X7bDk",
        "outputId": "10a9783d-b1ba-4f94-8c2d-a32d5725944f"
      },
      "outputs": [
        {
          "data": {
            "text/plain": [
              "[83, 91, 63, 59]"
            ]
          },
          "execution_count": 56,
          "metadata": {},
          "output_type": "execute_result"
        }
      ],
      "source": [
        "lista_alturas = [1.95, 2.05, 1.70, 1.65]\n",
        "\n",
        "lista_peso_ideal = []\n",
        "\n",
        "# seu código\n",
        "for i in lista_alturas:\n",
        "    lista_peso_ideal.append((round(((i**2)*imc_ideal))))\n",
        "\n",
        "lista_peso_ideal"
      ]
    },
    {
      "cell_type": "markdown",
      "metadata": {
        "id": "EmUPH9AB7bDl"
      },
      "source": [
        "### 09 - Peso ideal 4\n",
        "Dada uma lista de tuplas - cada elemento da lista é uma tupla contendo altura e peso de um paciente - crie uma nova lista com o IMC desses pacientes."
      ]
    },
    {
      "cell_type": "code",
      "execution_count": null,
      "metadata": {
        "id": "mUV1ae1y7bDl",
        "outputId": "c11e1dbc-ac8b-455d-bcf6-618219cbb62e"
      },
      "outputs": [
        {
          "data": {
            "text/plain": [
              "[27.777777777777775, 27.548209366391188, 19.188070502453332]"
            ]
          },
          "execution_count": 78,
          "metadata": {},
          "output_type": "execute_result"
        }
      ],
      "source": [
        "altura_peso = [(1.80, 90), (1.65, 75), (1.91, 70)]\n",
        "\n",
        "imc = []\n",
        "\n",
        "# seu código\n",
        "for alt, peso in altura_peso:\n",
        "    imc.append((peso/(alt**2)))\n",
        "imc"
      ]
    },
    {
      "cell_type": "markdown",
      "metadata": {
        "id": "2bIPeosb7bDm"
      },
      "source": [
        "### 10 - Peso ideal 5\n",
        "Dada uma lista de **listas** - cada elemento da lista é uma **lista** contendo altura e peso de um paciente, adicione mais um elemento à lista de cada paciente contendo o IMC do paciente. Verifique também se é 'baixo', 'normal' ou 'alto' segundo os padrões da OMS em que normal é entre 18.5 e 24.9.\n",
        "\n",
        "Reflexão: por que no problema anterior temos que criar uma nova lista, e não podemos adicionar os dados de cada indivíduo à tupla?"
      ]
    },
    {
      "cell_type": "code",
      "execution_count": null,
      "metadata": {
        "id": "WlwMeL-B7bDm",
        "outputId": "79f614b3-0c7d-4621-da9e-b516acf07c58"
      },
      "outputs": [
        {
          "name": "stdout",
          "output_type": "stream",
          "text": [
            "[[1.8, 90, 27.777777777777775, 'alto'], [1.65, 75, 27.548209366391188, 'alto'], [1.91, 70, 19.188070502453332, 'normal']]\n"
          ]
        }
      ],
      "source": [
        "altura_peso = [[1.80, 90], [1.65, 75], [1.91, 70]]\n",
        "\n",
        "# seu código\n",
        "for lista in altura_peso:\n",
        "    imc = functools.reduce(lambda x, y: y/(x**2), lista)\n",
        "    lista.append(imc)\n",
        "    if imc < 18.5:\n",
        "        lista.append('baixo')\n",
        "    elif imc > 18.5 and imc < 24.9:\n",
        "        lista.append('normal')\n",
        "    else:\n",
        "        lista.append('alto')\n",
        "print(altura_peso)"
      ]
    }
  ],
  "metadata": {
    "kernelspec": {
      "display_name": "Python 3",
      "language": "python",
      "name": "python3"
    },
    "language_info": {
      "codemirror_mode": {
        "name": "ipython",
        "version": 3
      },
      "file_extension": ".py",
      "mimetype": "text/x-python",
      "name": "python",
      "nbconvert_exporter": "python",
      "pygments_lexer": "ipython3",
      "version": "3.8.8"
    },
    "colab": {
      "name": "Mod03Ex01 - Python basico.ipynb",
      "provenance": []
    }
  },
  "nbformat": 4,
  "nbformat_minor": 0
}