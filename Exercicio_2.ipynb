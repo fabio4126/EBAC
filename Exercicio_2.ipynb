{
 "cells": [
  {
   "cell_type": "markdown",
   "metadata": {},
   "source": [
    "## Árvores de regressão - exercícios 02\n",
    "\n",
    "Este exercício será uma continuação do anterior, mesma base, mesmas variáveis - vamos tentar buscar a 'melhor árvore'.\n",
    "\n",
    "A descrição das variáveis está abaixo:"
   ]
  },
  {
   "cell_type": "markdown",
   "metadata": {},
   "source": [
    "| Variavel | Descrição|\n",
    "|-|-|\n",
    "|CRIM| taxa de crimes per-cápita da cidade | \n",
    "|ZN| proporção de terrenos residenciais zoneados para lotes com mais de 25.000 pés quadrados. |\n",
    "|INDUS| proporção de acres de negócios não varejistas por cidade |\n",
    "|CHAS |vale 1 se o terreno faz fronteira com o *Charles River*; 0 caso contrário |\n",
    "|NOX| Concentração de óxido nítrico (em partes por 10 milhões) |\n",
    "|RM| número médio de quartos por habitação |\n",
    "|AGE| proporção de unidades ocupadas pelo proprietário construídas antes de 1940 |\n",
    "|DIS| distâncias ponderadas até cinco centros de empregos de Boston |\n",
    "|RAD| índice de acessibilidade a rodovias radiais |\n",
    "|TAX| taxa de imposto sobre a propriedade de valor total por \\\\$10,000 |\n",
    "|PTRATIO| razão pupilo-professor da cidade |\n",
    "|B| $ 1000 (Bk - 0,63) ^ 2 $ onde Bk é a proporção de negros por cidade |\n",
    "|LSTAT| \\%status inferior da população |\n",
    "|MEDV| (variável resposta) Valor mediano das casas ocupadas pelo proprietário em US $ 1.000|"
   ]
  },
  {
   "cell_type": "code",
   "execution_count": 1,
   "metadata": {
    "collapsed": true
   },
   "outputs": [
    {
     "name": "stderr",
     "output_type": "stream",
     "text": [
      "c:\\users\\net\\appdata\\local\\programs\\python\\python38\\lib\\site-packages\\sklearn\\utils\\deprecation.py:87: FutureWarning: Function load_boston is deprecated; `load_boston` is deprecated in 1.0 and will be removed in 1.2.\n",
      "\n",
      "    The Boston housing prices dataset has an ethical problem. You can refer to\n",
      "    the documentation of this function for further details.\n",
      "\n",
      "    The scikit-learn maintainers therefore strongly discourage the use of this\n",
      "    dataset unless the purpose of the code is to study and educate about\n",
      "    ethical issues in data science and machine learning.\n",
      "\n",
      "    In this special case, you can fetch the dataset from the original\n",
      "    source::\n",
      "\n",
      "        import pandas as pd\n",
      "        import numpy as np\n",
      "\n",
      "\n",
      "        data_url = \"http://lib.stat.cmu.edu/datasets/boston\"\n",
      "        raw_df = pd.read_csv(data_url, sep=\"\\s+\", skiprows=22, header=None)\n",
      "        data = np.hstack([raw_df.values[::2, :], raw_df.values[1::2, :2]])\n",
      "        target = raw_df.values[1::2, 2]\n",
      "\n",
      "    Alternative datasets include the California housing dataset (i.e.\n",
      "    :func:`~sklearn.datasets.fetch_california_housing`) and the Ames housing\n",
      "    dataset. You can load the datasets as follows::\n",
      "\n",
      "        from sklearn.datasets import fetch_california_housing\n",
      "        housing = fetch_california_housing()\n",
      "\n",
      "    for the California housing dataset and::\n",
      "\n",
      "        from sklearn.datasets import fetch_openml\n",
      "        housing = fetch_openml(name=\"house_prices\", as_frame=True)\n",
      "\n",
      "    for the Ames housing dataset.\n",
      "    \n",
      "  warnings.warn(msg, category=FutureWarning)\n"
     ]
    }
   ],
   "source": [
    "import pandas as pd\n",
    "import numpy as np\n",
    "\n",
    "import seaborn as sns\n",
    "\n",
    "from sklearn import datasets\n",
    "from sklearn.tree import DecisionTreeRegressor\n",
    "from sklearn import tree\n",
    "from sklearn.model_selection import train_test_split\n",
    "from sklearn.metrics import mean_squared_error\n",
    "import matplotlib.pyplot as plt\n",
    "\n",
    "\n",
    "boston = datasets.load_boston()\n",
    "X = pd.DataFrame(boston.data, columns = boston.feature_names)\n",
    "y = pd.DataFrame(boston.target, columns = ['MEDV'])"
   ]
  },
  {
   "cell_type": "code",
   "execution_count": null,
   "metadata": {},
   "outputs": [],
   "source": [
    "X.head()"
   ]
  },
  {
   "cell_type": "code",
   "execution_count": null,
   "metadata": {},
   "outputs": [],
   "source": [
    "y.head()"
   ]
  },
  {
   "cell_type": "markdown",
   "metadata": {},
   "source": [
    "### 1. Execute os passos do exercício anterior, até que você tenha uma árvore de regressão predizendo o valor do imóvel na base de treinamento."
   ]
  },
  {
   "cell_type": "code",
   "execution_count": 2,
   "metadata": {},
   "outputs": [
    {
     "data": {
      "text/plain": [
       "84.07"
      ]
     },
     "execution_count": 2,
     "metadata": {},
     "output_type": "execute_result"
    }
   ],
   "source": [
    "x_treino, x_teste, y_treino, y_teste = train_test_split(X,y, random_state=2)\n",
    "modelo = DecisionTreeRegressor(max_depth=8, min_samples_leaf=10)\n",
    "modelo.fit(x_treino, y_treino)\n",
    "previsao = modelo.score(x_treino, y_treino)\n",
    "round(previsao*100,2)"
   ]
  },
  {
   "cell_type": "markdown",
   "metadata": {},
   "source": [
    "### 2.  Calcule o caminho indicado pelos CCP-alfas dessa árvore."
   ]
  },
  {
   "cell_type": "code",
   "execution_count": 3,
   "metadata": {},
   "outputs": [
    {
     "data": {
      "text/plain": [
       "{'ccp_alphas': array([0.00000000e+00, 3.50864888e-02, 4.61957095e-02, 4.74974015e-02,\n",
       "        5.97481410e-02, 7.53238488e-02, 7.56572243e-02, 1.23565056e-01,\n",
       "        1.41472424e-01, 1.48522043e-01, 3.05136816e-01, 3.96584313e-01,\n",
       "        4.07424948e-01, 4.36019392e-01, 4.58021716e-01, 4.91168262e-01,\n",
       "        5.71039888e-01, 6.90874467e-01, 1.13173327e+00, 1.24209898e+00,\n",
       "        1.88188284e+00, 3.21055781e+00, 7.16699516e+00, 1.34117226e+01,\n",
       "        3.65778040e+01]),\n",
       " 'impurities': array([13.20694473, 13.24203122, 13.28822693, 13.33572433, 13.39547247,\n",
       "        13.62144402, 13.69710124, 13.8206663 , 13.96213872, 14.11066076,\n",
       "        14.41579758, 14.81238189, 15.62723179, 16.06325118, 16.52127289,\n",
       "        17.01244116, 17.58348104, 18.27435551, 19.40608878, 20.64818776,\n",
       "        22.5300706 , 25.74062841, 32.90762358, 46.31934614, 82.89715012])}"
      ]
     },
     "execution_count": 3,
     "metadata": {},
     "output_type": "execute_result"
    }
   ],
   "source": [
    "ccp = modelo.cost_complexity_pruning_path(x_treino, y_treino)\n",
    "ccp"
   ]
  },
  {
   "cell_type": "code",
   "execution_count": null,
   "metadata": {},
   "outputs": [],
   "source": []
  },
  {
   "cell_type": "markdown",
   "metadata": {},
   "source": [
    "### 3. Paca cada valor de alpha obtido no item 2, treine uma árvore com o respectivo alfa, e guarde essa árvore em uma lista."
   ]
  },
  {
   "cell_type": "code",
   "execution_count": 4,
   "metadata": {},
   "outputs": [],
   "source": [
    "lista = []\n",
    "ccp_alphas, impurities = ccp.ccp_alphas, ccp.impurities\n",
    "for ccp_alpha in ccp_alphas:\n",
    "    clf = DecisionTreeRegressor(random_state=0, ccp_alpha=ccp_alpha)\n",
    "    clf.fit(x_treino, y_treino)\n",
    "    lista.append(clf)"
   ]
  },
  {
   "cell_type": "code",
   "execution_count": null,
   "metadata": {},
   "outputs": [],
   "source": []
  },
  {
   "cell_type": "markdown",
   "metadata": {},
   "source": [
    "### 4. Para cada árvore na lista, calcule o MSE da árvore."
   ]
  },
  {
   "cell_type": "code",
   "execution_count": 5,
   "metadata": {
    "collapsed": true
   },
   "outputs": [
    {
     "data": {
      "text/plain": [
       "[0.0,\n",
       " 1.329988207930859,\n",
       " 1.8473369670579818,\n",
       " 2.0814012918204288,\n",
       " 2.186258685965422,\n",
       " 2.644198934224932,\n",
       " 2.644198934224932,\n",
       " 4.497584934741686,\n",
       " 4.497584934741686,\n",
       " 4.497584934741686,\n",
       " 5.892718084322898,\n",
       " 7.5471889639822,\n",
       " 7.944570030584901,\n",
       " 7.944570030584901,\n",
       " 8.380589422362869,\n",
       " 8.848494062431099,\n",
       " 8.848494062431099,\n",
       " 11.308220221810169,\n",
       " 12.260410415301815,\n",
       " 12.260410415301815,\n",
       " 15.623111354163408,\n",
       " 19.970261794834666,\n",
       " 25.74062841364236,\n",
       " 46.31934613735225,\n",
       " 82.89715011730634]"
      ]
     },
     "execution_count": 5,
     "metadata": {},
     "output_type": "execute_result"
    }
   ],
   "source": [
    "train_scores = [mean_squared_error(y_treino , clf.predict(x_treino)) for clf in lista]\n",
    "test_scores  = [mean_squared_error(y_teste  , clf.predict(x_teste )) for clf in lista]\n",
    "train_scores"
   ]
  },
  {
   "cell_type": "markdown",
   "metadata": {},
   "source": [
    "### 5. Monte um gráfico do MSE pelo alpha, escolha um valor de alpha perto do ponto de mínimo do MSE"
   ]
  },
  {
   "cell_type": "code",
   "execution_count": 6,
   "metadata": {},
   "outputs": [
    {
     "data": {
      "image/png": "[encoded data removed]",
      "text/plain": [
       "<Figure size 432x288 with 1 Axes>"
      ]
     },
     "metadata": {
      "needs_background": "light"
     },
     "output_type": "display_data"
    }
   ],
   "source": [
    "fig, ax = plt.subplots()\n",
    "ax.set_xlabel(\"alpha\")\n",
    "ax.set_ylabel(\"MSE\")\n",
    "ax.set_title(\"MSE x alpha do conjunto de dados de treino e teste\")\n",
    "ax.plot(ccp_alphas[:-1], train_scores[:-1], marker='o', label=\"treino\",\n",
    "        drawstyle=\"steps-post\")\n",
    "ax.plot(ccp_alphas[:-1], test_scores[:-1], marker='o', label=\"teste\",\n",
    "        drawstyle=\"steps-post\")\n",
    "ax.legend()\n",
    "plt.show()\n"
   ]
  },
  {
   "cell_type": "markdown",
   "metadata": {},
   "source": [
    "### 6. Calcule o R-quadrado dessa árvore encontrada no item acima"
   ]
  },
  {
   "cell_type": "code",
   "execution_count": 8,
   "metadata": {},
   "outputs": [
    {
     "data": {
      "text/plain": [
       "DecisionTreeRegressor(ccp_alpha=4, random_state=2)"
      ]
     },
     "execution_count": 8,
     "metadata": {},
     "output_type": "execute_result"
    }
   ],
   "source": [
    "rQ = DecisionTreeRegressor(random_state=2, ccp_alpha=4)\n",
    "rQ.fit(x_treino, y_treino)"
   ]
  },
  {
   "cell_type": "code",
   "execution_count": 9,
   "metadata": {},
   "outputs": [
    {
     "data": {
      "text/plain": [
       "0.6062998770738861"
      ]
     },
     "execution_count": 9,
     "metadata": {},
     "output_type": "execute_result"
    }
   ],
   "source": [
    "rQ.score(x_teste, y_teste)"
   ]
  },
  {
   "cell_type": "markdown",
   "metadata": {},
   "source": [
    "### 7. Visualize esta árvore."
   ]
  },
  {
   "cell_type": "markdown",
   "metadata": {},
   "source": [
    "### Não consegui configurar o visualizador"
   ]
  }
 ],
 "metadata": {
  "kernelspec": {
   "display_name": "Python 3",
   "language": "python",
   "name": "python3"
  },
  "language_info": {
   "codemirror_mode": {
    "name": "ipython",
    "version": 3
   },
   "file_extension": ".py",
   "mimetype": "text/x-python",
   "name": "python",
   "nbconvert_exporter": "python",
   "pygments_lexer": "ipython3",
   "version": "3.8.8"
  }
 },
 "nbformat": 4,
 "nbformat_minor": 4
}
