{
 "cells": [
  {
   "cell_type": "markdown",
   "metadata": {
    "id": "qGnrsUBiy97H"
   },
   "source": [
    "# Tarefa 03\n",
    "\n",
    "- Leia os enunciados com atenção\n",
    "- Saiba que pode haver mais de uma resposta correta\n",
    "- Insira novas células de código sempre que achar necessário\n",
    "- Em caso de dúvidas, procure os Tutores\n",
    "- Divirta-se :)"
   ]
  },
  {
   "cell_type": "code",
   "execution_count": 2,
   "metadata": {
    "id": "G22GdXC2y97M"
   },
   "outputs": [],
   "source": [
    "import pandas as pd\n",
    "import requests\n",
    "import datetime"
   ]
  },
  {
   "cell_type": "markdown",
   "metadata": {
    "id": "pEKGyacxy97P"
   },
   "source": [
    "####  1) Lendo de APIs\n",
    "Vimos em aula como carregar dados públicos do governo através de um API (*Application Programming Interface*). No exemplo de aula, baixamos os dados de pedidos de verificação de limites (PVL) realizados por estados, e selecionamos apenas aqueles referentes ao estado de São Paulo.\n",
    "\n",
    "1. Repita os mesmos passos feitos em aula, mas selecione os PVLs realizados por municípios no estado do Rio de Janeiro.\n",
    "2. Quais são os três *status* das solicitações mais frequentes na base? Quais são suas frequências?\n",
    "3. Construa uma nova variável que contenha o ano do **status**. Observe que ```data_status``` vem como tipo *object* no **DataFrame**. Dica: você pode usar o método ```.str``` para transformar o tipo da variável em string, em seguida um método como [**slice()**](https://pandas.pydata.org/docs/reference/api/pandas.Series.str.slice.html) ou [**split()**](https://pandas.pydata.org/pandas-docs/stable/reference/api/pandas.Series.str.split.html).\n",
    "4. Indique a frequência de cada ano do campo construído no item (3)."
   ]
  },
  {
   "cell_type": "code",
   "execution_count": 3,
   "metadata": {
    "id": "AOa6mRgxy97S"
   },
   "outputs": [
    {
     "data": {
      "text/plain": [
       "200"
      ]
     },
     "execution_count": 3,
     "metadata": {},
     "output_type": "execute_result"
    }
   ],
   "source": [
    "# 1) Seu código aqui\n",
    "URL = 'https://apidatalake.tesouro.gov.br/ords/sadipem/tt/pvl?uf=RJ&tipo_interessado=Munic%C3%ADpio'\n",
    "rq = requests.get(URL)\n",
    "rq.status_code"
   ]
  },
  {
   "cell_type": "code",
   "execution_count": 5,
   "metadata": {
    "collapsed": true,
    "id": "24-zqT8YCKlM"
   },
   "outputs": [
    {
     "data": {
      "text/html": [
       "<div>\n",
       "<style scoped>\n",
       "    .dataframe tbody tr th:only-of-type {\n",
       "        vertical-align: middle;\n",
       "    }\n",
       "\n",
       "    .dataframe tbody tr th {\n",
       "        vertical-align: top;\n",
       "    }\n",
       "\n",
       "    .dataframe thead th {\n",
       "        text-align: right;\n",
       "    }\n",
       "</style>\n",
       "<table border=\"1\" class=\"dataframe\">\n",
       "  <thead>\n",
       "    <tr style=\"text-align: right;\">\n",
       "      <th></th>\n",
       "      <th>id_pleito</th>\n",
       "      <th>tipo_interessado</th>\n",
       "      <th>interessado</th>\n",
       "      <th>cod_ibge</th>\n",
       "      <th>uf</th>\n",
       "      <th>num_pvl</th>\n",
       "      <th>status</th>\n",
       "      <th>num_processo</th>\n",
       "      <th>data_protocolo</th>\n",
       "      <th>tipo_operacao</th>\n",
       "      <th>finalidade</th>\n",
       "      <th>tipo_credor</th>\n",
       "      <th>credor</th>\n",
       "      <th>moeda</th>\n",
       "      <th>valor</th>\n",
       "      <th>pvl_assoc_divida</th>\n",
       "      <th>pvl_contradado_credor</th>\n",
       "      <th>data_status</th>\n",
       "    </tr>\n",
       "  </thead>\n",
       "  <tbody>\n",
       "    <tr>\n",
       "      <th>0</th>\n",
       "      <td>34099</td>\n",
       "      <td>Município</td>\n",
       "      <td>Resende</td>\n",
       "      <td>3304201</td>\n",
       "      <td>RJ</td>\n",
       "      <td>PVL02.003090/2019-99</td>\n",
       "      <td>Deferido (PVL-IF)</td>\n",
       "      <td>None</td>\n",
       "      <td>None</td>\n",
       "      <td>Operação contratual interna</td>\n",
       "      <td>Aporte de capital</td>\n",
       "      <td>Instituição Financeira Nacional</td>\n",
       "      <td>Caixa Econômica Federal</td>\n",
       "      <td>Real</td>\n",
       "      <td>4500000.0</td>\n",
       "      <td>0</td>\n",
       "      <td>1</td>\n",
       "      <td>27/09/2019</td>\n",
       "    </tr>\n",
       "    <tr>\n",
       "      <th>1</th>\n",
       "      <td>45530</td>\n",
       "      <td>Município</td>\n",
       "      <td>Casimiro de Abreu</td>\n",
       "      <td>3301306</td>\n",
       "      <td>RJ</td>\n",
       "      <td>PVL02.001056/2021-02</td>\n",
       "      <td>Arquivado a pedido</td>\n",
       "      <td>17944.102661/2021-54</td>\n",
       "      <td>2021-07-30T19:40:33Z</td>\n",
       "      <td>Operação contratual interna (com garantia da U...</td>\n",
       "      <td>Infraestrutura</td>\n",
       "      <td>Instituição Financeira Nacional</td>\n",
       "      <td>Caixa Econômica Federal</td>\n",
       "      <td>Real</td>\n",
       "      <td>29000000.0</td>\n",
       "      <td>0</td>\n",
       "      <td>0</td>\n",
       "      <td>04/11/2021</td>\n",
       "    </tr>\n",
       "    <tr>\n",
       "      <th>2</th>\n",
       "      <td>50533</td>\n",
       "      <td>Município</td>\n",
       "      <td>Nova Iguaçu</td>\n",
       "      <td>3303500</td>\n",
       "      <td>RJ</td>\n",
       "      <td>PVL02.004441/2021-01</td>\n",
       "      <td>Deferido</td>\n",
       "      <td>17944.104359/2021-31</td>\n",
       "      <td>2021-12-02T22:42:03Z</td>\n",
       "      <td>Operação contratual interna</td>\n",
       "      <td>Infraestrutura</td>\n",
       "      <td>Instituição Financeira Nacional</td>\n",
       "      <td>Caixa Econômica Federal</td>\n",
       "      <td>Real</td>\n",
       "      <td>100000000.0</td>\n",
       "      <td>0</td>\n",
       "      <td>0</td>\n",
       "      <td>13/12/2021</td>\n",
       "    </tr>\n",
       "    <tr>\n",
       "      <th>3</th>\n",
       "      <td>34869</td>\n",
       "      <td>Município</td>\n",
       "      <td>Nova Iguaçu</td>\n",
       "      <td>3303500</td>\n",
       "      <td>RJ</td>\n",
       "      <td>PVL02.003184/2019-68</td>\n",
       "      <td>Deferido</td>\n",
       "      <td>17944.103149/2019-19</td>\n",
       "      <td>2019-09-03T21:24:51Z</td>\n",
       "      <td>Operação contratual interna</td>\n",
       "      <td>Infraestrutura</td>\n",
       "      <td>Instituição Financeira Nacional</td>\n",
       "      <td>Caixa Econômica Federal</td>\n",
       "      <td>Real</td>\n",
       "      <td>140000000.0</td>\n",
       "      <td>1</td>\n",
       "      <td>0</td>\n",
       "      <td>11/09/2019</td>\n",
       "    </tr>\n",
       "    <tr>\n",
       "      <th>4</th>\n",
       "      <td>44855</td>\n",
       "      <td>Município</td>\n",
       "      <td>Vassouras</td>\n",
       "      <td>3306206</td>\n",
       "      <td>RJ</td>\n",
       "      <td>PVL02.000266/2021-75</td>\n",
       "      <td>Em retificação pelo interessado</td>\n",
       "      <td>17944.101820/2021-01</td>\n",
       "      <td>2021-05-31T18:08:21Z</td>\n",
       "      <td>Operação contratual interna (com garantia da U...</td>\n",
       "      <td>Infraestrutura</td>\n",
       "      <td>Instituição Financeira Nacional</td>\n",
       "      <td>Caixa Econômica Federal</td>\n",
       "      <td>Real</td>\n",
       "      <td>20000000.0</td>\n",
       "      <td>0</td>\n",
       "      <td>0</td>\n",
       "      <td>15/10/2021</td>\n",
       "    </tr>\n",
       "  </tbody>\n",
       "</table>\n",
       "</div>"
      ],
      "text/plain": [
       "   id_pleito tipo_interessado        interessado  cod_ibge  uf  \\\n",
       "0      34099        Município            Resende   3304201  RJ   \n",
       "1      45530        Município  Casimiro de Abreu   3301306  RJ   \n",
       "2      50533        Município        Nova Iguaçu   3303500  RJ   \n",
       "3      34869        Município        Nova Iguaçu   3303500  RJ   \n",
       "4      44855        Município          Vassouras   3306206  RJ   \n",
       "\n",
       "                num_pvl                           status  \\\n",
       "0  PVL02.003090/2019-99                Deferido (PVL-IF)   \n",
       "1  PVL02.001056/2021-02               Arquivado a pedido   \n",
       "2  PVL02.004441/2021-01                         Deferido   \n",
       "3  PVL02.003184/2019-68                         Deferido   \n",
       "4  PVL02.000266/2021-75  Em retificação pelo interessado   \n",
       "\n",
       "           num_processo        data_protocolo  \\\n",
       "0                  None                  None   \n",
       "1  17944.102661/2021-54  2021-07-30T19:40:33Z   \n",
       "2  17944.104359/2021-31  2021-12-02T22:42:03Z   \n",
       "3  17944.103149/2019-19  2019-09-03T21:24:51Z   \n",
       "4  17944.101820/2021-01  2021-05-31T18:08:21Z   \n",
       "\n",
       "                                       tipo_operacao         finalidade  \\\n",
       "0                        Operação contratual interna  Aporte de capital   \n",
       "1  Operação contratual interna (com garantia da U...     Infraestrutura   \n",
       "2                        Operação contratual interna     Infraestrutura   \n",
       "3                        Operação contratual interna     Infraestrutura   \n",
       "4  Operação contratual interna (com garantia da U...     Infraestrutura   \n",
       "\n",
       "                       tipo_credor                   credor moeda  \\\n",
       "0  Instituição Financeira Nacional  Caixa Econômica Federal  Real   \n",
       "1  Instituição Financeira Nacional  Caixa Econômica Federal  Real   \n",
       "2  Instituição Financeira Nacional  Caixa Econômica Federal  Real   \n",
       "3  Instituição Financeira Nacional  Caixa Econômica Federal  Real   \n",
       "4  Instituição Financeira Nacional  Caixa Econômica Federal  Real   \n",
       "\n",
       "         valor  pvl_assoc_divida  pvl_contradado_credor data_status  \n",
       "0    4500000.0                 0                      1  27/09/2019  \n",
       "1   29000000.0                 0                      0  04/11/2021  \n",
       "2  100000000.0                 0                      0  13/12/2021  \n",
       "3  140000000.0                 1                      0  11/09/2019  \n",
       "4   20000000.0                 0                      0  15/10/2021  "
      ]
     },
     "execution_count": 5,
     "metadata": {},
     "output_type": "execute_result"
    }
   ],
   "source": [
    "dados = rq.json()\n",
    "df = pd.DataFrame(dados['items'])\n",
    "df.head(5)"
   ]
  },
  {
   "cell_type": "code",
   "execution_count": 6,
   "metadata": {
    "collapsed": true,
    "id": "JxCyGPsiy97U"
   },
   "outputs": [
    {
     "data": {
      "text/plain": [
       "Deferido                                                 88\n",
       "Arquivado                                                53\n",
       "Regularizado                                             25\n",
       "Arquivado por decurso de prazo                           23\n",
       "Deferido (PVL-IF)                                        14\n",
       "Encaminhado à PGFN com manifestação técnica favorável    11\n",
       "Arquivado a pedido                                        4\n",
       "Em retificação pelo interessado                           3\n",
       "Em retificação pelo interessado (PVL-IF)                  1\n",
       "Pendente de regularização                                 1\n",
       "Name: status, dtype: int64"
      ]
     },
     "execution_count": 6,
     "metadata": {},
     "output_type": "execute_result"
    }
   ],
   "source": [
    "# 2) Quais são os três status das solicitações mais frequentes na base? Quais são suas frequências?\n",
    "df['status'].value_counts()"
   ]
  },
  {
   "cell_type": "code",
   "execution_count": 7,
   "metadata": {
    "collapsed": true,
    "id": "gmdvVioqy97V"
   },
   "outputs": [
    {
     "data": {
      "text/plain": [
       "0    2019\n",
       "1    2021\n",
       "2    2021\n",
       "3    2019\n",
       "4    2021\n",
       "Name: ano_status, dtype: int64"
      ]
     },
     "execution_count": 7,
     "metadata": {},
     "output_type": "execute_result"
    }
   ],
   "source": [
    "# 3) Construa uma nova variável que contenha o ano do status. \n",
    "#    Observe que data_status vem como tipo object no DataFrame. \n",
    "#    Dica: você pode usar o método .str para transformar o tipo da variável em string, em seguida um método como slice() ou split().\n",
    "df['ano_status'] =  pd.to_datetime(df['data_status'], format='%d/%m/%Y')\n",
    "df['ano_status'] = df['ano_status'].dt.year\n",
    "df['ano_status'].head()"
   ]
  },
  {
   "cell_type": "code",
   "execution_count": 8,
   "metadata": {
    "collapsed": true,
    "id": "1j6V459d1UEf"
   },
   "outputs": [
    {
     "data": {
      "text/plain": [
       "2008    37\n",
       "2007    29\n",
       "2014    20\n",
       "2010    19\n",
       "2019    17\n",
       "2020    15\n",
       "2013    15\n",
       "2012    13\n",
       "2011    10\n",
       "2015     9\n",
       "2009     9\n",
       "2021     6\n",
       "2017     5\n",
       "2006     4\n",
       "2002     4\n",
       "2018     4\n",
       "2016     4\n",
       "2003     1\n",
       "2004     1\n",
       "2022     1\n",
       "Name: ano_status, dtype: int64"
      ]
     },
     "execution_count": 8,
     "metadata": {},
     "output_type": "execute_result"
    }
   ],
   "source": [
    "#4) Indique a frequência de cada ano do campo construído no item (3).\n",
    "df['ano_status'].value_counts()"
   ]
  },
  {
   "cell_type": "markdown",
   "metadata": {
    "id": "1SIaH3rRy97W"
   },
   "source": [
    "####  2) Melhorando a interação com o API\n",
    "Observe dois URLs de consultas diferentes, por exemplo o URL utilizado em aula, e o URL feito no exercício anterior. Compare-os e observe as diferenças.\n",
    "\n",
    "1. Faça uma função em Python que recebe como argumento o UF da consulta e o tipo de interessado (```'Estado'```ou ```Município```), e que devolve os dados da consulta no formato *DataFrame*.\n",
    "2. Quantas solicitações para o Estado podem ser consultadas para Minas Gerais com *status* em 'Arquivado por decurso de prazo' estão registradas?\n",
    "3. Qual é o município da Bahia com mais solicitações deferidas?\n",
    "4. Salve um arquivo .csv com os dados de solicitações da Bahia, com interessado = 'Estado'"
   ]
  },
  {
   "cell_type": "code",
   "execution_count": null,
   "metadata": {},
   "outputs": [],
   "source": [
    "#   Faça uma função em Python que recebe como argumento o UF da consulta e o tipo de \n",
    "#   interessado ('Estado'ou Município), e que devolve os dados da consulta no formato DataFrame.\n",
    "\n",
    "def URL(estado:str, interessado:str):\n",
    "    df = pd.DataFrame\n",
    "    if interessado == 'M' or interessado == 'm':\n",
    "        local = 'Munic%C3%ADpio'\n",
    "    elif interessado == 'E'or interessado == 'e':\n",
    "        local = 'Estado'\n",
    "    url = 'https://apidatalake.tesouro.gov.br/ords/sadipem/tt/pvl?uf='+estado+'&tipo_interessado='+local\n",
    "    rq = requests.get(url)\n",
    "    dados = rq.json()\n",
    "    df = pd.DataFrame(dados['items'])\n",
    "    return df"
   ]
  },
  {
   "cell_type": "code",
   "execution_count": null,
   "metadata": {},
   "outputs": [],
   "source": [
    "#Quantas solicitações para o Estado podem ser consultadas para Minas Gerais com status em \n",
    "#'Arquivado por decurso de prazo' estão registradas?\n",
    "df = URL('MG', 'e')\n",
    "df[df['status']=='Arquivado por decurso de prazo'].count()"
   ]
  },
  {
   "cell_type": "code",
   "execution_count": null,
   "metadata": {},
   "outputs": [],
   "source": [
    "#Qual é o município da Bahia com mais solicitações deferidas?\n",
    "df = URL('BA','m')\n",
    "var = df[df['status']=='Deferido'].interessado.value_counts()\n",
    "display(var)"
   ]
  },
  {
   "cell_type": "code",
   "execution_count": null,
   "metadata": {},
   "outputs": [],
   "source": [
    "#Salve um arquivo .csv com os dados de solicitações da Bahia, com interessado = 'Estado'\n",
    "df = URL('BA', 'e')\n",
    "df.to_csv('dados_BA.csv')"
   ]
  }
 ],
 "metadata": {
  "colab": {
   "name": "Mod04 Tarefa aulas 06 a 08.ipynb",
   "provenance": []
  },
  "kernelspec": {
   "display_name": "Python 3",
   "language": "python",
   "name": "python3"
  },
  "language_info": {
   "codemirror_mode": {
    "name": "ipython",
    "version": 3
   },
   "file_extension": ".py",
   "mimetype": "text/x-python",
   "name": "python",
   "nbconvert_exporter": "python",
   "pygments_lexer": "ipython3",
   "version": "3.8.8"
  }
 },
 "nbformat": 4,
 "nbformat_minor": 1
}
